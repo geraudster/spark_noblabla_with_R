{
 "cells": [
  {
   "cell_type": "markdown",
   "metadata": {},
   "source": [
    "### <center>Data Munging with Apache Spark: Using Spark-CSV and exploring data, _with R_.</center>\n",
    "<center>@geraudster</center>\n",
    "\n",
    "![TDS Logo](http://photos1.meetupstatic.com/photos/event/8/a/5/2/global_434255410.jpeg)\n",
    "\n",
    "\n",
    "Manual loading and saving CSV files using RDDs is a cumbersome and error-prone process. Fortunately, Spark ecosystem is growing fast and there is a library for parsing and querying CSV data with Apache Spark, for Spark SQL and DataFrames. See https://github.com/databricks/spark-csv\n",
    "\n",
    "Note: In order to use this library you have to start pyspark with `--packages com.databricks:spark-csv_2.11:1.3.0` option."
   ]
  },
  {
   "cell_type": "markdown",
   "metadata": {},
   "source": [
    "First, we will initialize the Spark context (sc) by setting some environment variables and loading the _SparkR_ package:"
   ]
  },
  {
   "cell_type": "code",
   "execution_count": 2,
   "metadata": {
    "collapsed": false
   },
   "outputs": [
    {
     "name": "stderr",
     "output_type": "stream",
     "text": [
      "\n",
      "Attaching package: ‘SparkR’\n",
      "\n",
      "The following objects are masked from ‘package:stats’:\n",
      "\n",
      "    cov, filter, lag, na.omit, predict, sd, var\n",
      "\n",
      "The following objects are masked from ‘package:base’:\n",
      "\n",
      "    colnames, colnames<-, endsWith, intersect, rank, rbind, sample,\n",
      "    startsWith, subset, summary, table, transform\n",
      "\n"
     ]
    },
    {
     "name": "stdout",
     "output_type": "stream",
     "text": [
      "Launching java with spark-submit command /opt/spark/spark-1.6.1-bin-hadoop2.6/bin/spark-submit   \"--packages\" \"com.databricks:spark-csv_2.11:1.3.0\" \"sparkr-shell\" /tmp/RtmpLC3Tz5/backend_port59373333e6 \n"
     ]
    }
   ],
   "source": [
    "# Set this to where Spark is installed\n",
    "Sys.setenv(SPARK_HOME=\"/opt/spark/spark-1.6.1-bin-hadoop2.6\")\n",
    "Sys.setenv('SPARKR_SUBMIT_ARGS'='\"--packages\" \"com.databricks:spark-csv_2.11:1.3.0\" \"sparkr-shell\"')\n",
    "\n",
    "# This line loads SparkR from the installed directory\n",
    ".libPaths(c(file.path(Sys.getenv(\"SPARK_HOME\"), \"R\", \"lib\"), .libPaths()))\n",
    "\n",
    "# Load the SparkR library\n",
    "library(SparkR)\n",
    "sc <- sparkR.init(master=\"local[*]\")"
   ]
  },
  {
   "cell_type": "markdown",
   "metadata": {},
   "source": [
    "### Loading CSV with Spark-CSV library"
   ]
  },
  {
   "cell_type": "code",
   "execution_count": 3,
   "metadata": {
    "collapsed": false
   },
   "outputs": [],
   "source": [
    "sqlContext <- sparkRSQL.init(sc)\n",
    "bikes <- read.df(sqlContext,\n",
    "                 path = 'data/bike_sharing/usage_hourly.csv',\n",
    "                 source = 'com.databricks.spark.csv',\n",
    "                 header = 'true',\n",
    "                 inferschema = 'true')"
   ]
  },
  {
   "cell_type": "markdown",
   "metadata": {},
   "source": [
    "Print inferred shema:"
   ]
  },
  {
   "cell_type": "code",
   "execution_count": 4,
   "metadata": {
    "collapsed": false
   },
   "outputs": [
    {
     "name": "stdout",
     "output_type": "stream",
     "text": [
      "root\n",
      " |-- datetime: timestamp (nullable = true)\n",
      " |-- season: string (nullable = true)\n",
      " |-- holiday: integer (nullable = true)\n",
      " |-- workingday: integer (nullable = true)\n",
      " |-- casual: integer (nullable = true)\n",
      " |-- registered: integer (nullable = true)\n",
      " |-- count: integer (nullable = true)\n"
     ]
    }
   ],
   "source": [
    "printSchema(bikes)"
   ]
  },
  {
   "cell_type": "markdown",
   "metadata": {},
   "source": [
    "We can also use `str` function to see R types:"
   ]
  },
  {
   "cell_type": "code",
   "execution_count": 5,
   "metadata": {
    "collapsed": false
   },
   "outputs": [
    {
     "name": "stdout",
     "output_type": "stream",
     "text": [
      "'DataFrame': 7 variables:\n",
      " $ datetime  : POSIXct 2011-01-01 00:00:00 2011-01-01 01:00:00 2011-01-01 02:00:00 2011-01-01 03:00:00 2011-01-01 04:00:\n",
      " $ season    : chr \"springer\" \"springer\" \"springer\" \"springer\" \"springer\" \"springer\"\n",
      " $ holiday   : int 0 0 0 0 0 0\n",
      " $ workingday: int 0 0 0 0 0 0\n",
      " $ casual    : int 3 8 5 3 0 0\n",
      " $ registered: int 13 32 27 10 1 1\n",
      " $ count     : int 16 40 32 13 1 1\n"
     ]
    }
   ],
   "source": [
    "str(bikes)"
   ]
  },
  {
   "cell_type": "markdown",
   "metadata": {},
   "source": [
    "Show 5 first rows:"
   ]
  },
  {
   "cell_type": "code",
   "execution_count": 6,
   "metadata": {
    "collapsed": false
   },
   "outputs": [
    {
     "data": {
      "text/html": [
       "<table>\n",
       "<thead><tr><th></th><th scope=col>datetime</th><th scope=col>season</th><th scope=col>holiday</th><th scope=col>workingday</th><th scope=col>casual</th><th scope=col>registered</th><th scope=col>count</th></tr></thead>\n",
       "<tbody>\n",
       "\t<tr><th scope=row>1</th><td>2011-01-01 00:00:00</td><td>springer           </td><td>0                  </td><td>0                  </td><td>3                  </td><td>13                 </td><td>16                 </td></tr>\n",
       "\t<tr><th scope=row>2</th><td>2011-01-01 01:00:00</td><td>springer           </td><td>0                  </td><td>0                  </td><td>8                  </td><td>32                 </td><td>40                 </td></tr>\n",
       "\t<tr><th scope=row>3</th><td>2011-01-01 02:00:00</td><td>springer           </td><td>0                  </td><td>0                  </td><td>5                  </td><td>27                 </td><td>32                 </td></tr>\n",
       "\t<tr><th scope=row>4</th><td>2011-01-01 03:00:00</td><td>springer           </td><td>0                  </td><td>0                  </td><td>3                  </td><td>10                 </td><td>13                 </td></tr>\n",
       "\t<tr><th scope=row>5</th><td>2011-01-01 04:00:00</td><td>springer           </td><td>0                  </td><td>0                  </td><td>0                  </td><td>1                  </td><td>1                  </td></tr>\n",
       "</tbody>\n",
       "</table>\n"
      ],
      "text/latex": [
       "\\begin{tabular}{r|lllllll}\n",
       "  & datetime & season & holiday & workingday & casual & registered & count\\\\\n",
       "\\hline\n",
       "\t1 & 2011-01-01 00:00:00 & springer            & 0                   & 0                   & 3                   & 13                  & 16                 \\\\\n",
       "\t2 & 2011-01-01 01:00:00 & springer            & 0                   & 0                   & 8                   & 32                  & 40                 \\\\\n",
       "\t3 & 2011-01-01 02:00:00 & springer            & 0                   & 0                   & 5                   & 27                  & 32                 \\\\\n",
       "\t4 & 2011-01-01 03:00:00 & springer            & 0                   & 0                   & 3                   & 10                  & 13                 \\\\\n",
       "\t5 & 2011-01-01 04:00:00 & springer            & 0                   & 0                   & 0                   & 1                   & 1                  \\\\\n",
       "\\end{tabular}\n"
      ],
      "text/plain": [
       "             datetime   season holiday workingday casual registered count\n",
       "1 2011-01-01 00:00:00 springer       0          0      3         13    16\n",
       "2 2011-01-01 01:00:00 springer       0          0      8         32    40\n",
       "3 2011-01-01 02:00:00 springer       0          0      5         27    32\n",
       "4 2011-01-01 03:00:00 springer       0          0      3         10    13\n",
       "5 2011-01-01 04:00:00 springer       0          0      0          1     1"
      ]
     },
     "metadata": {},
     "output_type": "display_data"
    }
   ],
   "source": [
    "#options(jupyter.display_mimetypes = 'text/plain')\n",
    "head(bikes, 5)"
   ]
  },
  {
   "cell_type": "markdown",
   "metadata": {},
   "source": [
    "Convert columns `holiday` and `workingday` from numeric to boolean"
   ]
  },
  {
   "cell_type": "code",
   "execution_count": 7,
   "metadata": {
    "collapsed": true
   },
   "outputs": [],
   "source": [
    "bikes$holiday <- bikes$holiday == 1\n",
    "bikes$workingday <- bikes$workingday == 1"
   ]
  },
  {
   "cell_type": "code",
   "execution_count": 8,
   "metadata": {
    "collapsed": false
   },
   "outputs": [
    {
     "data": {
      "text/html": [
       "<table>\n",
       "<thead><tr><th></th><th scope=col>datetime</th><th scope=col>season</th><th scope=col>holiday</th><th scope=col>workingday</th><th scope=col>casual</th><th scope=col>registered</th><th scope=col>count</th></tr></thead>\n",
       "<tbody>\n",
       "\t<tr><th scope=row>1</th><td>2011-01-01 00:00:00</td><td>springer           </td><td>FALSE              </td><td>FALSE              </td><td>3                  </td><td>13                 </td><td>16                 </td></tr>\n",
       "\t<tr><th scope=row>2</th><td>2011-01-01 01:00:00</td><td>springer           </td><td>FALSE              </td><td>FALSE              </td><td>8                  </td><td>32                 </td><td>40                 </td></tr>\n",
       "\t<tr><th scope=row>3</th><td>2011-01-01 02:00:00</td><td>springer           </td><td>FALSE              </td><td>FALSE              </td><td>5                  </td><td>27                 </td><td>32                 </td></tr>\n",
       "\t<tr><th scope=row>4</th><td>2011-01-01 03:00:00</td><td>springer           </td><td>FALSE              </td><td>FALSE              </td><td>3                  </td><td>10                 </td><td>13                 </td></tr>\n",
       "\t<tr><th scope=row>5</th><td>2011-01-01 04:00:00</td><td>springer           </td><td>FALSE              </td><td>FALSE              </td><td>0                  </td><td>1                  </td><td>1                  </td></tr>\n",
       "\t<tr><th scope=row>6</th><td>2011-01-01 05:00:00</td><td>springer           </td><td>FALSE              </td><td>FALSE              </td><td>0                  </td><td>1                  </td><td>1                  </td></tr>\n",
       "</tbody>\n",
       "</table>\n"
      ],
      "text/latex": [
       "\\begin{tabular}{r|lllllll}\n",
       "  & datetime & season & holiday & workingday & casual & registered & count\\\\\n",
       "\\hline\n",
       "\t1 & 2011-01-01 00:00:00 & springer            & FALSE               & FALSE               & 3                   & 13                  & 16                 \\\\\n",
       "\t2 & 2011-01-01 01:00:00 & springer            & FALSE               & FALSE               & 8                   & 32                  & 40                 \\\\\n",
       "\t3 & 2011-01-01 02:00:00 & springer            & FALSE               & FALSE               & 5                   & 27                  & 32                 \\\\\n",
       "\t4 & 2011-01-01 03:00:00 & springer            & FALSE               & FALSE               & 3                   & 10                  & 13                 \\\\\n",
       "\t5 & 2011-01-01 04:00:00 & springer            & FALSE               & FALSE               & 0                   & 1                   & 1                  \\\\\n",
       "\t6 & 2011-01-01 05:00:00 & springer            & FALSE               & FALSE               & 0                   & 1                   & 1                  \\\\\n",
       "\\end{tabular}\n"
      ],
      "text/plain": [
       "             datetime   season holiday workingday casual registered count\n",
       "1 2011-01-01 00:00:00 springer   FALSE      FALSE      3         13    16\n",
       "2 2011-01-01 01:00:00 springer   FALSE      FALSE      8         32    40\n",
       "3 2011-01-01 02:00:00 springer   FALSE      FALSE      5         27    32\n",
       "4 2011-01-01 03:00:00 springer   FALSE      FALSE      3         10    13\n",
       "5 2011-01-01 04:00:00 springer   FALSE      FALSE      0          1     1\n",
       "6 2011-01-01 05:00:00 springer   FALSE      FALSE      0          1     1"
      ]
     },
     "metadata": {},
     "output_type": "display_data"
    }
   ],
   "source": [
    "head(bikes)"
   ]
  },
  {
   "cell_type": "markdown",
   "metadata": {},
   "source": [
    "#### Now, load weather data"
   ]
  },
  {
   "cell_type": "code",
   "execution_count": 9,
   "metadata": {
    "collapsed": false
   },
   "outputs": [],
   "source": [
    "weather <- read.df(sqlContext,\n",
    "                   path = 'data/bike_sharing/weather.csv',\n",
    "                   source = 'com.databricks.spark.csv',\n",
    "                   header = 'true',\n",
    "                   inferschema = 'true')"
   ]
  },
  {
   "cell_type": "code",
   "execution_count": 10,
   "metadata": {
    "collapsed": false
   },
   "outputs": [
    {
     "name": "stdout",
     "output_type": "stream",
     "text": [
      "root\n",
      " |-- date: string (nullable = true)\n",
      " |-- hour: integer (nullable = true)\n",
      " |-- weather: string (nullable = true)\n",
      " |-- temp: double (nullable = true)\n",
      " |-- atemp: double (nullable = true)\n",
      " |-- humidity: double (nullable = true)\n",
      " |-- windspeed: double (nullable = true)\n"
     ]
    }
   ],
   "source": [
    "printSchema(weather)"
   ]
  },
  {
   "cell_type": "code",
   "execution_count": 11,
   "metadata": {
    "collapsed": false
   },
   "outputs": [
    {
     "data": {
      "text/html": [
       "<table>\n",
       "<thead><tr><th></th><th scope=col>date</th><th scope=col>hour</th><th scope=col>weather</th><th scope=col>temp</th><th scope=col>atemp</th><th scope=col>humidity</th><th scope=col>windspeed</th></tr></thead>\n",
       "<tbody>\n",
       "\t<tr><th scope=row>1</th><td>2011-01-01                                     </td><td>0                                              </td><td>Clear, Few clouds, Partly cloudy, Partly cloudy</td><td>9.84                                           </td><td>14.395                                         </td><td>81                                             </td><td>0                                              </td></tr>\n",
       "\t<tr><th scope=row>2</th><td>2011-01-01                                     </td><td>1                                              </td><td>Clear, Few clouds, Partly cloudy, Partly cloudy</td><td>9.02                                           </td><td>13.635                                         </td><td>80                                             </td><td>0                                              </td></tr>\n",
       "\t<tr><th scope=row>3</th><td>2011-01-01                                     </td><td>2                                              </td><td>Clear, Few clouds, Partly cloudy, Partly cloudy</td><td>9.02                                           </td><td>13.635                                         </td><td>80                                             </td><td>0                                              </td></tr>\n",
       "\t<tr><th scope=row>4</th><td>2011-01-01                                     </td><td>3                                              </td><td>Clear, Few clouds, Partly cloudy, Partly cloudy</td><td>9.84                                           </td><td>14.395                                         </td><td>75                                             </td><td>0                                              </td></tr>\n",
       "\t<tr><th scope=row>5</th><td>2011-01-01                                     </td><td>4                                              </td><td>Clear, Few clouds, Partly cloudy, Partly cloudy</td><td>9.84                                           </td><td>14.395                                         </td><td>75                                             </td><td>0                                              </td></tr>\n",
       "\t<tr><th scope=row>6</th><td>2011-01-01                                                  </td><td>5                                                           </td><td>Mist + Cloudy, Mist + Broken clouds, Mist + Few clouds, Mist</td><td>9.84                                                        </td><td>12.88                                                       </td><td>75                                                          </td><td>6.003                                                       </td></tr>\n",
       "</tbody>\n",
       "</table>\n"
      ],
      "text/latex": [
       "\\begin{tabular}{r|lllllll}\n",
       "  & date & hour & weather & temp & atemp & humidity & windspeed\\\\\n",
       "\\hline\n",
       "\t1 & 2011-01-01                                      & 0                                               & Clear, Few clouds, Partly cloudy, Partly cloudy & 9.84                                            & 14.395                                          & 81                                              & 0                                              \\\\\n",
       "\t2 & 2011-01-01                                      & 1                                               & Clear, Few clouds, Partly cloudy, Partly cloudy & 9.02                                            & 13.635                                          & 80                                              & 0                                              \\\\\n",
       "\t3 & 2011-01-01                                      & 2                                               & Clear, Few clouds, Partly cloudy, Partly cloudy & 9.02                                            & 13.635                                          & 80                                              & 0                                              \\\\\n",
       "\t4 & 2011-01-01                                      & 3                                               & Clear, Few clouds, Partly cloudy, Partly cloudy & 9.84                                            & 14.395                                          & 75                                              & 0                                              \\\\\n",
       "\t5 & 2011-01-01                                      & 4                                               & Clear, Few clouds, Partly cloudy, Partly cloudy & 9.84                                            & 14.395                                          & 75                                              & 0                                              \\\\\n",
       "\t6 & 2011-01-01                                                   & 5                                                            & Mist + Cloudy, Mist + Broken clouds, Mist + Few clouds, Mist & 9.84                                                         & 12.88                                                        & 75                                                           & 6.003                                                       \\\\\n",
       "\\end{tabular}\n"
      ],
      "text/plain": [
       "        date hour                                                      weather\n",
       "1 2011-01-01    0              Clear, Few clouds, Partly cloudy, Partly cloudy\n",
       "2 2011-01-01    1              Clear, Few clouds, Partly cloudy, Partly cloudy\n",
       "3 2011-01-01    2              Clear, Few clouds, Partly cloudy, Partly cloudy\n",
       "4 2011-01-01    3              Clear, Few clouds, Partly cloudy, Partly cloudy\n",
       "5 2011-01-01    4              Clear, Few clouds, Partly cloudy, Partly cloudy\n",
       "6 2011-01-01    5 Mist + Cloudy, Mist + Broken clouds, Mist + Few clouds, Mist\n",
       "  temp  atemp humidity windspeed\n",
       "1 9.84 14.395       81     0.000\n",
       "2 9.02 13.635       80     0.000\n",
       "3 9.02 13.635       80     0.000\n",
       "4 9.84 14.395       75     0.000\n",
       "5 9.84 14.395       75     0.000\n",
       "6 9.84 12.880       75     6.003"
      ]
     },
     "metadata": {},
     "output_type": "display_data"
    }
   ],
   "source": [
    "head(weather)"
   ]
  },
  {
   "cell_type": "markdown",
   "metadata": {},
   "source": [
    "#### Computes very basic statistics for numeric columns."
   ]
  },
  {
   "cell_type": "code",
   "execution_count": 12,
   "metadata": {
    "collapsed": false
   },
   "outputs": [
    {
     "data": {
      "text/html": [
       "<table>\n",
       "<thead><tr><th></th><th scope=col>summary</th><th scope=col>date</th><th scope=col>hour</th><th scope=col>weather</th><th scope=col>temp</th><th scope=col>atemp</th><th scope=col>humidity</th><th scope=col>windspeed</th></tr></thead>\n",
       "<tbody>\n",
       "\t<tr><th scope=row>1</th><td>count</td><td>17379</td><td>17379</td><td>17379</td><td>17379</td><td>17379</td><td>17379</td><td>17379</td></tr>\n",
       "\t<tr><th scope=row>2</th><td>mean              </td><td>NA                </td><td>11.546751826917545</td><td>NA                </td><td>20.376473905287963</td><td>23.78875510673787 </td><td>62.722883940387824</td><td>12.73647350250328 </td></tr>\n",
       "\t<tr><th scope=row>3</th><td>stddev           </td><td>NA               </td><td>6.914405095264506</td><td>NA               </td><td>7.894800971238591</td><td>8.592510781767942</td><td>19.29298340629151</td><td>8.19677122859822 </td></tr>\n",
       "\t<tr><th scope=row>4</th><td>min                                            </td><td>2011-01-01                                     </td><td>0                                              </td><td>Clear, Few clouds, Partly cloudy, Partly cloudy</td><td>0.82                                           </td><td>0.0                                            </td><td>0.0                                            </td><td>0.0                                            </td></tr>\n",
       "\t<tr><th scope=row>5</th><td>max                                                         </td><td>2012-12-31                                                  </td><td>23                                                          </td><td>Mist + Cloudy, Mist + Broken clouds, Mist + Few clouds, Mist</td><td>41.0                                                        </td><td>50.0                                                        </td><td>100.0                                                       </td><td>56.997                                                      </td></tr>\n",
       "</tbody>\n",
       "</table>\n"
      ],
      "text/latex": [
       "\\begin{tabular}{r|llllllll}\n",
       "  & summary & date & hour & weather & temp & atemp & humidity & windspeed\\\\\n",
       "\\hline\n",
       "\t1 & count & 17379 & 17379 & 17379 & 17379 & 17379 & 17379 & 17379\\\\\n",
       "\t2 & mean               & NA                 & 11.546751826917545 & NA                 & 20.376473905287963 & 23.78875510673787  & 62.722883940387824 & 12.73647350250328 \\\\\n",
       "\t3 & stddev            & NA                & 6.914405095264506 & NA                & 7.894800971238591 & 8.592510781767942 & 19.29298340629151 & 8.19677122859822 \\\\\n",
       "\t4 & min                                             & 2011-01-01                                      & 0                                               & Clear, Few clouds, Partly cloudy, Partly cloudy & 0.82                                            & 0.0                                             & 0.0                                             & 0.0                                            \\\\\n",
       "\t5 & max                                                          & 2012-12-31                                                   & 23                                                           & Mist + Cloudy, Mist + Broken clouds, Mist + Few clouds, Mist & 41.0                                                         & 50.0                                                         & 100.0                                                        & 56.997                                                      \\\\\n",
       "\\end{tabular}\n"
      ],
      "text/plain": [
       "  summary       date               hour\n",
       "1   count      17379              17379\n",
       "2    mean       <NA> 11.546751826917545\n",
       "3  stddev       <NA>  6.914405095264506\n",
       "4     min 2011-01-01                  0\n",
       "5     max 2012-12-31                 23\n",
       "                                                       weather\n",
       "1                                                        17379\n",
       "2                                                         <NA>\n",
       "3                                                         <NA>\n",
       "4              Clear, Few clouds, Partly cloudy, Partly cloudy\n",
       "5 Mist + Cloudy, Mist + Broken clouds, Mist + Few clouds, Mist\n",
       "                temp             atemp           humidity         windspeed\n",
       "1              17379             17379              17379             17379\n",
       "2 20.376473905287963 23.78875510673787 62.722883940387824 12.73647350250328\n",
       "3  7.894800971238591 8.592510781767942  19.29298340629151  8.19677122859822\n",
       "4               0.82               0.0                0.0               0.0\n",
       "5               41.0              50.0              100.0            56.997"
      ]
     },
     "metadata": {},
     "output_type": "display_data"
    }
   ],
   "source": [
    "collect(summary(weather))"
   ]
  },
  {
   "cell_type": "markdown",
   "metadata": {},
   "source": [
    "### Join bikes usage and weather"
   ]
  },
  {
   "cell_type": "code",
   "execution_count": 13,
   "metadata": {
    "collapsed": false
   },
   "outputs": [
    {
     "data": {
      "text/html": [
       "<table>\n",
       "<thead><tr><th></th><th scope=col>datetime</th><th scope=col>season</th><th scope=col>holiday</th><th scope=col>workingday</th><th scope=col>weather</th><th scope=col>temp</th><th scope=col>atemp</th><th scope=col>humidity</th><th scope=col>windspeed</th><th scope=col>casual</th><th scope=col>registered</th><th scope=col>count</th></tr></thead>\n",
       "<tbody>\n",
       "\t<tr><th scope=row>1</th><td>2011-01-01 00:00:00                            </td><td>springer                                       </td><td>FALSE                                          </td><td>FALSE                                          </td><td>Clear, Few clouds, Partly cloudy, Partly cloudy</td><td>9.84                                           </td><td>14.395                                         </td><td>81                                             </td><td>0                                              </td><td>3                                              </td><td>13                                             </td><td>16                                             </td></tr>\n",
       "\t<tr><th scope=row>2</th><td>2011-01-01 01:00:00                            </td><td>springer                                       </td><td>FALSE                                          </td><td>FALSE                                          </td><td>Clear, Few clouds, Partly cloudy, Partly cloudy</td><td>9.02                                           </td><td>13.635                                         </td><td>80                                             </td><td>0                                              </td><td>8                                              </td><td>32                                             </td><td>40                                             </td></tr>\n",
       "\t<tr><th scope=row>3</th><td>2011-01-01 02:00:00                            </td><td>springer                                       </td><td>FALSE                                          </td><td>FALSE                                          </td><td>Clear, Few clouds, Partly cloudy, Partly cloudy</td><td>9.02                                           </td><td>13.635                                         </td><td>80                                             </td><td>0                                              </td><td>5                                              </td><td>27                                             </td><td>32                                             </td></tr>\n",
       "\t<tr><th scope=row>4</th><td>2011-01-01 03:00:00                            </td><td>springer                                       </td><td>FALSE                                          </td><td>FALSE                                          </td><td>Clear, Few clouds, Partly cloudy, Partly cloudy</td><td>9.84                                           </td><td>14.395                                         </td><td>75                                             </td><td>0                                              </td><td>3                                              </td><td>10                                             </td><td>13                                             </td></tr>\n",
       "\t<tr><th scope=row>5</th><td>2011-01-01 04:00:00                            </td><td>springer                                       </td><td>FALSE                                          </td><td>FALSE                                          </td><td>Clear, Few clouds, Partly cloudy, Partly cloudy</td><td>9.84                                           </td><td>14.395                                         </td><td>75                                             </td><td>0                                              </td><td>0                                              </td><td>1                                              </td><td>1                                              </td></tr>\n",
       "\t<tr><th scope=row>6</th><td>2011-01-01 05:00:00                                         </td><td>springer                                                    </td><td>FALSE                                                       </td><td>FALSE                                                       </td><td>Mist + Cloudy, Mist + Broken clouds, Mist + Few clouds, Mist</td><td>9.84                                                        </td><td>12.88                                                       </td><td>75                                                          </td><td>6.003                                                       </td><td>0                                                           </td><td>1                                                           </td><td>1                                                           </td></tr>\n",
       "</tbody>\n",
       "</table>\n"
      ],
      "text/latex": [
       "\\begin{tabular}{r|llllllllllll}\n",
       "  & datetime & season & holiday & workingday & weather & temp & atemp & humidity & windspeed & casual & registered & count\\\\\n",
       "\\hline\n",
       "\t1 & 2011-01-01 00:00:00                             & springer                                        & FALSE                                           & FALSE                                           & Clear, Few clouds, Partly cloudy, Partly cloudy & 9.84                                            & 14.395                                          & 81                                              & 0                                               & 3                                               & 13                                              & 16                                             \\\\\n",
       "\t2 & 2011-01-01 01:00:00                             & springer                                        & FALSE                                           & FALSE                                           & Clear, Few clouds, Partly cloudy, Partly cloudy & 9.02                                            & 13.635                                          & 80                                              & 0                                               & 8                                               & 32                                              & 40                                             \\\\\n",
       "\t3 & 2011-01-01 02:00:00                             & springer                                        & FALSE                                           & FALSE                                           & Clear, Few clouds, Partly cloudy, Partly cloudy & 9.02                                            & 13.635                                          & 80                                              & 0                                               & 5                                               & 27                                              & 32                                             \\\\\n",
       "\t4 & 2011-01-01 03:00:00                             & springer                                        & FALSE                                           & FALSE                                           & Clear, Few clouds, Partly cloudy, Partly cloudy & 9.84                                            & 14.395                                          & 75                                              & 0                                               & 3                                               & 10                                              & 13                                             \\\\\n",
       "\t5 & 2011-01-01 04:00:00                             & springer                                        & FALSE                                           & FALSE                                           & Clear, Few clouds, Partly cloudy, Partly cloudy & 9.84                                            & 14.395                                          & 75                                              & 0                                               & 0                                               & 1                                               & 1                                              \\\\\n",
       "\t6 & 2011-01-01 05:00:00                                          & springer                                                     & FALSE                                                        & FALSE                                                        & Mist + Cloudy, Mist + Broken clouds, Mist + Few clouds, Mist & 9.84                                                         & 12.88                                                        & 75                                                           & 6.003                                                        & 0                                                            & 1                                                            & 1                                                           \\\\\n",
       "\\end{tabular}\n"
      ],
      "text/plain": [
       "             datetime   season holiday workingday\n",
       "1 2011-01-01 00:00:00 springer   FALSE      FALSE\n",
       "2 2011-01-01 01:00:00 springer   FALSE      FALSE\n",
       "3 2011-01-01 02:00:00 springer   FALSE      FALSE\n",
       "4 2011-01-01 03:00:00 springer   FALSE      FALSE\n",
       "5 2011-01-01 04:00:00 springer   FALSE      FALSE\n",
       "6 2011-01-01 05:00:00 springer   FALSE      FALSE\n",
       "                                                       weather temp  atemp\n",
       "1              Clear, Few clouds, Partly cloudy, Partly cloudy 9.84 14.395\n",
       "2              Clear, Few clouds, Partly cloudy, Partly cloudy 9.02 13.635\n",
       "3              Clear, Few clouds, Partly cloudy, Partly cloudy 9.02 13.635\n",
       "4              Clear, Few clouds, Partly cloudy, Partly cloudy 9.84 14.395\n",
       "5              Clear, Few clouds, Partly cloudy, Partly cloudy 9.84 14.395\n",
       "6 Mist + Cloudy, Mist + Broken clouds, Mist + Few clouds, Mist 9.84 12.880\n",
       "  humidity windspeed casual registered count\n",
       "1       81     0.000      3         13    16\n",
       "2       80     0.000      8         32    40\n",
       "3       80     0.000      5         27    32\n",
       "4       75     0.000      3         10    13\n",
       "5       75     0.000      0          1     1\n",
       "6       75     6.003      0          1     1"
      ]
     },
     "metadata": {},
     "output_type": "display_data"
    }
   ],
   "source": [
    "weather$w_datetime <- to_utc_timestamp(format_string('%s %02d:00', weather$date, weather$hour), 'UTC')\n",
    "bikes_weather <- select(join(bikes, weather, bikes$datetime == weather$w_datetime), # inner join\n",
    "                        c('datetime', 'season', 'holiday', 'workingday',  'weather', \n",
    "                         'temp', 'atemp','humidity','windspeed','casual', 'registered', 'count'))\n",
    "\n",
    "head(orderBy(bikes_weather, 'datetime'))"
   ]
  },
  {
   "cell_type": "markdown",
   "metadata": {},
   "source": [
    "Same, but in a more functional way:"
   ]
  },
  {
   "cell_type": "code",
   "execution_count": 14,
   "metadata": {
    "collapsed": false
   },
   "outputs": [
    {
     "data": {
      "text/html": [
       "<table>\n",
       "<thead><tr><th></th><th scope=col>datetime</th><th scope=col>season</th><th scope=col>holiday</th><th scope=col>workingday</th><th scope=col>weather</th><th scope=col>temp</th><th scope=col>atemp</th><th scope=col>humidity</th><th scope=col>windspeed</th><th scope=col>casual</th><th scope=col>registered</th><th scope=col>count</th></tr></thead>\n",
       "<tbody>\n",
       "\t<tr><th scope=row>1</th><td>2011-01-01 00:00:00                            </td><td>springer                                       </td><td>FALSE                                          </td><td>FALSE                                          </td><td>Clear, Few clouds, Partly cloudy, Partly cloudy</td><td>9.84                                           </td><td>14.395                                         </td><td>81                                             </td><td>0                                              </td><td>3                                              </td><td>13                                             </td><td>16                                             </td></tr>\n",
       "\t<tr><th scope=row>2</th><td>2011-01-01 01:00:00                            </td><td>springer                                       </td><td>FALSE                                          </td><td>FALSE                                          </td><td>Clear, Few clouds, Partly cloudy, Partly cloudy</td><td>9.02                                           </td><td>13.635                                         </td><td>80                                             </td><td>0                                              </td><td>8                                              </td><td>32                                             </td><td>40                                             </td></tr>\n",
       "\t<tr><th scope=row>3</th><td>2011-01-01 02:00:00                            </td><td>springer                                       </td><td>FALSE                                          </td><td>FALSE                                          </td><td>Clear, Few clouds, Partly cloudy, Partly cloudy</td><td>9.02                                           </td><td>13.635                                         </td><td>80                                             </td><td>0                                              </td><td>5                                              </td><td>27                                             </td><td>32                                             </td></tr>\n",
       "\t<tr><th scope=row>4</th><td>2011-01-01 03:00:00                            </td><td>springer                                       </td><td>FALSE                                          </td><td>FALSE                                          </td><td>Clear, Few clouds, Partly cloudy, Partly cloudy</td><td>9.84                                           </td><td>14.395                                         </td><td>75                                             </td><td>0                                              </td><td>3                                              </td><td>10                                             </td><td>13                                             </td></tr>\n",
       "\t<tr><th scope=row>5</th><td>2011-01-01 04:00:00                            </td><td>springer                                       </td><td>FALSE                                          </td><td>FALSE                                          </td><td>Clear, Few clouds, Partly cloudy, Partly cloudy</td><td>9.84                                           </td><td>14.395                                         </td><td>75                                             </td><td>0                                              </td><td>0                                              </td><td>1                                              </td><td>1                                              </td></tr>\n",
       "\t<tr><th scope=row>6</th><td>2011-01-01 05:00:00                                         </td><td>springer                                                    </td><td>FALSE                                                       </td><td>FALSE                                                       </td><td>Mist + Cloudy, Mist + Broken clouds, Mist + Few clouds, Mist</td><td>9.84                                                        </td><td>12.88                                                       </td><td>75                                                          </td><td>6.003                                                       </td><td>0                                                           </td><td>1                                                           </td><td>1                                                           </td></tr>\n",
       "</tbody>\n",
       "</table>\n"
      ],
      "text/latex": [
       "\\begin{tabular}{r|llllllllllll}\n",
       "  & datetime & season & holiday & workingday & weather & temp & atemp & humidity & windspeed & casual & registered & count\\\\\n",
       "\\hline\n",
       "\t1 & 2011-01-01 00:00:00                             & springer                                        & FALSE                                           & FALSE                                           & Clear, Few clouds, Partly cloudy, Partly cloudy & 9.84                                            & 14.395                                          & 81                                              & 0                                               & 3                                               & 13                                              & 16                                             \\\\\n",
       "\t2 & 2011-01-01 01:00:00                             & springer                                        & FALSE                                           & FALSE                                           & Clear, Few clouds, Partly cloudy, Partly cloudy & 9.02                                            & 13.635                                          & 80                                              & 0                                               & 8                                               & 32                                              & 40                                             \\\\\n",
       "\t3 & 2011-01-01 02:00:00                             & springer                                        & FALSE                                           & FALSE                                           & Clear, Few clouds, Partly cloudy, Partly cloudy & 9.02                                            & 13.635                                          & 80                                              & 0                                               & 5                                               & 27                                              & 32                                             \\\\\n",
       "\t4 & 2011-01-01 03:00:00                             & springer                                        & FALSE                                           & FALSE                                           & Clear, Few clouds, Partly cloudy, Partly cloudy & 9.84                                            & 14.395                                          & 75                                              & 0                                               & 3                                               & 10                                              & 13                                             \\\\\n",
       "\t5 & 2011-01-01 04:00:00                             & springer                                        & FALSE                                           & FALSE                                           & Clear, Few clouds, Partly cloudy, Partly cloudy & 9.84                                            & 14.395                                          & 75                                              & 0                                               & 0                                               & 1                                               & 1                                              \\\\\n",
       "\t6 & 2011-01-01 05:00:00                                          & springer                                                     & FALSE                                                        & FALSE                                                        & Mist + Cloudy, Mist + Broken clouds, Mist + Few clouds, Mist & 9.84                                                         & 12.88                                                        & 75                                                           & 6.003                                                        & 0                                                            & 1                                                            & 1                                                           \\\\\n",
       "\\end{tabular}\n"
      ],
      "text/plain": [
       "             datetime   season holiday workingday\n",
       "1 2011-01-01 00:00:00 springer   FALSE      FALSE\n",
       "2 2011-01-01 01:00:00 springer   FALSE      FALSE\n",
       "3 2011-01-01 02:00:00 springer   FALSE      FALSE\n",
       "4 2011-01-01 03:00:00 springer   FALSE      FALSE\n",
       "5 2011-01-01 04:00:00 springer   FALSE      FALSE\n",
       "6 2011-01-01 05:00:00 springer   FALSE      FALSE\n",
       "                                                       weather temp  atemp\n",
       "1              Clear, Few clouds, Partly cloudy, Partly cloudy 9.84 14.395\n",
       "2              Clear, Few clouds, Partly cloudy, Partly cloudy 9.02 13.635\n",
       "3              Clear, Few clouds, Partly cloudy, Partly cloudy 9.02 13.635\n",
       "4              Clear, Few clouds, Partly cloudy, Partly cloudy 9.84 14.395\n",
       "5              Clear, Few clouds, Partly cloudy, Partly cloudy 9.84 14.395\n",
       "6 Mist + Cloudy, Mist + Broken clouds, Mist + Few clouds, Mist 9.84 12.880\n",
       "  humidity windspeed casual registered count\n",
       "1       81     0.000      3         13    16\n",
       "2       80     0.000      8         32    40\n",
       "3       80     0.000      5         27    32\n",
       "4       75     0.000      3         10    13\n",
       "5       75     0.000      0          1     1\n",
       "6       75     6.003      0          1     1"
      ]
     },
     "metadata": {},
     "output_type": "display_data"
    }
   ],
   "source": [
    "library(magrittr)\n",
    "\n",
    "bikes_weather <- bikes %>%\n",
    "                 join(weather, bikes$datetime == weather$w_datetime) %>% # inner join\n",
    "                 select(c('datetime', 'season', 'holiday', 'workingday',  'weather', \n",
    "                         'temp', 'atemp','humidity','windspeed','casual', 'registered', 'count'))\n",
    "bikes_weather %>%\n",
    "    orderBy('datetime') %>%\n",
    "    head"
   ]
  },
  {
   "cell_type": "markdown",
   "metadata": {},
   "source": [
    "## Introducing Spark SQL\n",
    "\n",
    "Spark SQL is the Spark's interface for working with structured and semistructured data. Spark SQL makes it both easier and more efficient to load and query. Under the hood, Spark SQL is based on an extension of the RDD model caled DataFrame, ohh yes, you already know how to that :-) \n",
    "\n",
    "When programming against Spark SQL we have two entry points depending on whether we need Hive support. In this notebook we simply use `SQLContext`, which provides a basic subset of Spark SQL support that does not depend on Hive.\n",
    "\n",
    "For more detailed documentation: http://spark.apache.org/docs/latest/sql-programming-guide.html"
   ]
  },
  {
   "cell_type": "code",
   "execution_count": 15,
   "metadata": {
    "collapsed": true
   },
   "outputs": [],
   "source": [
    "registerTempTable(bikes_weather, 'bikes_weather')"
   ]
  },
  {
   "cell_type": "markdown",
   "metadata": {},
   "source": [
    "#### Count all records"
   ]
  },
  {
   "cell_type": "code",
   "execution_count": 16,
   "metadata": {
    "collapsed": false
   },
   "outputs": [
    {
     "data": {
      "text/html": [
       "<table>\n",
       "<thead><tr><th></th><th scope=col>_c0</th></tr></thead>\n",
       "<tbody>\n",
       "\t<tr><th scope=row>1</th><td>17379</td></tr>\n",
       "</tbody>\n",
       "</table>\n"
      ],
      "text/latex": [
       "\\begin{tabular}{r|l}\n",
       "  & \\_c0\\\\\n",
       "\\hline\n",
       "\t1 & 17379\\\\\n",
       "\\end{tabular}\n"
      ],
      "text/plain": [
       "    _c0\n",
       "1 17379"
      ]
     },
     "metadata": {},
     "output_type": "display_data"
    }
   ],
   "source": [
    "collect(sql(sqlContext, 'select count(*) from bikes_weather'))"
   ]
  },
  {
   "cell_type": "markdown",
   "metadata": {},
   "source": [
    "####  Select the 10 first records whose temperature is greather than 10 and less than 45. Display date with hour, season and number of rentals. "
   ]
  },
  {
   "cell_type": "code",
   "execution_count": 17,
   "metadata": {
    "collapsed": false
   },
   "outputs": [
    {
     "data": {
      "text/html": [
       "<table>\n",
       "<thead><tr><th></th><th scope=col>datetime</th><th scope=col>season</th><th scope=col>count</th></tr></thead>\n",
       "<tbody>\n",
       "\t<tr><th scope=row>1</th><td>2011-01-15 19:00:00</td><td>springer           </td><td>74                 </td></tr>\n",
       "\t<tr><th scope=row>2</th><td>2011-02-13 11:00:00</td><td>springer           </td><td>112                </td></tr>\n",
       "\t<tr><th scope=row>3</th><td>2011-03-04 22:00:00</td><td>springer           </td><td>44                 </td></tr>\n",
       "\t<tr><th scope=row>4</th><td>2011-03-20 10:00:00</td><td>springer           </td><td>136                </td></tr>\n",
       "\t<tr><th scope=row>5</th><td>2011-03-22 01:00:00</td><td>summer             </td><td>19                 </td></tr>\n",
       "\t<tr><th scope=row>6</th><td>2011-03-24 01:00:00</td><td>summer             </td><td>3                  </td></tr>\n",
       "\t<tr><th scope=row>7</th><td>2011-04-11 08:00:00</td><td>summer             </td><td>314                </td></tr>\n",
       "\t<tr><th scope=row>8</th><td>2011-05-30 15:00:00</td><td>summer             </td><td>311                </td></tr>\n",
       "\t<tr><th scope=row>9</th><td>2011-06-19 22:00:00</td><td>summer             </td><td>152                </td></tr>\n",
       "\t<tr><th scope=row>10</th><td>2011-07-03 20:00:00</td><td>fall               </td><td>176                </td></tr>\n",
       "</tbody>\n",
       "</table>\n"
      ],
      "text/latex": [
       "\\begin{tabular}{r|lll}\n",
       "  & datetime & season & count\\\\\n",
       "\\hline\n",
       "\t1 & 2011-01-15 19:00:00 & springer            & 74                 \\\\\n",
       "\t2 & 2011-02-13 11:00:00 & springer            & 112                \\\\\n",
       "\t3 & 2011-03-04 22:00:00 & springer            & 44                 \\\\\n",
       "\t4 & 2011-03-20 10:00:00 & springer            & 136                \\\\\n",
       "\t5 & 2011-03-22 01:00:00 & summer              & 19                 \\\\\n",
       "\t6 & 2011-03-24 01:00:00 & summer              & 3                  \\\\\n",
       "\t7 & 2011-04-11 08:00:00 & summer              & 314                \\\\\n",
       "\t8 & 2011-05-30 15:00:00 & summer              & 311                \\\\\n",
       "\t9 & 2011-06-19 22:00:00 & summer              & 152                \\\\\n",
       "\t10 & 2011-07-03 20:00:00 & fall                & 176                \\\\\n",
       "\\end{tabular}\n"
      ],
      "text/plain": [
       "              datetime   season count\n",
       "1  2011-01-15 19:00:00 springer    74\n",
       "2  2011-02-13 11:00:00 springer   112\n",
       "3  2011-03-04 22:00:00 springer    44\n",
       "4  2011-03-20 10:00:00 springer   136\n",
       "5  2011-03-22 01:00:00   summer    19\n",
       "6  2011-03-24 01:00:00   summer     3\n",
       "7  2011-04-11 08:00:00   summer   314\n",
       "8  2011-05-30 15:00:00   summer   311\n",
       "9  2011-06-19 22:00:00   summer   152\n",
       "10 2011-07-03 20:00:00     fall   176"
      ]
     },
     "metadata": {},
     "output_type": "display_data"
    }
   ],
   "source": [
    "collect(sql(sqlContext, '\n",
    "SELECT datetime, season, count\n",
    "FROM bikes_weather \n",
    "WHERE temp BETWEEN 10 AND 45\n",
    "LIMIT 10'))"
   ]
  },
  {
   "cell_type": "markdown",
   "metadata": {},
   "source": [
    "### SQL, old-fashioned? \n",
    "\n",
    "#### Not yet, let's practise: write a SQL statement which computes the average rentals per hour and day of week on the entire dataset.\n",
    "\n",
    "May you find this link useful: https://cwiki.apache.org/confluence/display/Hive/LanguageManual+UDF#LanguageManualUDF-DateFunctions"
   ]
  },
  {
   "cell_type": "code",
   "execution_count": 18,
   "metadata": {
    "collapsed": false
   },
   "outputs": [
    {
     "data": {
      "text/html": [
       "<table>\n",
       "<thead><tr><th></th><th scope=col>hour</th><th scope=col>weekday</th><th scope=col>avg_count</th></tr></thead>\n",
       "<tbody>\n",
       "\t<tr><th scope=row>1</th><td>18              </td><td>Monday          </td><td>481.346153846154</td></tr>\n",
       "\t<tr><th scope=row>2</th><td>7               </td><td>Saturday        </td><td>45.9619047619048</td></tr>\n",
       "\t<tr><th scope=row>3</th><td>10              </td><td>Thursday        </td><td>132.563106796117</td></tr>\n",
       "\t<tr><th scope=row>4</th><td>1               </td><td>Sunday          </td><td>77.4326923076923</td></tr>\n",
       "\t<tr><th scope=row>5</th><td>14              </td><td>Friday          </td><td>229.365384615385</td></tr>\n",
       "\t<tr><th scope=row>6</th><td>2               </td><td>Wednesday       </td><td>7.81372549019608</td></tr>\n",
       "</tbody>\n",
       "</table>\n"
      ],
      "text/latex": [
       "\\begin{tabular}{r|lll}\n",
       "  & hour & weekday & avg\\_count\\\\\n",
       "\\hline\n",
       "\t1 & 18               & Monday           & 481.346153846154\\\\\n",
       "\t2 & 7                & Saturday         & 45.9619047619048\\\\\n",
       "\t3 & 10               & Thursday         & 132.563106796117\\\\\n",
       "\t4 & 1                & Sunday           & 77.4326923076923\\\\\n",
       "\t5 & 14               & Friday           & 229.365384615385\\\\\n",
       "\t6 & 2                & Wednesday        & 7.81372549019608\\\\\n",
       "\\end{tabular}\n"
      ],
      "text/plain": [
       "  hour   weekday  avg_count\n",
       "1   18    Monday 481.346154\n",
       "2    7  Saturday  45.961905\n",
       "3   10  Thursday 132.563107\n",
       "4    1    Sunday  77.432692\n",
       "5   14    Friday 229.365385\n",
       "6    2 Wednesday   7.813725"
      ]
     },
     "metadata": {},
     "output_type": "display_data"
    }
   ],
   "source": [
    "sql_rentals_hour_weekday <- sql(sqlContext, \"\n",
    "SELECT HOUR(datetime) AS hour, date_format(datetime, 'EEEE') AS weekday, AVG(count) as avg_count\n",
    "FROM bikes_weather\n",
    "GROUP BY HOUR(datetime), date_format(datetime, 'EEEE')\n",
    "\")\n",
    "\n",
    "head(sql_rentals_hour_weekday)"
   ]
  },
  {
   "cell_type": "markdown",
   "metadata": {},
   "source": [
    "#### Now the same with Data Frame API"
   ]
  },
  {
   "cell_type": "code",
   "execution_count": 19,
   "metadata": {
    "collapsed": false
   },
   "outputs": [
    {
     "data": {
      "text/html": [
       "<table>\n",
       "<thead><tr><th></th><th scope=col>hour</th><th scope=col>weekday</th><th scope=col>avg(count)</th></tr></thead>\n",
       "<tbody>\n",
       "\t<tr><th scope=row>1</th><td>18              </td><td>Monday          </td><td>481.346153846154</td></tr>\n",
       "\t<tr><th scope=row>2</th><td>7               </td><td>Saturday        </td><td>45.9619047619048</td></tr>\n",
       "\t<tr><th scope=row>3</th><td>10              </td><td>Thursday        </td><td>132.563106796117</td></tr>\n",
       "\t<tr><th scope=row>4</th><td>1               </td><td>Sunday          </td><td>77.4326923076923</td></tr>\n",
       "\t<tr><th scope=row>5</th><td>14              </td><td>Friday          </td><td>229.365384615385</td></tr>\n",
       "\t<tr><th scope=row>6</th><td>2               </td><td>Wednesday       </td><td>7.81372549019608</td></tr>\n",
       "</tbody>\n",
       "</table>\n"
      ],
      "text/latex": [
       "\\begin{tabular}{r|lll}\n",
       "  & hour & weekday & avg(count)\\\\\n",
       "\\hline\n",
       "\t1 & 18               & Monday           & 481.346153846154\\\\\n",
       "\t2 & 7                & Saturday         & 45.9619047619048\\\\\n",
       "\t3 & 10               & Thursday         & 132.563106796117\\\\\n",
       "\t4 & 1                & Sunday           & 77.4326923076923\\\\\n",
       "\t5 & 14               & Friday           & 229.365384615385\\\\\n",
       "\t6 & 2                & Wednesday        & 7.81372549019608\\\\\n",
       "\\end{tabular}\n"
      ],
      "text/plain": [
       "  hour   weekday avg(count)\n",
       "1   18    Monday 481.346154\n",
       "2    7  Saturday  45.961905\n",
       "3   10  Thursday 132.563107\n",
       "4    1    Sunday  77.432692\n",
       "5   14    Friday 229.365385\n",
       "6    2 Wednesday   7.813725"
      ]
     },
     "metadata": {},
     "output_type": "display_data"
    }
   ],
   "source": [
    "df_rentals_hour_weekday <- bikes_weather %>%\n",
    "                           withColumn('hour', hour(.$datetime)) %>%\n",
    "                           withColumn('weekday', date_format(.$datetime, 'EEEE')) %>%\n",
    "                           groupBy('hour', 'weekday') %>%\n",
    "                           avg('count')\n",
    "head(df_rentals_hour_weekday)"
   ]
  },
  {
   "cell_type": "markdown",
   "metadata": {},
   "source": [
    "### Doing some Exploratory Data Analysis"
   ]
  },
  {
   "cell_type": "code",
   "execution_count": 30,
   "metadata": {
    "collapsed": false
   },
   "outputs": [
    {
     "data": {
      "text/html": [
       "<ol class=list-inline>\n",
       "\t<li>168</li>\n",
       "\t<li>3</li>\n",
       "</ol>\n"
      ],
      "text/latex": [
       "\\begin{enumerate*}\n",
       "\\item 168\n",
       "\\item 3\n",
       "\\end{enumerate*}\n"
      ],
      "text/markdown": [
       "1. 168\n",
       "2. 3\n",
       "\n",
       "\n"
      ],
      "text/plain": [
       "[1] 168   3"
      ]
     },
     "metadata": {},
     "output_type": "display_data"
    },
    {
     "data": {
      "text/html": [
       "<table>\n",
       "<thead><tr><th></th><th scope=col>summary</th><th scope=col>hour</th><th scope=col>weekday</th><th scope=col>avg(count)</th></tr></thead>\n",
       "<tbody>\n",
       "\t<tr><th scope=row>1</th><td>count</td><td>168  </td><td>168  </td><td>168  </td></tr>\n",
       "\t<tr><th scope=row>2</th><td>mean              </td><td>11.5              </td><td>NA                </td><td>188.46751630808345</td></tr>\n",
       "\t<tr><th scope=row>3</th><td>stddev            </td><td>6.942880728802077 </td><td>NA                </td><td>144.98111050393595</td></tr>\n",
       "\t<tr><th scope=row>4</th><td>min               </td><td>0                 </td><td>Friday            </td><td>4.1521739130434785</td></tr>\n",
       "\t<tr><th scope=row>5</th><td>max              </td><td>23               </td><td>Wednesday        </td><td>544.2788461538462</td></tr>\n",
       "</tbody>\n",
       "</table>\n"
      ],
      "text/latex": [
       "\\begin{tabular}{r|llll}\n",
       "  & summary & hour & weekday & avg(count)\\\\\n",
       "\\hline\n",
       "\t1 & count & 168   & 168   & 168  \\\\\n",
       "\t2 & mean               & 11.5               & NA                 & 188.46751630808345\\\\\n",
       "\t3 & stddev             & 6.942880728802077  & NA                 & 144.98111050393595\\\\\n",
       "\t4 & min                & 0                  & Friday             & 4.1521739130434785\\\\\n",
       "\t5 & max               & 23                & Wednesday         & 544.2788461538462\\\\\n",
       "\\end{tabular}\n"
      ],
      "text/plain": [
       "  summary              hour   weekday         avg(count)\n",
       "1   count               168       168                168\n",
       "2    mean              11.5      <NA> 188.46751630808345\n",
       "3  stddev 6.942880728802077      <NA> 144.98111050393595\n",
       "4     min                 0    Friday 4.1521739130434785\n",
       "5     max                23 Wednesday  544.2788461538462"
      ]
     },
     "metadata": {},
     "output_type": "display_data"
    }
   ],
   "source": [
    "dim(df_rentals_hour_weekday)\n",
    "collect(summary(df_rentals_hour_weekday))"
   ]
  },
  {
   "cell_type": "code",
   "execution_count": 43,
   "metadata": {
    "collapsed": true
   },
   "outputs": [],
   "source": [
    "library(ggplot2)\n",
    "r_df_rentals_hour_weekday <- as.data.frame(df_rentals_hour_weekday) # convert to R data.frame"
   ]
  },
  {
   "cell_type": "code",
   "execution_count": 58,
   "metadata": {
    "collapsed": false
   },
   "outputs": [
    {
     "data": {
      "text/plain": []
     },
     "metadata": {},
     "output_type": "display_data"
    },
    {
     "data": {
      "image/png": "[encoded data removed]",
      "image/svg+xml": [
       "<?xml version=\"1.0\" encoding=\"UTF-8\"?>\n",
       "<svg xmlns=\"http://www.w3.org/2000/svg\" xmlns:xlink=\"http://www.w3.org/1999/xlink\" width=\"504pt\" height=\"504pt\" viewBox=\"0 0 504 504\" version=\"1.1\">\n",
       "<defs>\n",
       "<g>\n",
       "<symbol overflow=\"visible\" id=\"glyph0-0\">\n",
       "<path style=\"stroke:none;\" d=\"M 0.453125 1.59375 L 0.453125 -6.34375 L 4.953125 -6.34375 L 4.953125 1.59375 Z M 0.953125 1.09375 L 4.453125 1.09375 L 4.453125 -5.84375 L 0.953125 -5.84375 Z M 0.953125 1.09375 \"/>\n",
       "</symbol>\n",
       "<symbol overflow=\"visible\" id=\"glyph0-1\">\n",
       "<path style=\"stroke:none;\" d=\"M 2.859375 -5.984375 C 2.398438 -5.984375 2.054688 -5.753906 1.828125 -5.296875 C 1.597656 -4.847656 1.484375 -4.175781 1.484375 -3.28125 C 1.484375 -2.375 1.597656 -1.695312 1.828125 -1.25 C 2.054688 -0.800781 2.398438 -0.578125 2.859375 -0.578125 C 3.316406 -0.578125 3.660156 -0.800781 3.890625 -1.25 C 4.117188 -1.695312 4.234375 -2.375 4.234375 -3.28125 C 4.234375 -4.175781 4.117188 -4.847656 3.890625 -5.296875 C 3.660156 -5.753906 3.316406 -5.984375 2.859375 -5.984375 Z M 2.859375 -6.6875 C 3.597656 -6.6875 4.160156 -6.394531 4.546875 -5.8125 C 4.929688 -5.226562 5.125 -4.382812 5.125 -3.28125 C 5.125 -2.175781 4.929688 -1.332031 4.546875 -0.75 C 4.160156 -0.164062 3.597656 0.125 2.859375 0.125 C 2.128906 0.125 1.566406 -0.164062 1.171875 -0.75 C 0.785156 -1.332031 0.59375 -2.175781 0.59375 -3.28125 C 0.59375 -4.382812 0.785156 -5.226562 1.171875 -5.8125 C 1.566406 -6.394531 2.128906 -6.6875 2.859375 -6.6875 Z M 2.859375 -6.6875 \"/>\n",
       "</symbol>\n",
       "<symbol overflow=\"visible\" id=\"glyph0-2\">\n",
       "<path style=\"stroke:none;\" d=\"M 1.734375 -0.75 L 4.828125 -0.75 L 4.828125 0 L 0.65625 0 L 0.65625 -0.75 C 1 -1.09375 1.457031 -1.554688 2.03125 -2.140625 C 2.613281 -2.734375 2.984375 -3.113281 3.140625 -3.28125 C 3.421875 -3.601562 3.613281 -3.875 3.71875 -4.09375 C 3.832031 -4.320312 3.890625 -4.539062 3.890625 -4.75 C 3.890625 -5.101562 3.769531 -5.390625 3.53125 -5.609375 C 3.289062 -5.828125 2.972656 -5.9375 2.578125 -5.9375 C 2.296875 -5.9375 2 -5.882812 1.6875 -5.78125 C 1.382812 -5.6875 1.054688 -5.539062 0.703125 -5.34375 L 0.703125 -6.25 C 1.054688 -6.382812 1.390625 -6.488281 1.703125 -6.5625 C 2.015625 -6.644531 2.300781 -6.6875 2.5625 -6.6875 C 3.238281 -6.6875 3.78125 -6.515625 4.1875 -6.171875 C 4.59375 -5.828125 4.796875 -5.375 4.796875 -4.8125 C 4.796875 -4.539062 4.742188 -4.28125 4.640625 -4.03125 C 4.535156 -3.789062 4.351562 -3.507812 4.09375 -3.1875 C 4.019531 -3.101562 3.785156 -2.859375 3.390625 -2.453125 C 2.992188 -2.046875 2.441406 -1.476562 1.734375 -0.75 Z M 1.734375 -0.75 \"/>\n",
       "</symbol>\n",
       "<symbol overflow=\"visible\" id=\"glyph0-3\">\n",
       "<path style=\"stroke:none;\" d=\"M 3.40625 -5.78125 L 1.15625 -2.28125 L 3.40625 -2.28125 Z M 3.171875 -6.5625 L 4.28125 -6.5625 L 4.28125 -2.28125 L 5.21875 -2.28125 L 5.21875 -1.546875 L 4.28125 -1.546875 L 4.28125 0 L 3.40625 0 L 3.40625 -1.546875 L 0.4375 -1.546875 L 0.4375 -2.40625 Z M 3.171875 -6.5625 \"/>\n",
       "</symbol>\n",
       "<symbol overflow=\"visible\" id=\"glyph0-4\">\n",
       "<path style=\"stroke:none;\" d=\"M 0.96875 -6.5625 L 4.453125 -6.5625 L 4.453125 -5.8125 L 1.78125 -5.8125 L 1.78125 -4.203125 C 1.914062 -4.242188 2.046875 -4.273438 2.171875 -4.296875 C 2.296875 -4.328125 2.425781 -4.34375 2.5625 -4.34375 C 3.289062 -4.34375 3.867188 -4.140625 4.296875 -3.734375 C 4.722656 -3.335938 4.9375 -2.796875 4.9375 -2.109375 C 4.9375 -1.398438 4.71875 -0.847656 4.28125 -0.453125 C 3.84375 -0.0664062 3.222656 0.125 2.421875 0.125 C 2.148438 0.125 1.867188 0.0976562 1.578125 0.046875 C 1.296875 0.00390625 1 -0.0625 0.6875 -0.15625 L 0.6875 -1.046875 C 0.957031 -0.898438 1.234375 -0.789062 1.515625 -0.71875 C 1.796875 -0.65625 2.09375 -0.625 2.40625 -0.625 C 2.914062 -0.625 3.316406 -0.753906 3.609375 -1.015625 C 3.898438 -1.285156 4.046875 -1.648438 4.046875 -2.109375 C 4.046875 -2.566406 3.898438 -2.925781 3.609375 -3.1875 C 3.316406 -3.457031 2.914062 -3.59375 2.40625 -3.59375 C 2.164062 -3.59375 1.925781 -3.566406 1.6875 -3.515625 C 1.457031 -3.460938 1.21875 -3.378906 0.96875 -3.265625 Z M 0.96875 -6.5625 \"/>\n",
       "</symbol>\n",
       "<symbol overflow=\"visible\" id=\"glyph0-5\">\n",
       "<path style=\"stroke:none;\" d=\"M 1.109375 -0.75 L 2.5625 -0.75 L 2.5625 -5.75 L 0.984375 -5.4375 L 0.984375 -6.25 L 2.5625 -6.5625 L 3.453125 -6.5625 L 3.453125 -0.75 L 4.890625 -0.75 L 4.890625 0 L 1.109375 0 Z M 1.109375 -0.75 \"/>\n",
       "</symbol>\n",
       "<symbol overflow=\"visible\" id=\"glyph0-6\">\n",
       "<path style=\"stroke:none;\" d=\"M 0.890625 -6.5625 L 4.65625 -6.5625 L 4.65625 -5.8125 L 1.765625 -5.8125 L 1.765625 -3.875 L 4.375 -3.875 L 4.375 -3.140625 L 1.765625 -3.140625 L 1.765625 0 L 0.890625 0 Z M 0.890625 -6.5625 \"/>\n",
       "</symbol>\n",
       "<symbol overflow=\"visible\" id=\"glyph0-7\">\n",
       "<path style=\"stroke:none;\" d=\"M 3.703125 -4.171875 C 3.609375 -4.222656 3.507812 -4.257812 3.40625 -4.28125 C 3.300781 -4.300781 3.179688 -4.3125 3.046875 -4.3125 C 2.585938 -4.3125 2.234375 -4.160156 1.984375 -3.859375 C 1.742188 -3.566406 1.625 -3.144531 1.625 -2.59375 L 1.625 0 L 0.8125 0 L 0.8125 -4.921875 L 1.625 -4.921875 L 1.625 -4.15625 C 1.800781 -4.457031 2.023438 -4.679688 2.296875 -4.828125 C 2.566406 -4.972656 2.894531 -5.046875 3.28125 -5.046875 C 3.34375 -5.046875 3.40625 -5.039062 3.46875 -5.03125 C 3.539062 -5.019531 3.617188 -5.007812 3.703125 -5 Z M 3.703125 -4.171875 \"/>\n",
       "</symbol>\n",
       "<symbol overflow=\"visible\" id=\"glyph0-8\">\n",
       "<path style=\"stroke:none;\" d=\"M 0.84375 -4.921875 L 1.65625 -4.921875 L 1.65625 0 L 0.84375 0 Z M 0.84375 -6.84375 L 1.65625 -6.84375 L 1.65625 -5.8125 L 0.84375 -5.8125 Z M 0.84375 -6.84375 \"/>\n",
       "</symbol>\n",
       "<symbol overflow=\"visible\" id=\"glyph0-9\">\n",
       "<path style=\"stroke:none;\" d=\"M 4.09375 -4.171875 L 4.09375 -6.84375 L 4.890625 -6.84375 L 4.890625 0 L 4.09375 0 L 4.09375 -0.734375 C 3.914062 -0.441406 3.695312 -0.222656 3.4375 -0.078125 C 3.175781 0.0546875 2.867188 0.125 2.515625 0.125 C 1.921875 0.125 1.4375 -0.109375 1.0625 -0.578125 C 0.6875 -1.054688 0.5 -1.679688 0.5 -2.453125 C 0.5 -3.222656 0.6875 -3.847656 1.0625 -4.328125 C 1.4375 -4.804688 1.921875 -5.046875 2.515625 -5.046875 C 2.867188 -5.046875 3.175781 -4.972656 3.4375 -4.828125 C 3.695312 -4.679688 3.914062 -4.460938 4.09375 -4.171875 Z M 1.328125 -2.453125 C 1.328125 -1.859375 1.445312 -1.390625 1.6875 -1.046875 C 1.9375 -0.710938 2.273438 -0.546875 2.703125 -0.546875 C 3.128906 -0.546875 3.46875 -0.710938 3.71875 -1.046875 C 3.96875 -1.390625 4.09375 -1.859375 4.09375 -2.453125 C 4.09375 -3.046875 3.96875 -3.507812 3.71875 -3.84375 C 3.46875 -4.1875 3.128906 -4.359375 2.703125 -4.359375 C 2.273438 -4.359375 1.9375 -4.1875 1.6875 -3.84375 C 1.445312 -3.507812 1.328125 -3.046875 1.328125 -2.453125 Z M 1.328125 -2.453125 \"/>\n",
       "</symbol>\n",
       "<symbol overflow=\"visible\" id=\"glyph0-10\">\n",
       "<path style=\"stroke:none;\" d=\"M 3.078125 -2.46875 C 2.429688 -2.46875 1.976562 -2.394531 1.71875 -2.25 C 1.46875 -2.101562 1.34375 -1.847656 1.34375 -1.484375 C 1.34375 -1.203125 1.4375 -0.972656 1.625 -0.796875 C 1.820312 -0.628906 2.082031 -0.546875 2.40625 -0.546875 C 2.851562 -0.546875 3.210938 -0.703125 3.484375 -1.015625 C 3.753906 -1.335938 3.890625 -1.765625 3.890625 -2.296875 L 3.890625 -2.46875 Z M 4.703125 -2.8125 L 4.703125 0 L 3.890625 0 L 3.890625 -0.75 C 3.703125 -0.445312 3.46875 -0.222656 3.1875 -0.078125 C 2.914062 0.0546875 2.582031 0.125 2.1875 0.125 C 1.6875 0.125 1.285156 -0.015625 0.984375 -0.296875 C 0.691406 -0.578125 0.546875 -0.957031 0.546875 -1.4375 C 0.546875 -1.988281 0.726562 -2.40625 1.09375 -2.6875 C 1.46875 -2.96875 2.019531 -3.109375 2.75 -3.109375 L 3.890625 -3.109375 L 3.890625 -3.1875 C 3.890625 -3.5625 3.765625 -3.847656 3.515625 -4.046875 C 3.273438 -4.253906 2.929688 -4.359375 2.484375 -4.359375 C 2.203125 -4.359375 1.925781 -4.320312 1.65625 -4.25 C 1.394531 -4.1875 1.144531 -4.085938 0.90625 -3.953125 L 0.90625 -4.703125 C 1.195312 -4.816406 1.484375 -4.898438 1.765625 -4.953125 C 2.046875 -5.015625 2.316406 -5.046875 2.578125 -5.046875 C 3.285156 -5.046875 3.816406 -4.859375 4.171875 -4.484375 C 4.523438 -4.117188 4.703125 -3.5625 4.703125 -2.8125 Z M 4.703125 -2.8125 \"/>\n",
       "</symbol>\n",
       "<symbol overflow=\"visible\" id=\"glyph0-11\">\n",
       "<path style=\"stroke:none;\" d=\"M 2.890625 0.453125 C 2.660156 1.046875 2.4375 1.429688 2.21875 1.609375 C 2.007812 1.785156 1.722656 1.875 1.359375 1.875 L 0.71875 1.875 L 0.71875 1.203125 L 1.1875 1.203125 C 1.40625 1.203125 1.578125 1.144531 1.703125 1.03125 C 1.828125 0.925781 1.960938 0.679688 2.109375 0.296875 L 2.265625 -0.078125 L 0.265625 -4.921875 L 1.125 -4.921875 L 2.65625 -1.078125 L 4.203125 -4.921875 L 5.0625 -4.921875 Z M 2.890625 0.453125 \"/>\n",
       "</symbol>\n",
       "<symbol overflow=\"visible\" id=\"glyph0-12\">\n",
       "<path style=\"stroke:none;\" d=\"M 0.890625 -6.5625 L 2.203125 -6.5625 L 3.875 -2.09375 L 5.5625 -6.5625 L 6.890625 -6.5625 L 6.890625 0 L 6.015625 0 L 6.015625 -5.765625 L 4.328125 -1.265625 L 3.4375 -1.265625 L 1.75 -5.765625 L 1.75 0 L 0.890625 0 Z M 0.890625 -6.5625 \"/>\n",
       "</symbol>\n",
       "<symbol overflow=\"visible\" id=\"glyph0-13\">\n",
       "<path style=\"stroke:none;\" d=\"M 2.75 -4.359375 C 2.320312 -4.359375 1.976562 -4.1875 1.71875 -3.84375 C 1.46875 -3.507812 1.34375 -3.046875 1.34375 -2.453125 C 1.34375 -1.867188 1.46875 -1.40625 1.71875 -1.0625 C 1.96875 -0.726562 2.3125 -0.5625 2.75 -0.5625 C 3.1875 -0.5625 3.53125 -0.726562 3.78125 -1.0625 C 4.03125 -1.40625 4.15625 -1.867188 4.15625 -2.453125 C 4.15625 -3.035156 4.03125 -3.5 3.78125 -3.84375 C 3.53125 -4.1875 3.1875 -4.359375 2.75 -4.359375 Z M 2.75 -5.046875 C 3.457031 -5.046875 4.007812 -4.816406 4.40625 -4.359375 C 4.8125 -3.898438 5.015625 -3.265625 5.015625 -2.453125 C 5.015625 -1.648438 4.8125 -1.019531 4.40625 -0.5625 C 4.007812 -0.101562 3.457031 0.125 2.75 0.125 C 2.050781 0.125 1.5 -0.101562 1.09375 -0.5625 C 0.695312 -1.019531 0.5 -1.648438 0.5 -2.453125 C 0.5 -3.265625 0.695312 -3.898438 1.09375 -4.359375 C 1.5 -4.816406 2.050781 -5.046875 2.75 -5.046875 Z M 2.75 -5.046875 \"/>\n",
       "</symbol>\n",
       "<symbol overflow=\"visible\" id=\"glyph0-14\">\n",
       "<path style=\"stroke:none;\" d=\"M 4.9375 -2.96875 L 4.9375 0 L 4.125 0 L 4.125 -2.9375 C 4.125 -3.40625 4.035156 -3.753906 3.859375 -3.984375 C 3.679688 -4.222656 3.410156 -4.34375 3.046875 -4.34375 C 2.609375 -4.34375 2.257812 -4.203125 2 -3.921875 C 1.75 -3.640625 1.625 -3.257812 1.625 -2.78125 L 1.625 0 L 0.8125 0 L 0.8125 -4.921875 L 1.625 -4.921875 L 1.625 -4.15625 C 1.820312 -4.445312 2.050781 -4.664062 2.3125 -4.8125 C 2.570312 -4.96875 2.875 -5.046875 3.21875 -5.046875 C 3.78125 -5.046875 4.207031 -4.867188 4.5 -4.515625 C 4.789062 -4.160156 4.9375 -3.644531 4.9375 -2.96875 Z M 4.9375 -2.96875 \"/>\n",
       "</symbol>\n",
       "<symbol overflow=\"visible\" id=\"glyph0-15\">\n",
       "<path style=\"stroke:none;\" d=\"M 4.8125 -6.34375 L 4.8125 -5.484375 C 4.476562 -5.640625 4.160156 -5.753906 3.859375 -5.828125 C 3.566406 -5.910156 3.28125 -5.953125 3 -5.953125 C 2.507812 -5.953125 2.132812 -5.859375 1.875 -5.671875 C 1.613281 -5.484375 1.484375 -5.21875 1.484375 -4.875 C 1.484375 -4.582031 1.570312 -4.363281 1.75 -4.21875 C 1.925781 -4.070312 2.253906 -3.953125 2.734375 -3.859375 L 3.28125 -3.75 C 3.9375 -3.625 4.421875 -3.398438 4.734375 -3.078125 C 5.054688 -2.765625 5.21875 -2.34375 5.21875 -1.8125 C 5.21875 -1.175781 5.003906 -0.691406 4.578125 -0.359375 C 4.148438 -0.0351562 3.523438 0.125 2.703125 0.125 C 2.390625 0.125 2.054688 0.0859375 1.703125 0.015625 C 1.359375 -0.046875 1 -0.148438 0.625 -0.296875 L 0.625 -1.203125 C 0.976562 -1.003906 1.328125 -0.851562 1.671875 -0.75 C 2.023438 -0.644531 2.367188 -0.59375 2.703125 -0.59375 C 3.203125 -0.59375 3.585938 -0.691406 3.859375 -0.890625 C 4.140625 -1.085938 4.28125 -1.375 4.28125 -1.75 C 4.28125 -2.070312 4.179688 -2.320312 3.984375 -2.5 C 3.785156 -2.675781 3.460938 -2.8125 3.015625 -2.90625 L 2.46875 -3.015625 C 1.8125 -3.148438 1.332031 -3.359375 1.03125 -3.640625 C 0.738281 -3.921875 0.59375 -4.3125 0.59375 -4.8125 C 0.59375 -5.382812 0.796875 -5.835938 1.203125 -6.171875 C 1.609375 -6.515625 2.171875 -6.6875 2.890625 -6.6875 C 3.203125 -6.6875 3.515625 -6.65625 3.828125 -6.59375 C 4.148438 -6.539062 4.476562 -6.457031 4.8125 -6.34375 Z M 4.8125 -6.34375 \"/>\n",
       "</symbol>\n",
       "<symbol overflow=\"visible\" id=\"glyph0-16\">\n",
       "<path style=\"stroke:none;\" d=\"M 1.640625 -6.3125 L 1.640625 -4.921875 L 3.3125 -4.921875 L 3.3125 -4.296875 L 1.640625 -4.296875 L 1.640625 -1.625 C 1.640625 -1.21875 1.695312 -0.957031 1.8125 -0.84375 C 1.925781 -0.726562 2.148438 -0.671875 2.484375 -0.671875 L 3.3125 -0.671875 L 3.3125 0 L 2.484375 0 C 1.859375 0 1.425781 -0.113281 1.1875 -0.34375 C 0.945312 -0.582031 0.828125 -1.007812 0.828125 -1.625 L 0.828125 -4.296875 L 0.234375 -4.296875 L 0.234375 -4.921875 L 0.828125 -4.921875 L 0.828125 -6.3125 Z M 1.640625 -6.3125 \"/>\n",
       "</symbol>\n",
       "<symbol overflow=\"visible\" id=\"glyph0-17\">\n",
       "<path style=\"stroke:none;\" d=\"M 0.765625 -1.9375 L 0.765625 -4.921875 L 1.578125 -4.921875 L 1.578125 -1.96875 C 1.578125 -1.507812 1.664062 -1.160156 1.84375 -0.921875 C 2.03125 -0.691406 2.300781 -0.578125 2.65625 -0.578125 C 3.09375 -0.578125 3.4375 -0.710938 3.6875 -0.984375 C 3.945312 -1.265625 4.078125 -1.644531 4.078125 -2.125 L 4.078125 -4.921875 L 4.890625 -4.921875 L 4.890625 0 L 4.078125 0 L 4.078125 -0.75 C 3.878906 -0.457031 3.648438 -0.238281 3.390625 -0.09375 C 3.128906 0.0507812 2.828125 0.125 2.484375 0.125 C 1.921875 0.125 1.492188 -0.046875 1.203125 -0.390625 C 0.910156 -0.742188 0.765625 -1.257812 0.765625 -1.9375 Z M 2.796875 -5.046875 Z M 2.796875 -5.046875 \"/>\n",
       "</symbol>\n",
       "<symbol overflow=\"visible\" id=\"glyph0-18\">\n",
       "<path style=\"stroke:none;\" d=\"M -0.03125 -6.5625 L 5.53125 -6.5625 L 5.53125 -5.8125 L 3.1875 -5.8125 L 3.1875 0 L 2.296875 0 L 2.296875 -5.8125 L -0.03125 -5.8125 Z M -0.03125 -6.5625 \"/>\n",
       "</symbol>\n",
       "<symbol overflow=\"visible\" id=\"glyph0-19\">\n",
       "<path style=\"stroke:none;\" d=\"M 4.9375 -2.96875 L 4.9375 0 L 4.125 0 L 4.125 -2.9375 C 4.125 -3.40625 4.035156 -3.753906 3.859375 -3.984375 C 3.679688 -4.222656 3.410156 -4.34375 3.046875 -4.34375 C 2.609375 -4.34375 2.257812 -4.203125 2 -3.921875 C 1.75 -3.640625 1.625 -3.257812 1.625 -2.78125 L 1.625 0 L 0.8125 0 L 0.8125 -6.84375 L 1.625 -6.84375 L 1.625 -4.15625 C 1.820312 -4.445312 2.050781 -4.664062 2.3125 -4.8125 C 2.570312 -4.96875 2.875 -5.046875 3.21875 -5.046875 C 3.78125 -5.046875 4.207031 -4.867188 4.5 -4.515625 C 4.789062 -4.160156 4.9375 -3.644531 4.9375 -2.96875 Z M 4.9375 -2.96875 \"/>\n",
       "</symbol>\n",
       "<symbol overflow=\"visible\" id=\"glyph0-20\">\n",
       "<path style=\"stroke:none;\" d=\"M 3.984375 -4.78125 L 3.984375 -4.015625 C 3.753906 -4.128906 3.515625 -4.210938 3.265625 -4.265625 C 3.023438 -4.328125 2.773438 -4.359375 2.515625 -4.359375 C 2.109375 -4.359375 1.804688 -4.296875 1.609375 -4.171875 C 1.410156 -4.054688 1.3125 -3.875 1.3125 -3.625 C 1.3125 -3.4375 1.378906 -3.289062 1.515625 -3.1875 C 1.660156 -3.082031 1.953125 -2.976562 2.390625 -2.875 L 2.65625 -2.8125 C 3.238281 -2.6875 3.648438 -2.507812 3.890625 -2.28125 C 4.128906 -2.0625 4.25 -1.753906 4.25 -1.359375 C 4.25 -0.898438 4.066406 -0.535156 3.703125 -0.265625 C 3.347656 -0.00390625 2.851562 0.125 2.21875 0.125 C 1.945312 0.125 1.671875 0.0976562 1.390625 0.046875 C 1.109375 -0.00390625 0.804688 -0.0820312 0.484375 -0.1875 L 0.484375 -1.015625 C 0.785156 -0.859375 1.082031 -0.738281 1.375 -0.65625 C 1.664062 -0.582031 1.953125 -0.546875 2.234375 -0.546875 C 2.609375 -0.546875 2.898438 -0.609375 3.109375 -0.734375 C 3.316406 -0.867188 3.421875 -1.054688 3.421875 -1.296875 C 3.421875 -1.515625 3.34375 -1.679688 3.1875 -1.796875 C 3.039062 -1.921875 2.71875 -2.035156 2.21875 -2.140625 L 1.9375 -2.203125 C 1.4375 -2.304688 1.070312 -2.46875 0.84375 -2.6875 C 0.625 -2.90625 0.515625 -3.207031 0.515625 -3.59375 C 0.515625 -4.050781 0.675781 -4.40625 1 -4.65625 C 1.332031 -4.914062 1.800781 -5.046875 2.40625 -5.046875 C 2.707031 -5.046875 2.988281 -5.019531 3.25 -4.96875 C 3.519531 -4.925781 3.765625 -4.863281 3.984375 -4.78125 Z M 3.984375 -4.78125 \"/>\n",
       "</symbol>\n",
       "<symbol overflow=\"visible\" id=\"glyph0-21\">\n",
       "<path style=\"stroke:none;\" d=\"M 5.0625 -2.65625 L 5.0625 -2.265625 L 1.34375 -2.265625 C 1.375 -1.710938 1.539062 -1.289062 1.84375 -1 C 2.144531 -0.707031 2.5625 -0.5625 3.09375 -0.5625 C 3.40625 -0.5625 3.707031 -0.597656 4 -0.671875 C 4.289062 -0.742188 4.582031 -0.859375 4.875 -1.015625 L 4.875 -0.25 C 4.582031 -0.125 4.28125 -0.03125 3.96875 0.03125 C 3.664062 0.09375 3.359375 0.125 3.046875 0.125 C 2.265625 0.125 1.644531 -0.101562 1.1875 -0.5625 C 0.726562 -1.019531 0.5 -1.632812 0.5 -2.40625 C 0.5 -3.21875 0.710938 -3.859375 1.140625 -4.328125 C 1.578125 -4.804688 2.164062 -5.046875 2.90625 -5.046875 C 3.570312 -5.046875 4.097656 -4.832031 4.484375 -4.40625 C 4.867188 -3.976562 5.0625 -3.394531 5.0625 -2.65625 Z M 4.25 -2.90625 C 4.238281 -3.34375 4.113281 -3.691406 3.875 -3.953125 C 3.632812 -4.222656 3.316406 -4.359375 2.921875 -4.359375 C 2.460938 -4.359375 2.097656 -4.226562 1.828125 -3.96875 C 1.554688 -3.71875 1.398438 -3.359375 1.359375 -2.890625 Z M 4.25 -2.90625 \"/>\n",
       "</symbol>\n",
       "<symbol overflow=\"visible\" id=\"glyph0-22\">\n",
       "<path style=\"stroke:none;\" d=\"M 0.296875 -6.5625 L 1.203125 -6.5625 L 2.578125 -1.015625 L 3.953125 -6.5625 L 4.953125 -6.5625 L 6.328125 -1.015625 L 7.703125 -6.5625 L 8.609375 -6.5625 L 6.953125 0 L 5.84375 0 L 4.453125 -5.703125 L 3.0625 0 L 1.9375 0 Z M 0.296875 -6.5625 \"/>\n",
       "</symbol>\n",
       "<symbol overflow=\"visible\" id=\"glyph1-0\">\n",
       "<path style=\"stroke:none;\" d=\"M 0.546875 1.9375 L 0.546875 -7.75 L 6.046875 -7.75 L 6.046875 1.9375 Z M 1.171875 1.328125 L 5.4375 1.328125 L 5.4375 -7.140625 L 1.171875 -7.140625 Z M 1.171875 1.328125 \"/>\n",
       "</symbol>\n",
       "<symbol overflow=\"visible\" id=\"glyph1-1\">\n",
       "<path style=\"stroke:none;\" d=\"M 1.078125 -8.015625 L 2.171875 -8.015625 L 2.171875 -4.734375 L 6.109375 -4.734375 L 6.109375 -8.015625 L 7.1875 -8.015625 L 7.1875 0 L 6.109375 0 L 6.109375 -3.8125 L 2.171875 -3.8125 L 2.171875 0 L 1.078125 0 Z M 1.078125 -8.015625 \"/>\n",
       "</symbol>\n",
       "<symbol overflow=\"visible\" id=\"glyph1-2\">\n",
       "<path style=\"stroke:none;\" d=\"M 3.375 -5.328125 C 2.84375 -5.328125 2.421875 -5.117188 2.109375 -4.703125 C 1.804688 -4.285156 1.65625 -3.71875 1.65625 -3 C 1.65625 -2.28125 1.804688 -1.710938 2.109375 -1.296875 C 2.410156 -0.890625 2.832031 -0.6875 3.375 -0.6875 C 3.894531 -0.6875 4.304688 -0.890625 4.609375 -1.296875 C 4.921875 -1.710938 5.078125 -2.28125 5.078125 -3 C 5.078125 -3.71875 4.921875 -4.285156 4.609375 -4.703125 C 4.304688 -5.117188 3.894531 -5.328125 3.375 -5.328125 Z M 3.375 -6.15625 C 4.226562 -6.15625 4.898438 -5.875 5.390625 -5.3125 C 5.878906 -4.757812 6.125 -3.988281 6.125 -3 C 6.125 -2.019531 5.878906 -1.25 5.390625 -0.6875 C 4.898438 -0.125 4.226562 0.15625 3.375 0.15625 C 2.507812 0.15625 1.832031 -0.125 1.34375 -0.6875 C 0.851562 -1.25 0.609375 -2.019531 0.609375 -3 C 0.609375 -3.988281 0.851562 -4.757812 1.34375 -5.3125 C 1.832031 -5.875 2.507812 -6.15625 3.375 -6.15625 Z M 3.375 -6.15625 \"/>\n",
       "</symbol>\n",
       "<symbol overflow=\"visible\" id=\"glyph1-3\">\n",
       "<path style=\"stroke:none;\" d=\"M 0.9375 -2.375 L 0.9375 -6.015625 L 1.921875 -6.015625 L 1.921875 -2.40625 C 1.921875 -1.84375 2.03125 -1.414062 2.25 -1.125 C 2.476562 -0.84375 2.8125 -0.703125 3.25 -0.703125 C 3.789062 -0.703125 4.210938 -0.867188 4.515625 -1.203125 C 4.828125 -1.546875 4.984375 -2.015625 4.984375 -2.609375 L 4.984375 -6.015625 L 5.96875 -6.015625 L 5.96875 0 L 4.984375 0 L 4.984375 -0.921875 C 4.742188 -0.554688 4.460938 -0.285156 4.140625 -0.109375 C 3.828125 0.0664062 3.460938 0.15625 3.046875 0.15625 C 2.359375 0.15625 1.832031 -0.0546875 1.46875 -0.484375 C 1.113281 -0.921875 0.9375 -1.550781 0.9375 -2.375 Z M 3.421875 -6.15625 Z M 3.421875 -6.15625 \"/>\n",
       "</symbol>\n",
       "<symbol overflow=\"visible\" id=\"glyph1-4\">\n",
       "<path style=\"stroke:none;\" d=\"M 4.515625 -5.09375 C 4.410156 -5.15625 4.289062 -5.203125 4.15625 -5.234375 C 4.03125 -5.265625 3.890625 -5.28125 3.734375 -5.28125 C 3.171875 -5.28125 2.738281 -5.097656 2.4375 -4.734375 C 2.144531 -4.367188 2 -3.847656 2 -3.171875 L 2 0 L 1 0 L 1 -6.015625 L 2 -6.015625 L 2 -5.078125 C 2.195312 -5.441406 2.460938 -5.710938 2.796875 -5.890625 C 3.128906 -6.066406 3.535156 -6.15625 4.015625 -6.15625 C 4.085938 -6.15625 4.160156 -6.148438 4.234375 -6.140625 C 4.316406 -6.140625 4.410156 -6.128906 4.515625 -6.109375 Z M 4.515625 -5.09375 \"/>\n",
       "</symbol>\n",
       "<symbol overflow=\"visible\" id=\"glyph1-5\">\n",
       "<path style=\"stroke:none;\" d=\"\"/>\n",
       "</symbol>\n",
       "<symbol overflow=\"visible\" id=\"glyph1-6\">\n",
       "<path style=\"stroke:none;\" d=\"M 4.078125 -8.359375 L 4.078125 -7.53125 L 3.140625 -7.53125 C 2.785156 -7.53125 2.535156 -7.457031 2.390625 -7.3125 C 2.253906 -7.175781 2.1875 -6.921875 2.1875 -6.546875 L 2.1875 -6.015625 L 3.8125 -6.015625 L 3.8125 -5.25 L 2.1875 -5.25 L 2.1875 0 L 1.203125 0 L 1.203125 -5.25 L 0.25 -5.25 L 0.25 -6.015625 L 1.203125 -6.015625 L 1.203125 -6.4375 C 1.203125 -7.101562 1.351562 -7.585938 1.65625 -7.890625 C 1.96875 -8.203125 2.460938 -8.359375 3.140625 -8.359375 Z M 4.078125 -8.359375 \"/>\n",
       "</symbol>\n",
       "<symbol overflow=\"visible\" id=\"glyph1-7\">\n",
       "<path style=\"stroke:none;\" d=\"M 5 -5.109375 L 5 -8.359375 L 5.984375 -8.359375 L 5.984375 0 L 5 0 L 5 -0.90625 C 4.789062 -0.539062 4.523438 -0.269531 4.203125 -0.09375 C 3.890625 0.0703125 3.507812 0.15625 3.0625 0.15625 C 2.34375 0.15625 1.753906 -0.128906 1.296875 -0.703125 C 0.835938 -1.285156 0.609375 -2.050781 0.609375 -3 C 0.609375 -3.945312 0.835938 -4.707031 1.296875 -5.28125 C 1.753906 -5.863281 2.34375 -6.15625 3.0625 -6.15625 C 3.507812 -6.15625 3.890625 -6.066406 4.203125 -5.890625 C 4.523438 -5.722656 4.789062 -5.460938 5 -5.109375 Z M 1.625 -3 C 1.625 -2.269531 1.773438 -1.695312 2.078125 -1.28125 C 2.378906 -0.875 2.789062 -0.671875 3.3125 -0.671875 C 3.832031 -0.671875 4.242188 -0.875 4.546875 -1.28125 C 4.847656 -1.695312 5 -2.269531 5 -3 C 5 -3.726562 4.847656 -4.296875 4.546875 -4.703125 C 4.242188 -5.117188 3.832031 -5.328125 3.3125 -5.328125 C 2.789062 -5.328125 2.378906 -5.117188 2.078125 -4.703125 C 1.773438 -4.296875 1.625 -3.726562 1.625 -3 Z M 1.625 -3 \"/>\n",
       "</symbol>\n",
       "<symbol overflow=\"visible\" id=\"glyph1-8\">\n",
       "<path style=\"stroke:none;\" d=\"M 3.765625 -3.03125 C 2.972656 -3.03125 2.421875 -2.9375 2.109375 -2.75 C 1.804688 -2.5625 1.65625 -2.25 1.65625 -1.8125 C 1.65625 -1.46875 1.769531 -1.191406 2 -0.984375 C 2.226562 -0.773438 2.539062 -0.671875 2.9375 -0.671875 C 3.488281 -0.671875 3.925781 -0.863281 4.25 -1.25 C 4.582031 -1.644531 4.75 -2.160156 4.75 -2.796875 L 4.75 -3.03125 Z M 5.734375 -3.4375 L 5.734375 0 L 4.75 0 L 4.75 -0.90625 C 4.53125 -0.539062 4.25 -0.269531 3.90625 -0.09375 C 3.570312 0.0703125 3.160156 0.15625 2.671875 0.15625 C 2.054688 0.15625 1.566406 -0.015625 1.203125 -0.359375 C 0.835938 -0.703125 0.65625 -1.164062 0.65625 -1.75 C 0.65625 -2.425781 0.878906 -2.9375 1.328125 -3.28125 C 1.785156 -3.625 2.46875 -3.796875 3.375 -3.796875 L 4.75 -3.796875 L 4.75 -3.890625 C 4.75 -4.347656 4.597656 -4.703125 4.296875 -4.953125 C 4.003906 -5.203125 3.585938 -5.328125 3.046875 -5.328125 C 2.703125 -5.328125 2.363281 -5.285156 2.03125 -5.203125 C 1.707031 -5.117188 1.394531 -4.992188 1.09375 -4.828125 L 1.09375 -5.734375 C 1.457031 -5.878906 1.8125 -5.984375 2.15625 -6.046875 C 2.5 -6.117188 2.828125 -6.15625 3.140625 -6.15625 C 4.015625 -6.15625 4.664062 -5.929688 5.09375 -5.484375 C 5.519531 -5.035156 5.734375 -4.351562 5.734375 -3.4375 Z M 5.734375 -3.4375 \"/>\n",
       "</symbol>\n",
       "<symbol overflow=\"visible\" id=\"glyph1-9\">\n",
       "<path style=\"stroke:none;\" d=\"M 3.546875 0.5625 C 3.265625 1.28125 2.988281 1.742188 2.71875 1.953125 C 2.457031 2.171875 2.101562 2.28125 1.65625 2.28125 L 0.875 2.28125 L 0.875 1.46875 L 1.453125 1.46875 C 1.722656 1.46875 1.929688 1.398438 2.078125 1.265625 C 2.234375 1.140625 2.398438 0.835938 2.578125 0.359375 L 2.765625 -0.09375 L 0.328125 -6.015625 L 1.375 -6.015625 L 3.25 -1.3125 L 5.140625 -6.015625 L 6.1875 -6.015625 Z M 3.546875 0.5625 \"/>\n",
       "</symbol>\n",
       "<symbol overflow=\"visible\" id=\"glyph2-0\">\n",
       "<path style=\"stroke:none;\" d=\"M 1.9375 -0.546875 L -7.75 -0.546875 L -7.75 -6.046875 L 1.9375 -6.046875 Z M 1.328125 -1.171875 L 1.328125 -5.4375 L -7.140625 -5.4375 L -7.140625 -1.171875 Z M 1.328125 -1.171875 \"/>\n",
       "</symbol>\n",
       "<symbol overflow=\"visible\" id=\"glyph2-1\">\n",
       "<path style=\"stroke:none;\" d=\"M -6.953125 -3.765625 L -2.953125 -2.28125 L -2.953125 -5.234375 Z M -8.015625 -3.140625 L -8.015625 -4.375 L 0 -7.4375 L 0 -6.3125 L -2.0625 -5.578125 L -2.0625 -1.953125 L 0 -1.234375 L 0 -0.09375 Z M -8.015625 -3.140625 \"/>\n",
       "</symbol>\n",
       "<symbol overflow=\"visible\" id=\"glyph2-2\">\n",
       "<path style=\"stroke:none;\" d=\"M -6.015625 -0.328125 L -6.015625 -1.375 L -0.96875 -3.25 L -6.015625 -5.140625 L -6.015625 -6.1875 L 0 -3.921875 L 0 -2.578125 Z M -6.015625 -0.328125 \"/>\n",
       "</symbol>\n",
       "<symbol overflow=\"visible\" id=\"glyph2-3\">\n",
       "<path style=\"stroke:none;\" d=\"M -3.25 -6.1875 L -2.765625 -6.1875 L -2.765625 -1.640625 C -2.085938 -1.679688 -1.570312 -1.882812 -1.21875 -2.25 C -0.863281 -2.613281 -0.6875 -3.125 -0.6875 -3.78125 C -0.6875 -4.164062 -0.734375 -4.535156 -0.828125 -4.890625 C -0.921875 -5.242188 -1.054688 -5.597656 -1.234375 -5.953125 L -0.3125 -5.953125 C -0.15625 -5.597656 -0.0390625 -5.234375 0.03125 -4.859375 C 0.113281 -4.484375 0.15625 -4.109375 0.15625 -3.734375 C 0.15625 -2.765625 -0.117188 -2 -0.671875 -1.4375 C -1.234375 -0.882812 -1.992188 -0.609375 -2.953125 -0.609375 C -3.929688 -0.609375 -4.707031 -0.875 -5.28125 -1.40625 C -5.863281 -1.9375 -6.15625 -2.65625 -6.15625 -3.5625 C -6.15625 -4.363281 -5.894531 -5 -5.375 -5.46875 C -4.851562 -5.945312 -4.144531 -6.1875 -3.25 -6.1875 Z M -3.546875 -5.1875 C -4.085938 -5.1875 -4.519531 -5.035156 -4.84375 -4.734375 C -5.164062 -4.441406 -5.328125 -4.050781 -5.328125 -3.5625 C -5.328125 -3.007812 -5.171875 -2.566406 -4.859375 -2.234375 C -4.546875 -1.910156 -4.109375 -1.722656 -3.546875 -1.671875 Z M -3.546875 -5.1875 \"/>\n",
       "</symbol>\n",
       "<symbol overflow=\"visible\" id=\"glyph2-4\">\n",
       "<path style=\"stroke:none;\" d=\"M -5.09375 -4.515625 C -5.15625 -4.410156 -5.203125 -4.289062 -5.234375 -4.15625 C -5.265625 -4.03125 -5.28125 -3.890625 -5.28125 -3.734375 C -5.28125 -3.171875 -5.097656 -2.738281 -4.734375 -2.4375 C -4.367188 -2.144531 -3.847656 -2 -3.171875 -2 L 0 -2 L 0 -1 L -6.015625 -1 L -6.015625 -2 L -5.078125 -2 C -5.441406 -2.195312 -5.710938 -2.460938 -5.890625 -2.796875 C -6.066406 -3.128906 -6.15625 -3.535156 -6.15625 -4.015625 C -6.15625 -4.085938 -6.148438 -4.160156 -6.140625 -4.234375 C -6.140625 -4.316406 -6.128906 -4.410156 -6.109375 -4.515625 Z M -5.09375 -4.515625 \"/>\n",
       "</symbol>\n",
       "<symbol overflow=\"visible\" id=\"glyph2-5\">\n",
       "<path style=\"stroke:none;\" d=\"M -3.03125 -3.765625 C -3.03125 -2.972656 -2.9375 -2.421875 -2.75 -2.109375 C -2.5625 -1.804688 -2.25 -1.65625 -1.8125 -1.65625 C -1.46875 -1.65625 -1.191406 -1.769531 -0.984375 -2 C -0.773438 -2.226562 -0.671875 -2.539062 -0.671875 -2.9375 C -0.671875 -3.488281 -0.863281 -3.925781 -1.25 -4.25 C -1.644531 -4.582031 -2.160156 -4.75 -2.796875 -4.75 L -3.03125 -4.75 Z M -3.4375 -5.734375 L 0 -5.734375 L 0 -4.75 L -0.90625 -4.75 C -0.539062 -4.53125 -0.269531 -4.25 -0.09375 -3.90625 C 0.0703125 -3.570312 0.15625 -3.160156 0.15625 -2.671875 C 0.15625 -2.054688 -0.015625 -1.566406 -0.359375 -1.203125 C -0.703125 -0.835938 -1.164062 -0.65625 -1.75 -0.65625 C -2.425781 -0.65625 -2.9375 -0.878906 -3.28125 -1.328125 C -3.625 -1.785156 -3.796875 -2.46875 -3.796875 -3.375 L -3.796875 -4.75 L -3.890625 -4.75 C -4.347656 -4.75 -4.703125 -4.597656 -4.953125 -4.296875 C -5.203125 -4.003906 -5.328125 -3.585938 -5.328125 -3.046875 C -5.328125 -2.703125 -5.285156 -2.363281 -5.203125 -2.03125 C -5.117188 -1.707031 -4.992188 -1.394531 -4.828125 -1.09375 L -5.734375 -1.09375 C -5.878906 -1.457031 -5.984375 -1.8125 -6.046875 -2.15625 C -6.117188 -2.5 -6.15625 -2.828125 -6.15625 -3.140625 C -6.15625 -4.015625 -5.929688 -4.664062 -5.484375 -5.09375 C -5.035156 -5.519531 -4.351562 -5.734375 -3.4375 -5.734375 Z M -3.4375 -5.734375 \"/>\n",
       "</symbol>\n",
       "<symbol overflow=\"visible\" id=\"glyph2-6\">\n",
       "<path style=\"stroke:none;\" d=\"M -3.078125 -5 C -3.796875 -5 -4.347656 -4.847656 -4.734375 -4.546875 C -5.128906 -4.253906 -5.328125 -3.84375 -5.328125 -3.3125 C -5.328125 -2.78125 -5.128906 -2.363281 -4.734375 -2.0625 C -4.347656 -1.769531 -3.796875 -1.625 -3.078125 -1.625 C -2.367188 -1.625 -1.816406 -1.769531 -1.421875 -2.0625 C -1.023438 -2.363281 -0.828125 -2.78125 -0.828125 -3.3125 C -0.828125 -3.84375 -1.023438 -4.253906 -1.421875 -4.546875 C -1.816406 -4.847656 -2.367188 -5 -3.078125 -5 Z M -0.75 -5.984375 C 0.28125 -5.984375 1.039062 -5.753906 1.53125 -5.296875 C 2.03125 -4.847656 2.28125 -4.15625 2.28125 -3.21875 C 2.28125 -2.863281 2.253906 -2.53125 2.203125 -2.21875 C 2.148438 -1.914062 2.070312 -1.617188 1.96875 -1.328125 L 1.015625 -1.328125 C 1.171875 -1.617188 1.285156 -1.90625 1.359375 -2.1875 C 1.429688 -2.46875 1.46875 -2.757812 1.46875 -3.0625 C 1.46875 -3.707031 1.296875 -4.191406 0.953125 -4.515625 C 0.617188 -4.835938 0.113281 -5 -0.5625 -5 L -1.0625 -5 C -0.707031 -4.789062 -0.441406 -4.523438 -0.265625 -4.203125 C -0.0859375 -3.890625 0 -3.507812 0 -3.0625 C 0 -2.320312 -0.28125 -1.726562 -0.84375 -1.28125 C -1.40625 -0.832031 -2.148438 -0.609375 -3.078125 -0.609375 C -4.003906 -0.609375 -4.75 -0.832031 -5.3125 -1.28125 C -5.875 -1.726562 -6.15625 -2.320312 -6.15625 -3.0625 C -6.15625 -3.507812 -6.066406 -3.890625 -5.890625 -4.203125 C -5.722656 -4.523438 -5.460938 -4.789062 -5.109375 -5 L -6.015625 -5 L -6.015625 -5.984375 Z M -0.75 -5.984375 \"/>\n",
       "</symbol>\n",
       "<symbol overflow=\"visible\" id=\"glyph2-7\">\n",
       "<path style=\"stroke:none;\" d=\"\"/>\n",
       "</symbol>\n",
       "<symbol overflow=\"visible\" id=\"glyph2-8\">\n",
       "<path style=\"stroke:none;\" d=\"M -5.78125 -5.359375 L -4.859375 -5.359375 C -5.015625 -5.085938 -5.128906 -4.8125 -5.203125 -4.53125 C -5.285156 -4.25 -5.328125 -3.960938 -5.328125 -3.671875 C -5.328125 -3.035156 -5.125 -2.539062 -4.71875 -2.1875 C -4.3125 -1.832031 -3.738281 -1.65625 -3 -1.65625 C -2.269531 -1.65625 -1.703125 -1.832031 -1.296875 -2.1875 C -0.890625 -2.539062 -0.6875 -3.035156 -0.6875 -3.671875 C -0.6875 -3.960938 -0.722656 -4.25 -0.796875 -4.53125 C -0.867188 -4.8125 -0.984375 -5.085938 -1.140625 -5.359375 L -0.234375 -5.359375 C -0.0976562 -5.085938 0 -4.800781 0.0625 -4.5 C 0.125 -4.207031 0.15625 -3.894531 0.15625 -3.5625 C 0.15625 -2.65625 -0.125 -1.9375 -0.6875 -1.40625 C -1.257812 -0.875 -2.03125 -0.609375 -3 -0.609375 C -3.976562 -0.609375 -4.75 -0.875 -5.3125 -1.40625 C -5.875 -1.945312 -6.15625 -2.6875 -6.15625 -3.625 C -6.15625 -3.9375 -6.125 -4.234375 -6.0625 -4.515625 C -6 -4.804688 -5.90625 -5.085938 -5.78125 -5.359375 Z M -5.78125 -5.359375 \"/>\n",
       "</symbol>\n",
       "<symbol overflow=\"visible\" id=\"glyph2-9\">\n",
       "<path style=\"stroke:none;\" d=\"M -5.328125 -3.375 C -5.328125 -2.84375 -5.117188 -2.421875 -4.703125 -2.109375 C -4.285156 -1.804688 -3.71875 -1.65625 -3 -1.65625 C -2.28125 -1.65625 -1.710938 -1.804688 -1.296875 -2.109375 C -0.890625 -2.410156 -0.6875 -2.832031 -0.6875 -3.375 C -0.6875 -3.894531 -0.890625 -4.304688 -1.296875 -4.609375 C -1.710938 -4.921875 -2.28125 -5.078125 -3 -5.078125 C -3.71875 -5.078125 -4.285156 -4.921875 -4.703125 -4.609375 C -5.117188 -4.304688 -5.328125 -3.894531 -5.328125 -3.375 Z M -6.15625 -3.375 C -6.15625 -4.226562 -5.875 -4.898438 -5.3125 -5.390625 C -4.757812 -5.878906 -3.988281 -6.125 -3 -6.125 C -2.019531 -6.125 -1.25 -5.878906 -0.6875 -5.390625 C -0.125 -4.898438 0.15625 -4.226562 0.15625 -3.375 C 0.15625 -2.507812 -0.125 -1.832031 -0.6875 -1.34375 C -1.25 -0.851562 -2.019531 -0.609375 -3 -0.609375 C -3.988281 -0.609375 -4.757812 -0.851562 -5.3125 -1.34375 C -5.875 -1.832031 -6.15625 -2.507812 -6.15625 -3.375 Z M -6.15625 -3.375 \"/>\n",
       "</symbol>\n",
       "<symbol overflow=\"visible\" id=\"glyph2-10\">\n",
       "<path style=\"stroke:none;\" d=\"M -2.375 -0.9375 L -6.015625 -0.9375 L -6.015625 -1.921875 L -2.40625 -1.921875 C -1.84375 -1.921875 -1.414062 -2.03125 -1.125 -2.25 C -0.84375 -2.476562 -0.703125 -2.8125 -0.703125 -3.25 C -0.703125 -3.789062 -0.867188 -4.210938 -1.203125 -4.515625 C -1.546875 -4.828125 -2.015625 -4.984375 -2.609375 -4.984375 L -6.015625 -4.984375 L -6.015625 -5.96875 L 0 -5.96875 L 0 -4.984375 L -0.921875 -4.984375 C -0.554688 -4.742188 -0.285156 -4.460938 -0.109375 -4.140625 C 0.0664062 -3.828125 0.15625 -3.460938 0.15625 -3.046875 C 0.15625 -2.359375 -0.0546875 -1.832031 -0.484375 -1.46875 C -0.921875 -1.113281 -1.550781 -0.9375 -2.375 -0.9375 Z M -6.15625 -3.421875 Z M -6.15625 -3.421875 \"/>\n",
       "</symbol>\n",
       "<symbol overflow=\"visible\" id=\"glyph2-11\">\n",
       "<path style=\"stroke:none;\" d=\"M -3.625 -6.03125 L 0 -6.03125 L 0 -5.046875 L -3.59375 -5.046875 C -4.164062 -5.046875 -4.59375 -4.9375 -4.875 -4.71875 C -5.15625 -4.5 -5.296875 -4.164062 -5.296875 -3.71875 C -5.296875 -3.1875 -5.125 -2.765625 -4.78125 -2.453125 C -4.445312 -2.148438 -3.988281 -2 -3.40625 -2 L 0 -2 L 0 -1 L -6.015625 -1 L -6.015625 -2 L -5.078125 -2 C -5.441406 -2.226562 -5.710938 -2.503906 -5.890625 -2.828125 C -6.066406 -3.148438 -6.15625 -3.519531 -6.15625 -3.9375 C -6.15625 -4.625 -5.941406 -5.144531 -5.515625 -5.5 C -5.085938 -5.851562 -4.457031 -6.03125 -3.625 -6.03125 Z M -3.625 -6.03125 \"/>\n",
       "</symbol>\n",
       "<symbol overflow=\"visible\" id=\"glyph2-12\">\n",
       "<path style=\"stroke:none;\" d=\"M -7.71875 -2.015625 L -6.015625 -2.015625 L -6.015625 -4.046875 L -5.25 -4.046875 L -5.25 -2.015625 L -1.984375 -2.015625 C -1.492188 -2.015625 -1.175781 -2.082031 -1.03125 -2.21875 C -0.894531 -2.351562 -0.828125 -2.625 -0.828125 -3.03125 L -0.828125 -4.046875 L 0 -4.046875 L 0 -3.03125 C 0 -2.269531 -0.140625 -1.742188 -0.421875 -1.453125 C -0.710938 -1.160156 -1.234375 -1.015625 -1.984375 -1.015625 L -5.25 -1.015625 L -5.25 -0.296875 L -6.015625 -0.296875 L -6.015625 -1.015625 L -7.71875 -1.015625 Z M -7.71875 -2.015625 \"/>\n",
       "</symbol>\n",
       "</g>\n",
       "<clipPath id=\"clip1\">\n",
       "  <path d=\"M 43.984375 5.480469 L 402 5.480469 L 402 472 L 43.984375 472 Z M 43.984375 5.480469 \"/>\n",
       "</clipPath>\n",
       "<clipPath id=\"clip2\">\n",
       "  <path d=\"M 43.984375 374 L 402 374 L 402 376 L 43.984375 376 Z M 43.984375 374 \"/>\n",
       "</clipPath>\n",
       "<clipPath id=\"clip3\">\n",
       "  <path d=\"M 43.984375 217 L 402 217 L 402 219 L 43.984375 219 Z M 43.984375 217 \"/>\n",
       "</clipPath>\n",
       "<clipPath id=\"clip4\">\n",
       "  <path d=\"M 43.984375 61 L 402 61 L 402 62 L 43.984375 62 Z M 43.984375 61 \"/>\n",
       "</clipPath>\n",
       "<clipPath id=\"clip5\">\n",
       "  <path d=\"M 95 5.480469 L 96 5.480469 L 96 472 L 95 472 Z M 95 5.480469 \"/>\n",
       "</clipPath>\n",
       "<clipPath id=\"clip6\">\n",
       "  <path d=\"M 165 5.480469 L 167 5.480469 L 167 472 L 165 472 Z M 165 5.480469 \"/>\n",
       "</clipPath>\n",
       "<clipPath id=\"clip7\">\n",
       "  <path d=\"M 236 5.480469 L 238 5.480469 L 238 472 L 236 472 Z M 236 5.480469 \"/>\n",
       "</clipPath>\n",
       "<clipPath id=\"clip8\">\n",
       "  <path d=\"M 307 5.480469 L 308 5.480469 L 308 472 L 307 472 Z M 307 5.480469 \"/>\n",
       "</clipPath>\n",
       "<clipPath id=\"clip9\">\n",
       "  <path d=\"M 377 5.480469 L 379 5.480469 L 379 472 L 377 472 Z M 377 5.480469 \"/>\n",
       "</clipPath>\n",
       "<clipPath id=\"clip10\">\n",
       "  <path d=\"M 43.984375 452 L 402.566406 452 L 402.566406 454 L 43.984375 454 Z M 43.984375 452 \"/>\n",
       "</clipPath>\n",
       "<clipPath id=\"clip11\">\n",
       "  <path d=\"M 43.984375 295 L 402.566406 295 L 402.566406 297 L 43.984375 297 Z M 43.984375 295 \"/>\n",
       "</clipPath>\n",
       "<clipPath id=\"clip12\">\n",
       "  <path d=\"M 43.984375 139 L 402.566406 139 L 402.566406 141 L 43.984375 141 Z M 43.984375 139 \"/>\n",
       "</clipPath>\n",
       "<clipPath id=\"clip13\">\n",
       "  <path d=\"M 59 5.480469 L 61 5.480469 L 61 472 L 59 472 Z M 59 5.480469 \"/>\n",
       "</clipPath>\n",
       "<clipPath id=\"clip14\">\n",
       "  <path d=\"M 130 5.480469 L 132 5.480469 L 132 472 L 130 472 Z M 130 5.480469 \"/>\n",
       "</clipPath>\n",
       "<clipPath id=\"clip15\">\n",
       "  <path d=\"M 201 5.480469 L 203 5.480469 L 203 472 L 201 472 Z M 201 5.480469 \"/>\n",
       "</clipPath>\n",
       "<clipPath id=\"clip16\">\n",
       "  <path d=\"M 271 5.480469 L 273 5.480469 L 273 472 L 271 472 Z M 271 5.480469 \"/>\n",
       "</clipPath>\n",
       "<clipPath id=\"clip17\">\n",
       "  <path d=\"M 342 5.480469 L 344 5.480469 L 344 472 L 342 472 Z M 342 5.480469 \"/>\n",
       "</clipPath>\n",
       "</defs>\n",
       "<g id=\"surface1318\">\n",
       "<rect x=\"0\" y=\"0\" width=\"504\" height=\"504\" style=\"fill:rgb(100%,100%,100%);fill-opacity:1;stroke:none;\"/>\n",
       "<rect x=\"0\" y=\"0\" width=\"504\" height=\"504\" style=\"fill:rgb(100%,100%,100%);fill-opacity:1;stroke:none;\"/>\n",
       "<path style=\"fill:none;stroke-width:1.066978;stroke-linecap:round;stroke-linejoin:round;stroke:rgb(100%,100%,100%);stroke-opacity:1;stroke-miterlimit:10;\" d=\"M 0 504 L 504 504 L 504 0 L 0 0 Z M 0 504 \"/>\n",
       "<g clip-path=\"url(#clip1)\" clip-rule=\"nonzero\">\n",
       "<path style=\" stroke:none;fill-rule:nonzero;fill:rgb(92.156863%,92.156863%,92.156863%);fill-opacity:1;\" d=\"M 43.984375 471.015625 L 401.566406 471.015625 L 401.566406 5.480469 L 43.984375 5.480469 Z M 43.984375 471.015625 \"/>\n",
       "</g>\n",
       "<g clip-path=\"url(#clip2)\" clip-rule=\"nonzero\">\n",
       "<path style=\"fill:none;stroke-width:0.533489;stroke-linecap:butt;stroke-linejoin:round;stroke:rgb(100%,100%,100%);stroke-opacity:1;stroke-miterlimit:10;\" d=\"M 43.984375 374.753906 L 401.570312 374.753906 \"/>\n",
       "</g>\n",
       "<g clip-path=\"url(#clip3)\" clip-rule=\"nonzero\">\n",
       "<path style=\"fill:none;stroke-width:0.533489;stroke-linecap:butt;stroke-linejoin:round;stroke:rgb(100%,100%,100%);stroke-opacity:1;stroke-miterlimit:10;\" d=\"M 43.984375 218.042969 L 401.570312 218.042969 \"/>\n",
       "</g>\n",
       "<g clip-path=\"url(#clip4)\" clip-rule=\"nonzero\">\n",
       "<path style=\"fill:none;stroke-width:0.533489;stroke-linecap:butt;stroke-linejoin:round;stroke:rgb(100%,100%,100%);stroke-opacity:1;stroke-miterlimit:10;\" d=\"M 43.984375 61.335938 L 401.570312 61.335938 \"/>\n",
       "</g>\n",
       "<g clip-path=\"url(#clip5)\" clip-rule=\"nonzero\">\n",
       "<path style=\"fill:none;stroke-width:0.533489;stroke-linecap:butt;stroke-linejoin:round;stroke:rgb(100%,100%,100%);stroke-opacity:1;stroke-miterlimit:10;\" d=\"M 95.574219 471.015625 L 95.574219 5.480469 \"/>\n",
       "</g>\n",
       "<g clip-path=\"url(#clip6)\" clip-rule=\"nonzero\">\n",
       "<path style=\"fill:none;stroke-width:0.533489;stroke-linecap:butt;stroke-linejoin:round;stroke:rgb(100%,100%,100%);stroke-opacity:1;stroke-miterlimit:10;\" d=\"M 166.242188 471.015625 L 166.242188 5.480469 \"/>\n",
       "</g>\n",
       "<g clip-path=\"url(#clip7)\" clip-rule=\"nonzero\">\n",
       "<path style=\"fill:none;stroke-width:0.533489;stroke-linecap:butt;stroke-linejoin:round;stroke:rgb(100%,100%,100%);stroke-opacity:1;stroke-miterlimit:10;\" d=\"M 236.910156 471.015625 L 236.910156 5.480469 \"/>\n",
       "</g>\n",
       "<g clip-path=\"url(#clip8)\" clip-rule=\"nonzero\">\n",
       "<path style=\"fill:none;stroke-width:0.533489;stroke-linecap:butt;stroke-linejoin:round;stroke:rgb(100%,100%,100%);stroke-opacity:1;stroke-miterlimit:10;\" d=\"M 307.578125 471.015625 L 307.578125 5.480469 \"/>\n",
       "</g>\n",
       "<g clip-path=\"url(#clip9)\" clip-rule=\"nonzero\">\n",
       "<path style=\"fill:none;stroke-width:0.533489;stroke-linecap:butt;stroke-linejoin:round;stroke:rgb(100%,100%,100%);stroke-opacity:1;stroke-miterlimit:10;\" d=\"M 378.25 471.015625 L 378.25 5.480469 \"/>\n",
       "</g>\n",
       "<g clip-path=\"url(#clip10)\" clip-rule=\"nonzero\">\n",
       "<path style=\"fill:none;stroke-width:1.066978;stroke-linecap:butt;stroke-linejoin:round;stroke:rgb(100%,100%,100%);stroke-opacity:1;stroke-miterlimit:10;\" d=\"M 43.984375 453.105469 L 401.570312 453.105469 \"/>\n",
       "</g>\n",
       "<g clip-path=\"url(#clip11)\" clip-rule=\"nonzero\">\n",
       "<path style=\"fill:none;stroke-width:1.066978;stroke-linecap:butt;stroke-linejoin:round;stroke:rgb(100%,100%,100%);stroke-opacity:1;stroke-miterlimit:10;\" d=\"M 43.984375 296.398438 L 401.570312 296.398438 \"/>\n",
       "</g>\n",
       "<g clip-path=\"url(#clip12)\" clip-rule=\"nonzero\">\n",
       "<path style=\"fill:none;stroke-width:1.066978;stroke-linecap:butt;stroke-linejoin:round;stroke:rgb(100%,100%,100%);stroke-opacity:1;stroke-miterlimit:10;\" d=\"M 43.984375 139.6875 L 401.570312 139.6875 \"/>\n",
       "</g>\n",
       "<g clip-path=\"url(#clip13)\" clip-rule=\"nonzero\">\n",
       "<path style=\"fill:none;stroke-width:1.066978;stroke-linecap:butt;stroke-linejoin:round;stroke:rgb(100%,100%,100%);stroke-opacity:1;stroke-miterlimit:10;\" d=\"M 60.238281 471.015625 L 60.238281 5.480469 \"/>\n",
       "</g>\n",
       "<g clip-path=\"url(#clip14)\" clip-rule=\"nonzero\">\n",
       "<path style=\"fill:none;stroke-width:1.066978;stroke-linecap:butt;stroke-linejoin:round;stroke:rgb(100%,100%,100%);stroke-opacity:1;stroke-miterlimit:10;\" d=\"M 130.910156 471.015625 L 130.910156 5.480469 \"/>\n",
       "</g>\n",
       "<g clip-path=\"url(#clip15)\" clip-rule=\"nonzero\">\n",
       "<path style=\"fill:none;stroke-width:1.066978;stroke-linecap:butt;stroke-linejoin:round;stroke:rgb(100%,100%,100%);stroke-opacity:1;stroke-miterlimit:10;\" d=\"M 201.578125 471.015625 L 201.578125 5.480469 \"/>\n",
       "</g>\n",
       "<g clip-path=\"url(#clip16)\" clip-rule=\"nonzero\">\n",
       "<path style=\"fill:none;stroke-width:1.066978;stroke-linecap:butt;stroke-linejoin:round;stroke:rgb(100%,100%,100%);stroke-opacity:1;stroke-miterlimit:10;\" d=\"M 272.246094 471.015625 L 272.246094 5.480469 \"/>\n",
       "</g>\n",
       "<g clip-path=\"url(#clip17)\" clip-rule=\"nonzero\">\n",
       "<path style=\"fill:none;stroke-width:1.066978;stroke-linecap:butt;stroke-linejoin:round;stroke:rgb(100%,100%,100%);stroke-opacity:1;stroke-miterlimit:10;\" d=\"M 342.914062 471.015625 L 342.914062 5.480469 \"/>\n",
       "</g>\n",
       "<path style=\"fill:none;stroke-width:1.066978;stroke-linecap:butt;stroke-linejoin:round;stroke:rgb(97.254902%,46.27451%,42.745098%);stroke-opacity:1;stroke-miterlimit:1;\" d=\"M 60.238281 412.023438 L 74.375 433.738281 L 88.507812 443.125 L 102.640625 447.9375 L 116.773438 448.347656 L 130.910156 434.375 L 145.042969 382.566406 L 159.175781 253.832031 L 173.308594 90.890625 L 187.441406 250.175781 L 201.578125 329.515625 L 215.710938 305.710938 L 229.84375 266.902344 L 243.976562 263.902344 L 258.113281 273.386719 L 272.246094 255.292969 L 286.378906 193.761719 L 300.511719 67.277344 L 314.648438 123.242188 L 328.78125 216.421875 L 342.914062 285.957031 L 357.046875 320 L 371.179688 337.871094 L 385.316406 362.832031 \"/>\n",
       "<path style=\"fill:none;stroke-width:1.066978;stroke-linecap:butt;stroke-linejoin:round;stroke:rgb(76.862745%,60.392157%,0%);stroke-opacity:1;stroke-miterlimit:1;\" d=\"M 60.238281 426.457031 L 74.375 439.546875 L 88.507812 445.027344 L 102.640625 449.101562 L 116.773438 448.574219 L 130.910156 436.140625 L 145.042969 385.828125 L 159.175781 258.367188 L 173.308594 130.136719 L 187.441406 281.949219 L 201.578125 344.171875 L 215.710938 324.847656 L 229.84375 290.511719 L 243.976562 291.996094 L 258.113281 302.117188 L 272.246094 294.542969 L 286.378906 230.226562 L 300.511719 59.457031 L 314.648438 75.949219 L 328.78125 183.117188 L 342.914062 263.429688 L 357.046875 316.347656 L 371.179688 362.402344 L 385.316406 401.859375 \"/>\n",
       "<path style=\"fill:none;stroke-width:1.066978;stroke-linecap:butt;stroke-linejoin:round;stroke:rgb(32.54902%,70.588235%,0%);stroke-opacity:1;stroke-miterlimit:1;\" d=\"M 60.238281 379.214844 L 74.375 399.996094 L 88.507812 413.542969 L 102.640625 435.175781 L 116.773438 447.105469 L 130.910156 446.609375 L 145.042969 436.652344 L 159.175781 417.09375 L 173.308594 363.410156 L 187.441406 306.746094 L 201.578125 246.46875 L 215.710938 195.625 L 229.84375 158.980469 L 243.976562 151.152344 L 258.113281 154.316406 L 272.246094 153.457031 L 286.378906 166.21875 L 300.511719 191.082031 L 314.648438 224.273438 L 328.78125 265.109375 L 342.914062 311.390625 L 357.046875 330.875 L 371.179688 343.675781 L 385.316406 362.328125 \"/>\n",
       "<path style=\"fill:none;stroke-width:1.066978;stroke-linecap:butt;stroke-linejoin:round;stroke:rgb(0%,75.294118%,58.039216%);stroke-opacity:1;stroke-miterlimit:1;\" d=\"M 60.238281 379.460938 L 74.375 392.433594 L 88.507812 404.820312 L 102.640625 428.703125 L 116.773438 445.769531 L 130.910156 446.292969 L 145.042969 441.75 L 159.175781 427.167969 L 173.308594 387.402344 L 187.441406 330.449219 L 201.578125 250.496094 L 215.710938 205.992188 L 229.84375 160.875 L 243.976562 159.328125 L 258.113281 168.1875 L 272.246094 175.785156 L 286.378906 174.636719 L 300.511719 203.335938 L 314.648438 239.488281 L 328.78125 276.4375 L 342.914062 321.449219 L 357.046875 353.089844 L 371.179688 379.355469 L 385.316406 404.609375 \"/>\n",
       "<path style=\"fill:none;stroke-width:1.066978;stroke-linecap:butt;stroke-linejoin:round;stroke:rgb(0%,71.372549%,92.156863%);stroke-opacity:1;stroke-miterlimit:1;\" d=\"M 60.238281 422.335938 L 74.375 439.609375 L 88.507812 445.933594 L 102.640625 449.132812 L 116.773438 448.96875 L 130.910156 432.804688 L 145.042969 368.925781 L 159.175781 214.332031 L 173.308594 70.289062 L 187.441406 264.371094 L 201.578125 349.238281 L 215.710938 328.652344 L 229.84375 296.777344 L 243.976562 299.191406 L 258.113281 313.976562 L 272.246094 299.160156 L 286.378906 228.78125 L 300.511719 39.90625 L 314.648438 59.691406 L 328.78125 172.242188 L 342.914062 242.402344 L 357.046875 298.054688 L 371.179688 337.738281 L 385.316406 377.296875 \"/>\n",
       "<path style=\"fill:none;stroke-width:1.066978;stroke-linecap:butt;stroke-linejoin:round;stroke:rgb(64.705882%,54.117647%,100%);stroke-opacity:1;stroke-miterlimit:1;\" d=\"M 60.238281 431.460938 L 74.375 443.28125 L 88.507812 447.777344 L 102.640625 449.851562 L 116.773438 449.085938 L 130.910156 433.945312 L 145.042969 369.660156 L 159.175781 218.28125 L 173.308594 83.441406 L 187.441406 267.835938 L 201.578125 351.851562 L 215.710938 338.464844 L 229.84375 309.894531 L 243.976562 309.726562 L 258.113281 321.183594 L 272.246094 306.660156 L 286.378906 228.464844 L 300.511719 26.640625 L 314.648438 47.570312 L 328.78125 175.792969 L 342.914062 254.71875 L 357.046875 307.1875 L 371.179688 349.460938 L 385.316406 393.421875 \"/>\n",
       "<path style=\"fill:none;stroke-width:1.066978;stroke-linecap:butt;stroke-linejoin:round;stroke:rgb(98.431373%,38.039216%,84.313725%);stroke-opacity:1;stroke-miterlimit:1;\" d=\"M 60.238281 426.027344 L 74.375 441.089844 L 88.507812 446.984375 L 102.640625 449.277344 L 116.773438 449.214844 L 130.910156 432.929688 L 145.042969 368.632812 L 159.175781 214.925781 L 173.308594 70.480469 L 187.441406 266.207031 L 201.578125 349.761719 L 215.710938 333.847656 L 229.84375 301.175781 L 243.976562 307.503906 L 258.113281 319.472656 L 272.246094 311.058594 L 286.378906 239.230469 L 300.511719 51.035156 L 314.648438 66.011719 L 328.78125 172.984375 L 342.914062 252 L 357.046875 300.574219 L 371.179688 340.519531 L 385.316406 387.496094 \"/>\n",
       "<g style=\"fill:rgb(30.196078%,30.196078%,30.196078%);fill-opacity:1;\">\n",
       "  <use xlink:href=\"#glyph0-1\" x=\"33.054688\" y=\"455.773438\"/>\n",
       "</g>\n",
       "<g style=\"fill:rgb(30.196078%,30.196078%,30.196078%);fill-opacity:1;\">\n",
       "  <use xlink:href=\"#glyph0-2\" x=\"21.054688\" y=\"299.066406\"/>\n",
       "  <use xlink:href=\"#glyph0-1\" x=\"26.78125\" y=\"299.066406\"/>\n",
       "  <use xlink:href=\"#glyph0-1\" x=\"32.507812\" y=\"299.066406\"/>\n",
       "</g>\n",
       "<g style=\"fill:rgb(30.196078%,30.196078%,30.196078%);fill-opacity:1;\">\n",
       "  <use xlink:href=\"#glyph0-3\" x=\"21.054688\" y=\"142.355469\"/>\n",
       "  <use xlink:href=\"#glyph0-1\" x=\"26.78125\" y=\"142.355469\"/>\n",
       "  <use xlink:href=\"#glyph0-1\" x=\"32.507812\" y=\"142.355469\"/>\n",
       "</g>\n",
       "<path style=\"fill:none;stroke-width:1.066978;stroke-linecap:butt;stroke-linejoin:round;stroke:rgb(20%,20%,20%);stroke-opacity:1;stroke-miterlimit:10;\" d=\"M 41.246094 453.105469 L 43.984375 453.105469 \"/>\n",
       "<path style=\"fill:none;stroke-width:1.066978;stroke-linecap:butt;stroke-linejoin:round;stroke:rgb(20%,20%,20%);stroke-opacity:1;stroke-miterlimit:10;\" d=\"M 41.246094 296.398438 L 43.984375 296.398438 \"/>\n",
       "<path style=\"fill:none;stroke-width:1.066978;stroke-linecap:butt;stroke-linejoin:round;stroke:rgb(20%,20%,20%);stroke-opacity:1;stroke-miterlimit:10;\" d=\"M 41.246094 139.6875 L 43.984375 139.6875 \"/>\n",
       "<path style=\"fill:none;stroke-width:1.066978;stroke-linecap:butt;stroke-linejoin:round;stroke:rgb(20%,20%,20%);stroke-opacity:1;stroke-miterlimit:10;\" d=\"M 60.238281 473.753906 L 60.238281 471.015625 \"/>\n",
       "<path style=\"fill:none;stroke-width:1.066978;stroke-linecap:butt;stroke-linejoin:round;stroke:rgb(20%,20%,20%);stroke-opacity:1;stroke-miterlimit:10;\" d=\"M 130.910156 473.753906 L 130.910156 471.015625 \"/>\n",
       "<path style=\"fill:none;stroke-width:1.066978;stroke-linecap:butt;stroke-linejoin:round;stroke:rgb(20%,20%,20%);stroke-opacity:1;stroke-miterlimit:10;\" d=\"M 201.578125 473.753906 L 201.578125 471.015625 \"/>\n",
       "<path style=\"fill:none;stroke-width:1.066978;stroke-linecap:butt;stroke-linejoin:round;stroke:rgb(20%,20%,20%);stroke-opacity:1;stroke-miterlimit:10;\" d=\"M 272.246094 473.753906 L 272.246094 471.015625 \"/>\n",
       "<path style=\"fill:none;stroke-width:1.066978;stroke-linecap:butt;stroke-linejoin:round;stroke:rgb(20%,20%,20%);stroke-opacity:1;stroke-miterlimit:10;\" d=\"M 342.914062 473.753906 L 342.914062 471.015625 \"/>\n",
       "<g style=\"fill:rgb(30.196078%,30.196078%,30.196078%);fill-opacity:1;\">\n",
       "  <use xlink:href=\"#glyph0-1\" x=\"57.238281\" y=\"482.113281\"/>\n",
       "</g>\n",
       "<g style=\"fill:rgb(30.196078%,30.196078%,30.196078%);fill-opacity:1;\">\n",
       "  <use xlink:href=\"#glyph0-4\" x=\"127.910156\" y=\"482.113281\"/>\n",
       "</g>\n",
       "<g style=\"fill:rgb(30.196078%,30.196078%,30.196078%);fill-opacity:1;\">\n",
       "  <use xlink:href=\"#glyph0-5\" x=\"195.578125\" y=\"482.113281\"/>\n",
       "  <use xlink:href=\"#glyph0-1\" x=\"201.304688\" y=\"482.113281\"/>\n",
       "</g>\n",
       "<g style=\"fill:rgb(30.196078%,30.196078%,30.196078%);fill-opacity:1;\">\n",
       "  <use xlink:href=\"#glyph0-5\" x=\"266.246094\" y=\"482.113281\"/>\n",
       "  <use xlink:href=\"#glyph0-4\" x=\"271.972656\" y=\"482.113281\"/>\n",
       "</g>\n",
       "<g style=\"fill:rgb(30.196078%,30.196078%,30.196078%);fill-opacity:1;\">\n",
       "  <use xlink:href=\"#glyph0-2\" x=\"336.914062\" y=\"482.113281\"/>\n",
       "  <use xlink:href=\"#glyph0-1\" x=\"342.640625\" y=\"482.113281\"/>\n",
       "</g>\n",
       "<g style=\"fill:rgb(0%,0%,0%);fill-opacity:1;\">\n",
       "  <use xlink:href=\"#glyph1-1\" x=\"190.277344\" y=\"495.539062\"/>\n",
       "  <use xlink:href=\"#glyph1-2\" x=\"198.548828\" y=\"495.539062\"/>\n",
       "  <use xlink:href=\"#glyph1-3\" x=\"205.279297\" y=\"495.539062\"/>\n",
       "  <use xlink:href=\"#glyph1-4\" x=\"212.250977\" y=\"495.539062\"/>\n",
       "  <use xlink:href=\"#glyph1-5\" x=\"216.773438\" y=\"495.539062\"/>\n",
       "  <use xlink:href=\"#glyph1-2\" x=\"220.270508\" y=\"495.539062\"/>\n",
       "  <use xlink:href=\"#glyph1-6\" x=\"227.000977\" y=\"495.539062\"/>\n",
       "  <use xlink:href=\"#glyph1-5\" x=\"230.874023\" y=\"495.539062\"/>\n",
       "  <use xlink:href=\"#glyph1-7\" x=\"234.371094\" y=\"495.539062\"/>\n",
       "  <use xlink:href=\"#glyph1-8\" x=\"241.353516\" y=\"495.539062\"/>\n",
       "  <use xlink:href=\"#glyph1-9\" x=\"248.094727\" y=\"495.539062\"/>\n",
       "</g>\n",
       "<g style=\"fill:rgb(0%,0%,0%);fill-opacity:1;\">\n",
       "  <use xlink:href=\"#glyph2-1\" x=\"15.882812\" y=\"278.246094\"/>\n",
       "  <use xlink:href=\"#glyph2-2\" x=\"15.882813\" y=\"271.365234\"/>\n",
       "  <use xlink:href=\"#glyph2-3\" x=\"15.882813\" y=\"264.855469\"/>\n",
       "  <use xlink:href=\"#glyph2-4\" x=\"15.882813\" y=\"258.087891\"/>\n",
       "  <use xlink:href=\"#glyph2-5\" x=\"15.882813\" y=\"253.56543\"/>\n",
       "  <use xlink:href=\"#glyph2-6\" x=\"15.882813\" y=\"246.824219\"/>\n",
       "  <use xlink:href=\"#glyph2-3\" x=\"15.882813\" y=\"239.841797\"/>\n",
       "  <use xlink:href=\"#glyph2-7\" x=\"15.882813\" y=\"233.074219\"/>\n",
       "  <use xlink:href=\"#glyph2-8\" x=\"15.882813\" y=\"229.577148\"/>\n",
       "  <use xlink:href=\"#glyph2-9\" x=\"15.882813\" y=\"223.529297\"/>\n",
       "  <use xlink:href=\"#glyph2-10\" x=\"15.882813\" y=\"216.798828\"/>\n",
       "  <use xlink:href=\"#glyph2-11\" x=\"15.882813\" y=\"209.827148\"/>\n",
       "  <use xlink:href=\"#glyph2-12\" x=\"15.882813\" y=\"202.855469\"/>\n",
       "</g>\n",
       "<path style=\" stroke:none;fill-rule:nonzero;fill:rgb(100%,100%,100%);fill-opacity:1;\" d=\"M 410.074219 305.136719 L 490.019531 305.136719 L 490.019531 171.351562 L 410.074219 171.351562 Z M 410.074219 305.136719 \"/>\n",
       "<path style=\"fill-rule:nonzero;fill:rgb(94.901961%,94.901961%,94.901961%);fill-opacity:1;stroke-width:1.066978;stroke-linecap:round;stroke-linejoin:round;stroke:rgb(100%,100%,100%);stroke-opacity:1;stroke-miterlimit:10;\" d=\"M 414.324219 197.207031 L 431.605469 197.207031 L 431.605469 179.925781 L 414.324219 179.925781 Z M 414.324219 197.207031 \"/>\n",
       "<path style=\"fill:none;stroke-width:1.066978;stroke-linecap:butt;stroke-linejoin:round;stroke:rgb(97.254902%,46.27451%,42.745098%);stroke-opacity:1;stroke-miterlimit:10;\" d=\"M 416.050781 188.566406 L 429.875 188.566406 \"/>\n",
       "<path style=\"fill-rule:nonzero;fill:rgb(94.901961%,94.901961%,94.901961%);fill-opacity:1;stroke-width:1.066978;stroke-linecap:round;stroke-linejoin:round;stroke:rgb(100%,100%,100%);stroke-opacity:1;stroke-miterlimit:10;\" d=\"M 414.324219 214.488281 L 431.605469 214.488281 L 431.605469 197.207031 L 414.324219 197.207031 Z M 414.324219 214.488281 \"/>\n",
       "<path style=\"fill:none;stroke-width:1.066978;stroke-linecap:butt;stroke-linejoin:round;stroke:rgb(76.862745%,60.392157%,0%);stroke-opacity:1;stroke-miterlimit:10;\" d=\"M 416.050781 205.847656 L 429.875 205.847656 \"/>\n",
       "<path style=\"fill-rule:nonzero;fill:rgb(94.901961%,94.901961%,94.901961%);fill-opacity:1;stroke-width:1.066978;stroke-linecap:round;stroke-linejoin:round;stroke:rgb(100%,100%,100%);stroke-opacity:1;stroke-miterlimit:10;\" d=\"M 414.324219 231.765625 L 431.605469 231.765625 L 431.605469 214.484375 L 414.324219 214.484375 Z M 414.324219 231.765625 \"/>\n",
       "<path style=\"fill:none;stroke-width:1.066978;stroke-linecap:butt;stroke-linejoin:round;stroke:rgb(32.54902%,70.588235%,0%);stroke-opacity:1;stroke-miterlimit:10;\" d=\"M 416.050781 223.125 L 429.875 223.125 \"/>\n",
       "<path style=\"fill-rule:nonzero;fill:rgb(94.901961%,94.901961%,94.901961%);fill-opacity:1;stroke-width:1.066978;stroke-linecap:round;stroke-linejoin:round;stroke:rgb(100%,100%,100%);stroke-opacity:1;stroke-miterlimit:10;\" d=\"M 414.324219 249.046875 L 431.605469 249.046875 L 431.605469 231.765625 L 414.324219 231.765625 Z M 414.324219 249.046875 \"/>\n",
       "<path style=\"fill:none;stroke-width:1.066978;stroke-linecap:butt;stroke-linejoin:round;stroke:rgb(0%,75.294118%,58.039216%);stroke-opacity:1;stroke-miterlimit:10;\" d=\"M 416.050781 240.40625 L 429.875 240.40625 \"/>\n",
       "<path style=\"fill-rule:nonzero;fill:rgb(94.901961%,94.901961%,94.901961%);fill-opacity:1;stroke-width:1.066978;stroke-linecap:round;stroke-linejoin:round;stroke:rgb(100%,100%,100%);stroke-opacity:1;stroke-miterlimit:10;\" d=\"M 414.324219 266.328125 L 431.605469 266.328125 L 431.605469 249.046875 L 414.324219 249.046875 Z M 414.324219 266.328125 \"/>\n",
       "<path style=\"fill:none;stroke-width:1.066978;stroke-linecap:butt;stroke-linejoin:round;stroke:rgb(0%,71.372549%,92.156863%);stroke-opacity:1;stroke-miterlimit:10;\" d=\"M 416.050781 257.6875 L 429.875 257.6875 \"/>\n",
       "<path style=\"fill-rule:nonzero;fill:rgb(94.901961%,94.901961%,94.901961%);fill-opacity:1;stroke-width:1.066978;stroke-linecap:round;stroke-linejoin:round;stroke:rgb(100%,100%,100%);stroke-opacity:1;stroke-miterlimit:10;\" d=\"M 414.324219 283.605469 L 431.605469 283.605469 L 431.605469 266.324219 L 414.324219 266.324219 Z M 414.324219 283.605469 \"/>\n",
       "<path style=\"fill:none;stroke-width:1.066978;stroke-linecap:butt;stroke-linejoin:round;stroke:rgb(64.705882%,54.117647%,100%);stroke-opacity:1;stroke-miterlimit:10;\" d=\"M 416.050781 274.964844 L 429.875 274.964844 \"/>\n",
       "<path style=\"fill-rule:nonzero;fill:rgb(94.901961%,94.901961%,94.901961%);fill-opacity:1;stroke-width:1.066978;stroke-linecap:round;stroke-linejoin:round;stroke:rgb(100%,100%,100%);stroke-opacity:1;stroke-miterlimit:10;\" d=\"M 414.324219 300.886719 L 431.605469 300.886719 L 431.605469 283.605469 L 414.324219 283.605469 Z M 414.324219 300.886719 \"/>\n",
       "<path style=\"fill:none;stroke-width:1.066978;stroke-linecap:butt;stroke-linejoin:round;stroke:rgb(98.431373%,38.039216%,84.313725%);stroke-opacity:1;stroke-miterlimit:10;\" d=\"M 416.050781 292.246094 L 429.875 292.246094 \"/>\n",
       "<g style=\"fill:rgb(0%,0%,0%);fill-opacity:1;\">\n",
       "  <use xlink:href=\"#glyph0-6\" x=\"433.765625\" y=\"191.234375\"/>\n",
       "  <use xlink:href=\"#glyph0-7\" x=\"438.288086\" y=\"191.234375\"/>\n",
       "  <use xlink:href=\"#glyph0-8\" x=\"441.988281\" y=\"191.234375\"/>\n",
       "  <use xlink:href=\"#glyph0-9\" x=\"444.489258\" y=\"191.234375\"/>\n",
       "  <use xlink:href=\"#glyph0-10\" x=\"450.202148\" y=\"191.234375\"/>\n",
       "  <use xlink:href=\"#glyph0-11\" x=\"455.717773\" y=\"191.234375\"/>\n",
       "</g>\n",
       "<g style=\"fill:rgb(0%,0%,0%);fill-opacity:1;\">\n",
       "  <use xlink:href=\"#glyph0-12\" x=\"433.765625\" y=\"208.515625\"/>\n",
       "  <use xlink:href=\"#glyph0-13\" x=\"441.53125\" y=\"208.515625\"/>\n",
       "  <use xlink:href=\"#glyph0-14\" x=\"447.038086\" y=\"208.515625\"/>\n",
       "  <use xlink:href=\"#glyph0-9\" x=\"452.742188\" y=\"208.515625\"/>\n",
       "  <use xlink:href=\"#glyph0-10\" x=\"458.455078\" y=\"208.515625\"/>\n",
       "  <use xlink:href=\"#glyph0-11\" x=\"463.970703\" y=\"208.515625\"/>\n",
       "</g>\n",
       "<g style=\"fill:rgb(0%,0%,0%);fill-opacity:1;\">\n",
       "  <use xlink:href=\"#glyph0-15\" x=\"433.765625\" y=\"225.792969\"/>\n",
       "  <use xlink:href=\"#glyph0-10\" x=\"439.478516\" y=\"225.792969\"/>\n",
       "  <use xlink:href=\"#glyph0-16\" x=\"444.994141\" y=\"225.792969\"/>\n",
       "  <use xlink:href=\"#glyph0-17\" x=\"448.523438\" y=\"225.792969\"/>\n",
       "  <use xlink:href=\"#glyph0-7\" x=\"454.227539\" y=\"225.792969\"/>\n",
       "  <use xlink:href=\"#glyph0-9\" x=\"457.769531\" y=\"225.792969\"/>\n",
       "  <use xlink:href=\"#glyph0-10\" x=\"463.482422\" y=\"225.792969\"/>\n",
       "  <use xlink:href=\"#glyph0-11\" x=\"468.998047\" y=\"225.792969\"/>\n",
       "</g>\n",
       "<g style=\"fill:rgb(0%,0%,0%);fill-opacity:1;\">\n",
       "  <use xlink:href=\"#glyph0-15\" x=\"433.765625\" y=\"243.074219\"/>\n",
       "  <use xlink:href=\"#glyph0-17\" x=\"439.478516\" y=\"243.074219\"/>\n",
       "  <use xlink:href=\"#glyph0-14\" x=\"445.182617\" y=\"243.074219\"/>\n",
       "  <use xlink:href=\"#glyph0-9\" x=\"450.886719\" y=\"243.074219\"/>\n",
       "  <use xlink:href=\"#glyph0-10\" x=\"456.599609\" y=\"243.074219\"/>\n",
       "  <use xlink:href=\"#glyph0-11\" x=\"462.115234\" y=\"243.074219\"/>\n",
       "</g>\n",
       "<g style=\"fill:rgb(0%,0%,0%);fill-opacity:1;\">\n",
       "  <use xlink:href=\"#glyph0-18\" x=\"433.765625\" y=\"260.355469\"/>\n",
       "  <use xlink:href=\"#glyph0-19\" x=\"439.263672\" y=\"260.355469\"/>\n",
       "  <use xlink:href=\"#glyph0-17\" x=\"444.967773\" y=\"260.355469\"/>\n",
       "  <use xlink:href=\"#glyph0-7\" x=\"450.671875\" y=\"260.355469\"/>\n",
       "  <use xlink:href=\"#glyph0-20\" x=\"454.37207\" y=\"260.355469\"/>\n",
       "  <use xlink:href=\"#glyph0-9\" x=\"459.061523\" y=\"260.355469\"/>\n",
       "  <use xlink:href=\"#glyph0-10\" x=\"464.774414\" y=\"260.355469\"/>\n",
       "  <use xlink:href=\"#glyph0-11\" x=\"470.290039\" y=\"260.355469\"/>\n",
       "</g>\n",
       "<g style=\"fill:rgb(0%,0%,0%);fill-opacity:1;\">\n",
       "  <use xlink:href=\"#glyph0-18\" x=\"433.765625\" y=\"277.632812\"/>\n",
       "  <use xlink:href=\"#glyph0-17\" x=\"437.897461\" y=\"277.632812\"/>\n",
       "  <use xlink:href=\"#glyph0-21\" x=\"443.601562\" y=\"277.632812\"/>\n",
       "  <use xlink:href=\"#glyph0-20\" x=\"449.138672\" y=\"277.632812\"/>\n",
       "  <use xlink:href=\"#glyph0-9\" x=\"453.828125\" y=\"277.632812\"/>\n",
       "  <use xlink:href=\"#glyph0-10\" x=\"459.541016\" y=\"277.632812\"/>\n",
       "  <use xlink:href=\"#glyph0-11\" x=\"465.056641\" y=\"277.632812\"/>\n",
       "</g>\n",
       "<g style=\"fill:rgb(0%,0%,0%);fill-opacity:1;\">\n",
       "  <use xlink:href=\"#glyph0-22\" x=\"433.765625\" y=\"294.914062\"/>\n",
       "  <use xlink:href=\"#glyph0-21\" x=\"442.137695\" y=\"294.914062\"/>\n",
       "  <use xlink:href=\"#glyph0-9\" x=\"447.674805\" y=\"294.914062\"/>\n",
       "  <use xlink:href=\"#glyph0-14\" x=\"453.387695\" y=\"294.914062\"/>\n",
       "  <use xlink:href=\"#glyph0-21\" x=\"459.091797\" y=\"294.914062\"/>\n",
       "  <use xlink:href=\"#glyph0-20\" x=\"464.628906\" y=\"294.914062\"/>\n",
       "  <use xlink:href=\"#glyph0-9\" x=\"469.318359\" y=\"294.914062\"/>\n",
       "  <use xlink:href=\"#glyph0-10\" x=\"475.03125\" y=\"294.914062\"/>\n",
       "  <use xlink:href=\"#glyph0-11\" x=\"480.546875\" y=\"294.914062\"/>\n",
       "</g>\n",
       "</g>\n",
       "</svg>\n"
      ],
      "text/plain": [
       "plot without title"
      ]
     },
     "metadata": {
      "image/svg+xml": {
       "isolated": true
      }
     },
     "output_type": "display_data"
    }
   ],
   "source": [
    "ggplot(r_df_rentals_hour_weekday, aes(hour, `avg(count)`, group = weekday,\n",
    "                                      colour = weekday)) +\n",
    "      geom_line() +\n",
    "      xlab('Hour of day') +\n",
    "      ylab('Average count') + theme(legend.title=element_blank())"
   ]
  },
  {
   "cell_type": "code",
   "execution_count": 52,
   "metadata": {
    "collapsed": false
   },
   "outputs": [
    {
     "data": {
      "text/html": [
       "<table>\n",
       "<thead><tr><th></th><th scope=col>hour</th><th scope=col>weekday</th><th scope=col>avg(count)</th></tr></thead>\n",
       "<tbody>\n",
       "\t<tr><th scope=row>14</th><td>23              </td><td>Sunday          </td><td>61.8952380952381</td></tr>\n",
       "\t<tr><th scope=row>70</th><td>23      </td><td>Thursday</td><td>96.75   </td></tr>\n",
       "\t<tr><th scope=row>85</th><td>23              </td><td>Tuesday         </td><td>76.1730769230769</td></tr>\n",
       "\t<tr><th scope=row>115</th><td>23              </td><td>Friday          </td><td>115.211538461538</td></tr>\n",
       "\t<tr><th scope=row>154</th><td>23              </td><td>Wednesday       </td><td>83.7378640776699</td></tr>\n",
       "\t<tr><th scope=row>156</th><td>23              </td><td>Monday          </td><td>65.4038461538462</td></tr>\n",
       "\t<tr><th scope=row>164</th><td>23              </td><td>Saturday        </td><td>115.855769230769</td></tr>\n",
       "</tbody>\n",
       "</table>\n"
      ],
      "text/latex": [
       "\\begin{tabular}{r|lll}\n",
       "  & hour & weekday & avg(count)\\\\\n",
       "\\hline\n",
       "\t14 & 23               & Sunday           & 61.8952380952381\\\\\n",
       "\t70 & 23       & Thursday & 96.75   \\\\\n",
       "\t85 & 23               & Tuesday          & 76.1730769230769\\\\\n",
       "\t115 & 23               & Friday           & 115.211538461538\\\\\n",
       "\t154 & 23               & Wednesday        & 83.7378640776699\\\\\n",
       "\t156 & 23               & Monday           & 65.4038461538462\\\\\n",
       "\t164 & 23               & Saturday         & 115.855769230769\\\\\n",
       "\\end{tabular}\n"
      ],
      "text/plain": [
       "    hour   weekday avg(count)\n",
       "14    23    Sunday   61.89524\n",
       "70    23  Thursday   96.75000\n",
       "85    23   Tuesday   76.17308\n",
       "115   23    Friday  115.21154\n",
       "154   23 Wednesday   83.73786\n",
       "156   23    Monday   65.40385\n",
       "164   23  Saturday  115.85577"
      ]
     },
     "metadata": {},
     "output_type": "display_data"
    }
   ],
   "source": [
    "r_df_rentals_hour_weekday[r_df_rentals_hour_weekday$hour == 23, ]"
   ]
  },
  {
   "cell_type": "code",
   "execution_count": null,
   "metadata": {
    "collapsed": true
   },
   "outputs": [],
   "source": []
  }
 ],
 "metadata": {
  "kernelspec": {
   "display_name": "R",
   "language": "R",
   "name": "ir"
  },
  "language_info": {
   "codemirror_mode": "r",
   "file_extension": ".r",
   "mimetype": "text/x-r-source",
   "name": "R",
   "pygments_lexer": "r",
   "version": "3.3.0"
  }
 },
 "nbformat": 4,
 "nbformat_minor": 0
}
