{
 "cells": [
  {
   "cell_type": "markdown",
   "metadata": {},
   "source": [
    "### <center>Data Munging with Apache Spark: Using Spark-CSV and exploring data, _with R_.</center>\n",
    "<center>@geraudster</center>\n",
    "\n",
    "![TDS Logo](http://photos1.meetupstatic.com/photos/event/8/a/5/2/global_434255410.jpeg)\n",
    "\n",
    "\n",
    "Manual loading and saving CSV files using RDDs is a cumbersome and error-prone process. Fortunately, Spark ecosystem is growing fast and there is a library for parsing and querying CSV data with Apache Spark, for Spark SQL and DataFrames. See https://github.com/databricks/spark-csv\n",
    "\n",
    "Note: In order to use this library you have to start pyspark with `--packages com.databricks:spark-csv_2.11:1.3.0` option."
   ]
  },
  {
   "cell_type": "markdown",
   "metadata": {},
   "source": [
    "First, we will initialize the Spark context (sc) by setting some environment variables and loading the _SparkR_ package:"
   ]
  },
  {
   "cell_type": "code",
   "execution_count": 1,
   "metadata": {
    "collapsed": false
   },
   "outputs": [
    {
     "name": "stderr",
     "output_type": "stream",
     "text": [
      "\n",
      "Attaching package: ‘SparkR’\n",
      "\n",
      "The following objects are masked from ‘package:stats’:\n",
      "\n",
      "    cov, filter, lag, na.omit, predict, sd, var\n",
      "\n",
      "The following objects are masked from ‘package:base’:\n",
      "\n",
      "    colnames, colnames<-, endsWith, intersect, rank, rbind, sample,\n",
      "    startsWith, subset, summary, table, transform\n",
      "\n"
     ]
    },
    {
     "name": "stdout",
     "output_type": "stream",
     "text": [
      "Launching java with spark-submit command /opt/spark/spark-1.6.1-bin-hadoop2.6/bin/spark-submit   \"--packages\" \"com.databricks:spark-csv_2.11:1.3.0\" \"sparkr-shell\" /tmp/RtmpLCOFlm/backend_port1da3a69360f \n"
     ]
    }
   ],
   "source": [
    "# Set this to where Spark is installed\n",
    "Sys.setenv(SPARK_HOME=\"/opt/spark/spark-1.6.1-bin-hadoop2.6\")\n",
    "Sys.setenv('SPARKR_SUBMIT_ARGS'='\"--packages\" \"com.databricks:spark-csv_2.11:1.3.0\" \"sparkr-shell\"')\n",
    "\n",
    "# This line loads SparkR from the installed directory\n",
    ".libPaths(c(file.path(Sys.getenv(\"SPARK_HOME\"), \"R\", \"lib\"), .libPaths()))\n",
    "\n",
    "# Load the SparkR library\n",
    "library(SparkR)\n",
    "sc <- sparkR.init(master=\"local[*]\")"
   ]
  },
  {
   "cell_type": "markdown",
   "metadata": {},
   "source": [
    "### Loading CSV with Spark-CSV library"
   ]
  },
  {
   "cell_type": "code",
   "execution_count": 2,
   "metadata": {
    "collapsed": false
   },
   "outputs": [],
   "source": [
    "sqlContext <- sparkRSQL.init(sc)\n",
    "bikes <- read.df(sqlContext,\n",
    "                 path = 'data/bike_sharing/usage_hourly.csv',\n",
    "                 source = 'com.databricks.spark.csv',\n",
    "                 header = 'true',\n",
    "                 inferschema = 'true')"
   ]
  },
  {
   "cell_type": "markdown",
   "metadata": {},
   "source": [
    "Print inferred shema:"
   ]
  },
  {
   "cell_type": "code",
   "execution_count": 3,
   "metadata": {
    "collapsed": false
   },
   "outputs": [
    {
     "name": "stdout",
     "output_type": "stream",
     "text": [
      "root\n",
      " |-- datetime: timestamp (nullable = true)\n",
      " |-- season: string (nullable = true)\n",
      " |-- holiday: integer (nullable = true)\n",
      " |-- workingday: integer (nullable = true)\n",
      " |-- casual: integer (nullable = true)\n",
      " |-- registered: integer (nullable = true)\n",
      " |-- count: integer (nullable = true)\n"
     ]
    }
   ],
   "source": [
    "printSchema(bikes)"
   ]
  },
  {
   "cell_type": "markdown",
   "metadata": {},
   "source": [
    "We can also use `str` function to see R types:"
   ]
  },
  {
   "cell_type": "code",
   "execution_count": 4,
   "metadata": {
    "collapsed": false
   },
   "outputs": [
    {
     "name": "stdout",
     "output_type": "stream",
     "text": [
      "'DataFrame': 7 variables:\n",
      " $ datetime  : POSIXct 2011-01-01 00:00:00 2011-01-01 01:00:00 2011-01-01 02:00:00 2011-01-01 03:00:00 2011-01-01 04:00:\n",
      " $ season    : chr \"springer\" \"springer\" \"springer\" \"springer\" \"springer\" \"springer\"\n",
      " $ holiday   : int 0 0 0 0 0 0\n",
      " $ workingday: int 0 0 0 0 0 0\n",
      " $ casual    : int 3 8 5 3 0 0\n",
      " $ registered: int 13 32 27 10 1 1\n",
      " $ count     : int 16 40 32 13 1 1\n"
     ]
    }
   ],
   "source": [
    "str(bikes)"
   ]
  },
  {
   "cell_type": "markdown",
   "metadata": {},
   "source": [
    "Show 5 first rows:"
   ]
  },
  {
   "cell_type": "code",
   "execution_count": 5,
   "metadata": {
    "collapsed": false
   },
   "outputs": [
    {
     "data": {
      "text/html": [
       "<table>\n",
       "<thead><tr><th></th><th scope=col>datetime</th><th scope=col>season</th><th scope=col>holiday</th><th scope=col>workingday</th><th scope=col>casual</th><th scope=col>registered</th><th scope=col>count</th></tr></thead>\n",
       "<tbody>\n",
       "\t<tr><th scope=row>1</th><td>2011-01-01 00:00:00</td><td>springer           </td><td>0                  </td><td>0                  </td><td>3                  </td><td>13                 </td><td>16                 </td></tr>\n",
       "\t<tr><th scope=row>2</th><td>2011-01-01 01:00:00</td><td>springer           </td><td>0                  </td><td>0                  </td><td>8                  </td><td>32                 </td><td>40                 </td></tr>\n",
       "\t<tr><th scope=row>3</th><td>2011-01-01 02:00:00</td><td>springer           </td><td>0                  </td><td>0                  </td><td>5                  </td><td>27                 </td><td>32                 </td></tr>\n",
       "\t<tr><th scope=row>4</th><td>2011-01-01 03:00:00</td><td>springer           </td><td>0                  </td><td>0                  </td><td>3                  </td><td>10                 </td><td>13                 </td></tr>\n",
       "\t<tr><th scope=row>5</th><td>2011-01-01 04:00:00</td><td>springer           </td><td>0                  </td><td>0                  </td><td>0                  </td><td>1                  </td><td>1                  </td></tr>\n",
       "</tbody>\n",
       "</table>\n"
      ],
      "text/latex": [
       "\\begin{tabular}{r|lllllll}\n",
       "  & datetime & season & holiday & workingday & casual & registered & count\\\\\n",
       "\\hline\n",
       "\t1 & 2011-01-01 00:00:00 & springer            & 0                   & 0                   & 3                   & 13                  & 16                 \\\\\n",
       "\t2 & 2011-01-01 01:00:00 & springer            & 0                   & 0                   & 8                   & 32                  & 40                 \\\\\n",
       "\t3 & 2011-01-01 02:00:00 & springer            & 0                   & 0                   & 5                   & 27                  & 32                 \\\\\n",
       "\t4 & 2011-01-01 03:00:00 & springer            & 0                   & 0                   & 3                   & 10                  & 13                 \\\\\n",
       "\t5 & 2011-01-01 04:00:00 & springer            & 0                   & 0                   & 0                   & 1                   & 1                  \\\\\n",
       "\\end{tabular}\n"
      ],
      "text/plain": [
       "             datetime   season holiday workingday casual registered count\n",
       "1 2011-01-01 00:00:00 springer       0          0      3         13    16\n",
       "2 2011-01-01 01:00:00 springer       0          0      8         32    40\n",
       "3 2011-01-01 02:00:00 springer       0          0      5         27    32\n",
       "4 2011-01-01 03:00:00 springer       0          0      3         10    13\n",
       "5 2011-01-01 04:00:00 springer       0          0      0          1     1"
      ]
     },
     "metadata": {},
     "output_type": "display_data"
    }
   ],
   "source": [
    "head(bikes, 5)"
   ]
  },
  {
   "cell_type": "markdown",
   "metadata": {},
   "source": [
    "Convert columns `holiday` and `workingday` from numeric to boolean"
   ]
  },
  {
   "cell_type": "code",
   "execution_count": 6,
   "metadata": {
    "collapsed": true
   },
   "outputs": [],
   "source": [
    "bikes$holiday <- bikes$holiday == 1\n",
    "bikes$workingday <- bikes$workingday == 1"
   ]
  },
  {
   "cell_type": "code",
   "execution_count": 7,
   "metadata": {
    "collapsed": false
   },
   "outputs": [
    {
     "data": {
      "text/html": [
       "<table>\n",
       "<thead><tr><th></th><th scope=col>datetime</th><th scope=col>season</th><th scope=col>holiday</th><th scope=col>workingday</th><th scope=col>casual</th><th scope=col>registered</th><th scope=col>count</th></tr></thead>\n",
       "<tbody>\n",
       "\t<tr><th scope=row>1</th><td>2011-01-01 00:00:00</td><td>springer           </td><td>FALSE              </td><td>FALSE              </td><td>3                  </td><td>13                 </td><td>16                 </td></tr>\n",
       "\t<tr><th scope=row>2</th><td>2011-01-01 01:00:00</td><td>springer           </td><td>FALSE              </td><td>FALSE              </td><td>8                  </td><td>32                 </td><td>40                 </td></tr>\n",
       "\t<tr><th scope=row>3</th><td>2011-01-01 02:00:00</td><td>springer           </td><td>FALSE              </td><td>FALSE              </td><td>5                  </td><td>27                 </td><td>32                 </td></tr>\n",
       "\t<tr><th scope=row>4</th><td>2011-01-01 03:00:00</td><td>springer           </td><td>FALSE              </td><td>FALSE              </td><td>3                  </td><td>10                 </td><td>13                 </td></tr>\n",
       "\t<tr><th scope=row>5</th><td>2011-01-01 04:00:00</td><td>springer           </td><td>FALSE              </td><td>FALSE              </td><td>0                  </td><td>1                  </td><td>1                  </td></tr>\n",
       "\t<tr><th scope=row>6</th><td>2011-01-01 05:00:00</td><td>springer           </td><td>FALSE              </td><td>FALSE              </td><td>0                  </td><td>1                  </td><td>1                  </td></tr>\n",
       "</tbody>\n",
       "</table>\n"
      ],
      "text/latex": [
       "\\begin{tabular}{r|lllllll}\n",
       "  & datetime & season & holiday & workingday & casual & registered & count\\\\\n",
       "\\hline\n",
       "\t1 & 2011-01-01 00:00:00 & springer            & FALSE               & FALSE               & 3                   & 13                  & 16                 \\\\\n",
       "\t2 & 2011-01-01 01:00:00 & springer            & FALSE               & FALSE               & 8                   & 32                  & 40                 \\\\\n",
       "\t3 & 2011-01-01 02:00:00 & springer            & FALSE               & FALSE               & 5                   & 27                  & 32                 \\\\\n",
       "\t4 & 2011-01-01 03:00:00 & springer            & FALSE               & FALSE               & 3                   & 10                  & 13                 \\\\\n",
       "\t5 & 2011-01-01 04:00:00 & springer            & FALSE               & FALSE               & 0                   & 1                   & 1                  \\\\\n",
       "\t6 & 2011-01-01 05:00:00 & springer            & FALSE               & FALSE               & 0                   & 1                   & 1                  \\\\\n",
       "\\end{tabular}\n"
      ],
      "text/plain": [
       "             datetime   season holiday workingday casual registered count\n",
       "1 2011-01-01 00:00:00 springer   FALSE      FALSE      3         13    16\n",
       "2 2011-01-01 01:00:00 springer   FALSE      FALSE      8         32    40\n",
       "3 2011-01-01 02:00:00 springer   FALSE      FALSE      5         27    32\n",
       "4 2011-01-01 03:00:00 springer   FALSE      FALSE      3         10    13\n",
       "5 2011-01-01 04:00:00 springer   FALSE      FALSE      0          1     1\n",
       "6 2011-01-01 05:00:00 springer   FALSE      FALSE      0          1     1"
      ]
     },
     "metadata": {},
     "output_type": "display_data"
    }
   ],
   "source": [
    "head(bikes)"
   ]
  },
  {
   "cell_type": "markdown",
   "metadata": {},
   "source": [
    "#### Now, load weather data"
   ]
  },
  {
   "cell_type": "code",
   "execution_count": 8,
   "metadata": {
    "collapsed": false
   },
   "outputs": [],
   "source": [
    "weather <- read.df(sqlContext,\n",
    "                   path = 'data/bike_sharing/weather.csv',\n",
    "                   source = 'com.databricks.spark.csv',\n",
    "                   header = 'true',\n",
    "                   inferschema = 'true')"
   ]
  },
  {
   "cell_type": "code",
   "execution_count": 9,
   "metadata": {
    "collapsed": false
   },
   "outputs": [
    {
     "name": "stdout",
     "output_type": "stream",
     "text": [
      "root\n",
      " |-- date: string (nullable = true)\n",
      " |-- hour: integer (nullable = true)\n",
      " |-- weather: string (nullable = true)\n",
      " |-- temp: double (nullable = true)\n",
      " |-- atemp: double (nullable = true)\n",
      " |-- humidity: double (nullable = true)\n",
      " |-- windspeed: double (nullable = true)\n"
     ]
    }
   ],
   "source": [
    "printSchema(weather)"
   ]
  },
  {
   "cell_type": "code",
   "execution_count": 10,
   "metadata": {
    "collapsed": false
   },
   "outputs": [
    {
     "data": {
      "text/html": [
       "<table>\n",
       "<thead><tr><th></th><th scope=col>date</th><th scope=col>hour</th><th scope=col>weather</th><th scope=col>temp</th><th scope=col>atemp</th><th scope=col>humidity</th><th scope=col>windspeed</th></tr></thead>\n",
       "<tbody>\n",
       "\t<tr><th scope=row>1</th><td>2011-01-01                                     </td><td>0                                              </td><td>Clear, Few clouds, Partly cloudy, Partly cloudy</td><td>9.84                                           </td><td>14.395                                         </td><td>81                                             </td><td>0                                              </td></tr>\n",
       "\t<tr><th scope=row>2</th><td>2011-01-01                                     </td><td>1                                              </td><td>Clear, Few clouds, Partly cloudy, Partly cloudy</td><td>9.02                                           </td><td>13.635                                         </td><td>80                                             </td><td>0                                              </td></tr>\n",
       "\t<tr><th scope=row>3</th><td>2011-01-01                                     </td><td>2                                              </td><td>Clear, Few clouds, Partly cloudy, Partly cloudy</td><td>9.02                                           </td><td>13.635                                         </td><td>80                                             </td><td>0                                              </td></tr>\n",
       "\t<tr><th scope=row>4</th><td>2011-01-01                                     </td><td>3                                              </td><td>Clear, Few clouds, Partly cloudy, Partly cloudy</td><td>9.84                                           </td><td>14.395                                         </td><td>75                                             </td><td>0                                              </td></tr>\n",
       "\t<tr><th scope=row>5</th><td>2011-01-01                                     </td><td>4                                              </td><td>Clear, Few clouds, Partly cloudy, Partly cloudy</td><td>9.84                                           </td><td>14.395                                         </td><td>75                                             </td><td>0                                              </td></tr>\n",
       "\t<tr><th scope=row>6</th><td>2011-01-01                                                  </td><td>5                                                           </td><td>Mist + Cloudy, Mist + Broken clouds, Mist + Few clouds, Mist</td><td>9.84                                                        </td><td>12.88                                                       </td><td>75                                                          </td><td>6.003                                                       </td></tr>\n",
       "</tbody>\n",
       "</table>\n"
      ],
      "text/latex": [
       "\\begin{tabular}{r|lllllll}\n",
       "  & date & hour & weather & temp & atemp & humidity & windspeed\\\\\n",
       "\\hline\n",
       "\t1 & 2011-01-01                                      & 0                                               & Clear, Few clouds, Partly cloudy, Partly cloudy & 9.84                                            & 14.395                                          & 81                                              & 0                                              \\\\\n",
       "\t2 & 2011-01-01                                      & 1                                               & Clear, Few clouds, Partly cloudy, Partly cloudy & 9.02                                            & 13.635                                          & 80                                              & 0                                              \\\\\n",
       "\t3 & 2011-01-01                                      & 2                                               & Clear, Few clouds, Partly cloudy, Partly cloudy & 9.02                                            & 13.635                                          & 80                                              & 0                                              \\\\\n",
       "\t4 & 2011-01-01                                      & 3                                               & Clear, Few clouds, Partly cloudy, Partly cloudy & 9.84                                            & 14.395                                          & 75                                              & 0                                              \\\\\n",
       "\t5 & 2011-01-01                                      & 4                                               & Clear, Few clouds, Partly cloudy, Partly cloudy & 9.84                                            & 14.395                                          & 75                                              & 0                                              \\\\\n",
       "\t6 & 2011-01-01                                                   & 5                                                            & Mist + Cloudy, Mist + Broken clouds, Mist + Few clouds, Mist & 9.84                                                         & 12.88                                                        & 75                                                           & 6.003                                                       \\\\\n",
       "\\end{tabular}\n"
      ],
      "text/plain": [
       "        date hour                                                      weather\n",
       "1 2011-01-01    0              Clear, Few clouds, Partly cloudy, Partly cloudy\n",
       "2 2011-01-01    1              Clear, Few clouds, Partly cloudy, Partly cloudy\n",
       "3 2011-01-01    2              Clear, Few clouds, Partly cloudy, Partly cloudy\n",
       "4 2011-01-01    3              Clear, Few clouds, Partly cloudy, Partly cloudy\n",
       "5 2011-01-01    4              Clear, Few clouds, Partly cloudy, Partly cloudy\n",
       "6 2011-01-01    5 Mist + Cloudy, Mist + Broken clouds, Mist + Few clouds, Mist\n",
       "  temp  atemp humidity windspeed\n",
       "1 9.84 14.395       81     0.000\n",
       "2 9.02 13.635       80     0.000\n",
       "3 9.02 13.635       80     0.000\n",
       "4 9.84 14.395       75     0.000\n",
       "5 9.84 14.395       75     0.000\n",
       "6 9.84 12.880       75     6.003"
      ]
     },
     "metadata": {},
     "output_type": "display_data"
    }
   ],
   "source": [
    "head(weather)"
   ]
  },
  {
   "cell_type": "markdown",
   "metadata": {},
   "source": [
    "#### Computes very basic statistics for numeric columns."
   ]
  },
  {
   "cell_type": "code",
   "execution_count": 11,
   "metadata": {
    "collapsed": false
   },
   "outputs": [
    {
     "data": {
      "text/html": [
       "<table>\n",
       "<thead><tr><th></th><th scope=col>summary</th><th scope=col>date</th><th scope=col>hour</th><th scope=col>weather</th><th scope=col>temp</th><th scope=col>atemp</th><th scope=col>humidity</th><th scope=col>windspeed</th></tr></thead>\n",
       "<tbody>\n",
       "\t<tr><th scope=row>1</th><td>count</td><td>17379</td><td>17379</td><td>17379</td><td>17379</td><td>17379</td><td>17379</td><td>17379</td></tr>\n",
       "\t<tr><th scope=row>2</th><td>mean              </td><td>NA                </td><td>11.546751826917545</td><td>NA                </td><td>20.376473905287963</td><td>23.78875510673787 </td><td>62.722883940387824</td><td>12.73647350250328 </td></tr>\n",
       "\t<tr><th scope=row>3</th><td>stddev           </td><td>NA               </td><td>6.914405095264506</td><td>NA               </td><td>7.894800971238591</td><td>8.592510781767942</td><td>19.29298340629151</td><td>8.19677122859822 </td></tr>\n",
       "\t<tr><th scope=row>4</th><td>min                                            </td><td>2011-01-01                                     </td><td>0                                              </td><td>Clear, Few clouds, Partly cloudy, Partly cloudy</td><td>0.82                                           </td><td>0.0                                            </td><td>0.0                                            </td><td>0.0                                            </td></tr>\n",
       "\t<tr><th scope=row>5</th><td>max                                                         </td><td>2012-12-31                                                  </td><td>23                                                          </td><td>Mist + Cloudy, Mist + Broken clouds, Mist + Few clouds, Mist</td><td>41.0                                                        </td><td>50.0                                                        </td><td>100.0                                                       </td><td>56.997                                                      </td></tr>\n",
       "</tbody>\n",
       "</table>\n"
      ],
      "text/latex": [
       "\\begin{tabular}{r|llllllll}\n",
       "  & summary & date & hour & weather & temp & atemp & humidity & windspeed\\\\\n",
       "\\hline\n",
       "\t1 & count & 17379 & 17379 & 17379 & 17379 & 17379 & 17379 & 17379\\\\\n",
       "\t2 & mean               & NA                 & 11.546751826917545 & NA                 & 20.376473905287963 & 23.78875510673787  & 62.722883940387824 & 12.73647350250328 \\\\\n",
       "\t3 & stddev            & NA                & 6.914405095264506 & NA                & 7.894800971238591 & 8.592510781767942 & 19.29298340629151 & 8.19677122859822 \\\\\n",
       "\t4 & min                                             & 2011-01-01                                      & 0                                               & Clear, Few clouds, Partly cloudy, Partly cloudy & 0.82                                            & 0.0                                             & 0.0                                             & 0.0                                            \\\\\n",
       "\t5 & max                                                          & 2012-12-31                                                   & 23                                                           & Mist + Cloudy, Mist + Broken clouds, Mist + Few clouds, Mist & 41.0                                                         & 50.0                                                         & 100.0                                                        & 56.997                                                      \\\\\n",
       "\\end{tabular}\n"
      ],
      "text/plain": [
       "  summary       date               hour\n",
       "1   count      17379              17379\n",
       "2    mean       <NA> 11.546751826917545\n",
       "3  stddev       <NA>  6.914405095264506\n",
       "4     min 2011-01-01                  0\n",
       "5     max 2012-12-31                 23\n",
       "                                                       weather\n",
       "1                                                        17379\n",
       "2                                                         <NA>\n",
       "3                                                         <NA>\n",
       "4              Clear, Few clouds, Partly cloudy, Partly cloudy\n",
       "5 Mist + Cloudy, Mist + Broken clouds, Mist + Few clouds, Mist\n",
       "                temp             atemp           humidity         windspeed\n",
       "1              17379             17379              17379             17379\n",
       "2 20.376473905287963 23.78875510673787 62.722883940387824 12.73647350250328\n",
       "3  7.894800971238591 8.592510781767942  19.29298340629151  8.19677122859822\n",
       "4               0.82               0.0                0.0               0.0\n",
       "5               41.0              50.0              100.0            56.997"
      ]
     },
     "metadata": {},
     "output_type": "display_data"
    }
   ],
   "source": [
    "collect(summary(weather))"
   ]
  },
  {
   "cell_type": "markdown",
   "metadata": {},
   "source": [
    "### Join bikes usage and weather"
   ]
  },
  {
   "cell_type": "code",
   "execution_count": 12,
   "metadata": {
    "collapsed": false
   },
   "outputs": [
    {
     "data": {
      "text/html": [
       "<table>\n",
       "<thead><tr><th></th><th scope=col>datetime</th><th scope=col>season</th><th scope=col>holiday</th><th scope=col>workingday</th><th scope=col>weather</th><th scope=col>temp</th><th scope=col>atemp</th><th scope=col>humidity</th><th scope=col>windspeed</th><th scope=col>casual</th><th scope=col>registered</th><th scope=col>count</th></tr></thead>\n",
       "<tbody>\n",
       "\t<tr><th scope=row>1</th><td>2011-01-01 00:00:00                            </td><td>springer                                       </td><td>FALSE                                          </td><td>FALSE                                          </td><td>Clear, Few clouds, Partly cloudy, Partly cloudy</td><td>9.84                                           </td><td>14.395                                         </td><td>81                                             </td><td>0                                              </td><td>3                                              </td><td>13                                             </td><td>16                                             </td></tr>\n",
       "\t<tr><th scope=row>2</th><td>2011-01-01 01:00:00                            </td><td>springer                                       </td><td>FALSE                                          </td><td>FALSE                                          </td><td>Clear, Few clouds, Partly cloudy, Partly cloudy</td><td>9.02                                           </td><td>13.635                                         </td><td>80                                             </td><td>0                                              </td><td>8                                              </td><td>32                                             </td><td>40                                             </td></tr>\n",
       "\t<tr><th scope=row>3</th><td>2011-01-01 02:00:00                            </td><td>springer                                       </td><td>FALSE                                          </td><td>FALSE                                          </td><td>Clear, Few clouds, Partly cloudy, Partly cloudy</td><td>9.02                                           </td><td>13.635                                         </td><td>80                                             </td><td>0                                              </td><td>5                                              </td><td>27                                             </td><td>32                                             </td></tr>\n",
       "\t<tr><th scope=row>4</th><td>2011-01-01 03:00:00                            </td><td>springer                                       </td><td>FALSE                                          </td><td>FALSE                                          </td><td>Clear, Few clouds, Partly cloudy, Partly cloudy</td><td>9.84                                           </td><td>14.395                                         </td><td>75                                             </td><td>0                                              </td><td>3                                              </td><td>10                                             </td><td>13                                             </td></tr>\n",
       "\t<tr><th scope=row>5</th><td>2011-01-01 04:00:00                            </td><td>springer                                       </td><td>FALSE                                          </td><td>FALSE                                          </td><td>Clear, Few clouds, Partly cloudy, Partly cloudy</td><td>9.84                                           </td><td>14.395                                         </td><td>75                                             </td><td>0                                              </td><td>0                                              </td><td>1                                              </td><td>1                                              </td></tr>\n",
       "\t<tr><th scope=row>6</th><td>2011-01-01 05:00:00                                         </td><td>springer                                                    </td><td>FALSE                                                       </td><td>FALSE                                                       </td><td>Mist + Cloudy, Mist + Broken clouds, Mist + Few clouds, Mist</td><td>9.84                                                        </td><td>12.88                                                       </td><td>75                                                          </td><td>6.003                                                       </td><td>0                                                           </td><td>1                                                           </td><td>1                                                           </td></tr>\n",
       "</tbody>\n",
       "</table>\n"
      ],
      "text/latex": [
       "\\begin{tabular}{r|llllllllllll}\n",
       "  & datetime & season & holiday & workingday & weather & temp & atemp & humidity & windspeed & casual & registered & count\\\\\n",
       "\\hline\n",
       "\t1 & 2011-01-01 00:00:00                             & springer                                        & FALSE                                           & FALSE                                           & Clear, Few clouds, Partly cloudy, Partly cloudy & 9.84                                            & 14.395                                          & 81                                              & 0                                               & 3                                               & 13                                              & 16                                             \\\\\n",
       "\t2 & 2011-01-01 01:00:00                             & springer                                        & FALSE                                           & FALSE                                           & Clear, Few clouds, Partly cloudy, Partly cloudy & 9.02                                            & 13.635                                          & 80                                              & 0                                               & 8                                               & 32                                              & 40                                             \\\\\n",
       "\t3 & 2011-01-01 02:00:00                             & springer                                        & FALSE                                           & FALSE                                           & Clear, Few clouds, Partly cloudy, Partly cloudy & 9.02                                            & 13.635                                          & 80                                              & 0                                               & 5                                               & 27                                              & 32                                             \\\\\n",
       "\t4 & 2011-01-01 03:00:00                             & springer                                        & FALSE                                           & FALSE                                           & Clear, Few clouds, Partly cloudy, Partly cloudy & 9.84                                            & 14.395                                          & 75                                              & 0                                               & 3                                               & 10                                              & 13                                             \\\\\n",
       "\t5 & 2011-01-01 04:00:00                             & springer                                        & FALSE                                           & FALSE                                           & Clear, Few clouds, Partly cloudy, Partly cloudy & 9.84                                            & 14.395                                          & 75                                              & 0                                               & 0                                               & 1                                               & 1                                              \\\\\n",
       "\t6 & 2011-01-01 05:00:00                                          & springer                                                     & FALSE                                                        & FALSE                                                        & Mist + Cloudy, Mist + Broken clouds, Mist + Few clouds, Mist & 9.84                                                         & 12.88                                                        & 75                                                           & 6.003                                                        & 0                                                            & 1                                                            & 1                                                           \\\\\n",
       "\\end{tabular}\n"
      ],
      "text/plain": [
       "             datetime   season holiday workingday\n",
       "1 2011-01-01 00:00:00 springer   FALSE      FALSE\n",
       "2 2011-01-01 01:00:00 springer   FALSE      FALSE\n",
       "3 2011-01-01 02:00:00 springer   FALSE      FALSE\n",
       "4 2011-01-01 03:00:00 springer   FALSE      FALSE\n",
       "5 2011-01-01 04:00:00 springer   FALSE      FALSE\n",
       "6 2011-01-01 05:00:00 springer   FALSE      FALSE\n",
       "                                                       weather temp  atemp\n",
       "1              Clear, Few clouds, Partly cloudy, Partly cloudy 9.84 14.395\n",
       "2              Clear, Few clouds, Partly cloudy, Partly cloudy 9.02 13.635\n",
       "3              Clear, Few clouds, Partly cloudy, Partly cloudy 9.02 13.635\n",
       "4              Clear, Few clouds, Partly cloudy, Partly cloudy 9.84 14.395\n",
       "5              Clear, Few clouds, Partly cloudy, Partly cloudy 9.84 14.395\n",
       "6 Mist + Cloudy, Mist + Broken clouds, Mist + Few clouds, Mist 9.84 12.880\n",
       "  humidity windspeed casual registered count\n",
       "1       81     0.000      3         13    16\n",
       "2       80     0.000      8         32    40\n",
       "3       80     0.000      5         27    32\n",
       "4       75     0.000      3         10    13\n",
       "5       75     0.000      0          1     1\n",
       "6       75     6.003      0          1     1"
      ]
     },
     "metadata": {},
     "output_type": "display_data"
    }
   ],
   "source": [
    "# Format date time\n",
    "weather$w_datetime <- to_utc_timestamp(format_string('%s %02d:00', weather$date, weather$hour), 'UTC')\n",
    "\n",
    "bikes_weather <- select(join(bikes, weather, bikes$datetime == weather$w_datetime), # inner join\n",
    "                        c('datetime', 'season', 'holiday', 'workingday',  'weather', \n",
    "                         'temp', 'atemp','humidity','windspeed','casual', 'registered', 'count'))\n",
    "\n",
    "head(orderBy(bikes_weather, 'datetime'))"
   ]
  },
  {
   "cell_type": "markdown",
   "metadata": {},
   "source": [
    "Same, but in a more functional way:"
   ]
  },
  {
   "cell_type": "code",
   "execution_count": 13,
   "metadata": {
    "collapsed": false
   },
   "outputs": [
    {
     "data": {
      "text/html": [
       "<table>\n",
       "<thead><tr><th></th><th scope=col>datetime</th><th scope=col>season</th><th scope=col>holiday</th><th scope=col>workingday</th><th scope=col>weather</th><th scope=col>temp</th><th scope=col>atemp</th><th scope=col>humidity</th><th scope=col>windspeed</th><th scope=col>casual</th><th scope=col>registered</th><th scope=col>count</th></tr></thead>\n",
       "<tbody>\n",
       "\t<tr><th scope=row>1</th><td>2011-01-01 00:00:00                            </td><td>springer                                       </td><td>FALSE                                          </td><td>FALSE                                          </td><td>Clear, Few clouds, Partly cloudy, Partly cloudy</td><td>9.84                                           </td><td>14.395                                         </td><td>81                                             </td><td>0                                              </td><td>3                                              </td><td>13                                             </td><td>16                                             </td></tr>\n",
       "\t<tr><th scope=row>2</th><td>2011-01-01 01:00:00                            </td><td>springer                                       </td><td>FALSE                                          </td><td>FALSE                                          </td><td>Clear, Few clouds, Partly cloudy, Partly cloudy</td><td>9.02                                           </td><td>13.635                                         </td><td>80                                             </td><td>0                                              </td><td>8                                              </td><td>32                                             </td><td>40                                             </td></tr>\n",
       "\t<tr><th scope=row>3</th><td>2011-01-01 02:00:00                            </td><td>springer                                       </td><td>FALSE                                          </td><td>FALSE                                          </td><td>Clear, Few clouds, Partly cloudy, Partly cloudy</td><td>9.02                                           </td><td>13.635                                         </td><td>80                                             </td><td>0                                              </td><td>5                                              </td><td>27                                             </td><td>32                                             </td></tr>\n",
       "\t<tr><th scope=row>4</th><td>2011-01-01 03:00:00                            </td><td>springer                                       </td><td>FALSE                                          </td><td>FALSE                                          </td><td>Clear, Few clouds, Partly cloudy, Partly cloudy</td><td>9.84                                           </td><td>14.395                                         </td><td>75                                             </td><td>0                                              </td><td>3                                              </td><td>10                                             </td><td>13                                             </td></tr>\n",
       "\t<tr><th scope=row>5</th><td>2011-01-01 04:00:00                            </td><td>springer                                       </td><td>FALSE                                          </td><td>FALSE                                          </td><td>Clear, Few clouds, Partly cloudy, Partly cloudy</td><td>9.84                                           </td><td>14.395                                         </td><td>75                                             </td><td>0                                              </td><td>0                                              </td><td>1                                              </td><td>1                                              </td></tr>\n",
       "\t<tr><th scope=row>6</th><td>2011-01-01 05:00:00                                         </td><td>springer                                                    </td><td>FALSE                                                       </td><td>FALSE                                                       </td><td>Mist + Cloudy, Mist + Broken clouds, Mist + Few clouds, Mist</td><td>9.84                                                        </td><td>12.88                                                       </td><td>75                                                          </td><td>6.003                                                       </td><td>0                                                           </td><td>1                                                           </td><td>1                                                           </td></tr>\n",
       "</tbody>\n",
       "</table>\n"
      ],
      "text/latex": [
       "\\begin{tabular}{r|llllllllllll}\n",
       "  & datetime & season & holiday & workingday & weather & temp & atemp & humidity & windspeed & casual & registered & count\\\\\n",
       "\\hline\n",
       "\t1 & 2011-01-01 00:00:00                             & springer                                        & FALSE                                           & FALSE                                           & Clear, Few clouds, Partly cloudy, Partly cloudy & 9.84                                            & 14.395                                          & 81                                              & 0                                               & 3                                               & 13                                              & 16                                             \\\\\n",
       "\t2 & 2011-01-01 01:00:00                             & springer                                        & FALSE                                           & FALSE                                           & Clear, Few clouds, Partly cloudy, Partly cloudy & 9.02                                            & 13.635                                          & 80                                              & 0                                               & 8                                               & 32                                              & 40                                             \\\\\n",
       "\t3 & 2011-01-01 02:00:00                             & springer                                        & FALSE                                           & FALSE                                           & Clear, Few clouds, Partly cloudy, Partly cloudy & 9.02                                            & 13.635                                          & 80                                              & 0                                               & 5                                               & 27                                              & 32                                             \\\\\n",
       "\t4 & 2011-01-01 03:00:00                             & springer                                        & FALSE                                           & FALSE                                           & Clear, Few clouds, Partly cloudy, Partly cloudy & 9.84                                            & 14.395                                          & 75                                              & 0                                               & 3                                               & 10                                              & 13                                             \\\\\n",
       "\t5 & 2011-01-01 04:00:00                             & springer                                        & FALSE                                           & FALSE                                           & Clear, Few clouds, Partly cloudy, Partly cloudy & 9.84                                            & 14.395                                          & 75                                              & 0                                               & 0                                               & 1                                               & 1                                              \\\\\n",
       "\t6 & 2011-01-01 05:00:00                                          & springer                                                     & FALSE                                                        & FALSE                                                        & Mist + Cloudy, Mist + Broken clouds, Mist + Few clouds, Mist & 9.84                                                         & 12.88                                                        & 75                                                           & 6.003                                                        & 0                                                            & 1                                                            & 1                                                           \\\\\n",
       "\\end{tabular}\n"
      ],
      "text/plain": [
       "             datetime   season holiday workingday\n",
       "1 2011-01-01 00:00:00 springer   FALSE      FALSE\n",
       "2 2011-01-01 01:00:00 springer   FALSE      FALSE\n",
       "3 2011-01-01 02:00:00 springer   FALSE      FALSE\n",
       "4 2011-01-01 03:00:00 springer   FALSE      FALSE\n",
       "5 2011-01-01 04:00:00 springer   FALSE      FALSE\n",
       "6 2011-01-01 05:00:00 springer   FALSE      FALSE\n",
       "                                                       weather temp  atemp\n",
       "1              Clear, Few clouds, Partly cloudy, Partly cloudy 9.84 14.395\n",
       "2              Clear, Few clouds, Partly cloudy, Partly cloudy 9.02 13.635\n",
       "3              Clear, Few clouds, Partly cloudy, Partly cloudy 9.02 13.635\n",
       "4              Clear, Few clouds, Partly cloudy, Partly cloudy 9.84 14.395\n",
       "5              Clear, Few clouds, Partly cloudy, Partly cloudy 9.84 14.395\n",
       "6 Mist + Cloudy, Mist + Broken clouds, Mist + Few clouds, Mist 9.84 12.880\n",
       "  humidity windspeed casual registered count\n",
       "1       81     0.000      3         13    16\n",
       "2       80     0.000      8         32    40\n",
       "3       80     0.000      5         27    32\n",
       "4       75     0.000      3         10    13\n",
       "5       75     0.000      0          1     1\n",
       "6       75     6.003      0          1     1"
      ]
     },
     "metadata": {},
     "output_type": "display_data"
    }
   ],
   "source": [
    "library(magrittr)\n",
    "\n",
    "bikes_weather <- bikes %>%\n",
    "                 join(weather, bikes$datetime == weather$w_datetime) %>% # inner join\n",
    "                 select(c('datetime', 'season', 'holiday', 'workingday',  'weather', \n",
    "                         'temp', 'atemp','humidity','windspeed','casual', 'registered', 'count'))\n",
    "bikes_weather %>%\n",
    "    orderBy('datetime') %>%\n",
    "    head"
   ]
  },
  {
   "cell_type": "markdown",
   "metadata": {},
   "source": [
    "## Introducing Spark SQL\n",
    "\n",
    "Spark SQL is the Spark's interface for working with structured and semistructured data. Spark SQL makes it both easier and more efficient to load and query. Under the hood, Spark SQL is based on an extension of the RDD model caled DataFrame, ohh yes, you already know how to that :-) \n",
    "\n",
    "When programming against Spark SQL we have two entry points depending on whether we need Hive support. In this notebook we simply use `SQLContext`, which provides a basic subset of Spark SQL support that does not depend on Hive.\n",
    "\n",
    "For more detailed documentation: http://spark.apache.org/docs/latest/sql-programming-guide.html"
   ]
  },
  {
   "cell_type": "code",
   "execution_count": 14,
   "metadata": {
    "collapsed": true
   },
   "outputs": [],
   "source": [
    "registerTempTable(bikes_weather, 'bikes_weather')"
   ]
  },
  {
   "cell_type": "markdown",
   "metadata": {},
   "source": [
    "#### Count all records"
   ]
  },
  {
   "cell_type": "code",
   "execution_count": 15,
   "metadata": {
    "collapsed": false
   },
   "outputs": [
    {
     "data": {
      "text/html": [
       "<table>\n",
       "<thead><tr><th></th><th scope=col>_c0</th></tr></thead>\n",
       "<tbody>\n",
       "\t<tr><th scope=row>1</th><td>17379</td></tr>\n",
       "</tbody>\n",
       "</table>\n"
      ],
      "text/latex": [
       "\\begin{tabular}{r|l}\n",
       "  & \\_c0\\\\\n",
       "\\hline\n",
       "\t1 & 17379\\\\\n",
       "\\end{tabular}\n"
      ],
      "text/plain": [
       "    _c0\n",
       "1 17379"
      ]
     },
     "metadata": {},
     "output_type": "display_data"
    }
   ],
   "source": [
    "collect(sql(sqlContext, 'select count(*) from bikes_weather'))"
   ]
  },
  {
   "cell_type": "markdown",
   "metadata": {},
   "source": [
    "####  Select the 10 first records whose temperature is greather than 10 and less than 45. Display date with hour, season and number of rentals. "
   ]
  },
  {
   "cell_type": "code",
   "execution_count": 16,
   "metadata": {
    "collapsed": false
   },
   "outputs": [
    {
     "data": {
      "text/html": [
       "<table>\n",
       "<thead><tr><th></th><th scope=col>datetime</th><th scope=col>season</th><th scope=col>count</th></tr></thead>\n",
       "<tbody>\n",
       "\t<tr><th scope=row>1</th><td>2011-01-15 19:00:00</td><td>springer           </td><td>74                 </td></tr>\n",
       "\t<tr><th scope=row>2</th><td>2011-02-13 11:00:00</td><td>springer           </td><td>112                </td></tr>\n",
       "\t<tr><th scope=row>3</th><td>2011-03-04 22:00:00</td><td>springer           </td><td>44                 </td></tr>\n",
       "\t<tr><th scope=row>4</th><td>2011-03-20 10:00:00</td><td>springer           </td><td>136                </td></tr>\n",
       "\t<tr><th scope=row>5</th><td>2011-03-22 01:00:00</td><td>summer             </td><td>19                 </td></tr>\n",
       "\t<tr><th scope=row>6</th><td>2011-03-24 01:00:00</td><td>summer             </td><td>3                  </td></tr>\n",
       "\t<tr><th scope=row>7</th><td>2011-04-11 08:00:00</td><td>summer             </td><td>314                </td></tr>\n",
       "\t<tr><th scope=row>8</th><td>2011-05-30 15:00:00</td><td>summer             </td><td>311                </td></tr>\n",
       "\t<tr><th scope=row>9</th><td>2011-06-19 22:00:00</td><td>summer             </td><td>152                </td></tr>\n",
       "\t<tr><th scope=row>10</th><td>2011-07-03 20:00:00</td><td>fall               </td><td>176                </td></tr>\n",
       "</tbody>\n",
       "</table>\n"
      ],
      "text/latex": [
       "\\begin{tabular}{r|lll}\n",
       "  & datetime & season & count\\\\\n",
       "\\hline\n",
       "\t1 & 2011-01-15 19:00:00 & springer            & 74                 \\\\\n",
       "\t2 & 2011-02-13 11:00:00 & springer            & 112                \\\\\n",
       "\t3 & 2011-03-04 22:00:00 & springer            & 44                 \\\\\n",
       "\t4 & 2011-03-20 10:00:00 & springer            & 136                \\\\\n",
       "\t5 & 2011-03-22 01:00:00 & summer              & 19                 \\\\\n",
       "\t6 & 2011-03-24 01:00:00 & summer              & 3                  \\\\\n",
       "\t7 & 2011-04-11 08:00:00 & summer              & 314                \\\\\n",
       "\t8 & 2011-05-30 15:00:00 & summer              & 311                \\\\\n",
       "\t9 & 2011-06-19 22:00:00 & summer              & 152                \\\\\n",
       "\t10 & 2011-07-03 20:00:00 & fall                & 176                \\\\\n",
       "\\end{tabular}\n"
      ],
      "text/plain": [
       "              datetime   season count\n",
       "1  2011-01-15 19:00:00 springer    74\n",
       "2  2011-02-13 11:00:00 springer   112\n",
       "3  2011-03-04 22:00:00 springer    44\n",
       "4  2011-03-20 10:00:00 springer   136\n",
       "5  2011-03-22 01:00:00   summer    19\n",
       "6  2011-03-24 01:00:00   summer     3\n",
       "7  2011-04-11 08:00:00   summer   314\n",
       "8  2011-05-30 15:00:00   summer   311\n",
       "9  2011-06-19 22:00:00   summer   152\n",
       "10 2011-07-03 20:00:00     fall   176"
      ]
     },
     "metadata": {},
     "output_type": "display_data"
    }
   ],
   "source": [
    "collect(sql(sqlContext, '\n",
    "SELECT datetime, season, count\n",
    "FROM bikes_weather \n",
    "WHERE temp BETWEEN 10 AND 45\n",
    "LIMIT 10'))"
   ]
  },
  {
   "cell_type": "markdown",
   "metadata": {},
   "source": [
    "### SQL, old-fashioned? \n",
    "\n",
    "#### Not yet, let's practise: write a SQL statement which computes the average rentals per hour and day of week on the entire dataset.\n",
    "\n",
    "May you find this link useful: https://cwiki.apache.org/confluence/display/Hive/LanguageManual+UDF#LanguageManualUDF-DateFunctions"
   ]
  },
  {
   "cell_type": "code",
   "execution_count": 17,
   "metadata": {
    "collapsed": false
   },
   "outputs": [
    {
     "data": {
      "text/html": [
       "<table>\n",
       "<thead><tr><th></th><th scope=col>hour</th><th scope=col>weekday</th><th scope=col>avg_count</th></tr></thead>\n",
       "<tbody>\n",
       "\t<tr><th scope=row>1</th><td>18              </td><td>Monday          </td><td>481.346153846154</td></tr>\n",
       "\t<tr><th scope=row>2</th><td>7               </td><td>Saturday        </td><td>45.9619047619048</td></tr>\n",
       "\t<tr><th scope=row>3</th><td>10              </td><td>Thursday        </td><td>132.563106796117</td></tr>\n",
       "\t<tr><th scope=row>4</th><td>1               </td><td>Sunday          </td><td>77.4326923076923</td></tr>\n",
       "\t<tr><th scope=row>5</th><td>14              </td><td>Friday          </td><td>229.365384615385</td></tr>\n",
       "\t<tr><th scope=row>6</th><td>2               </td><td>Wednesday       </td><td>7.81372549019608</td></tr>\n",
       "</tbody>\n",
       "</table>\n"
      ],
      "text/latex": [
       "\\begin{tabular}{r|lll}\n",
       "  & hour & weekday & avg\\_count\\\\\n",
       "\\hline\n",
       "\t1 & 18               & Monday           & 481.346153846154\\\\\n",
       "\t2 & 7                & Saturday         & 45.9619047619048\\\\\n",
       "\t3 & 10               & Thursday         & 132.563106796117\\\\\n",
       "\t4 & 1                & Sunday           & 77.4326923076923\\\\\n",
       "\t5 & 14               & Friday           & 229.365384615385\\\\\n",
       "\t6 & 2                & Wednesday        & 7.81372549019608\\\\\n",
       "\\end{tabular}\n"
      ],
      "text/plain": [
       "  hour   weekday  avg_count\n",
       "1   18    Monday 481.346154\n",
       "2    7  Saturday  45.961905\n",
       "3   10  Thursday 132.563107\n",
       "4    1    Sunday  77.432692\n",
       "5   14    Friday 229.365385\n",
       "6    2 Wednesday   7.813725"
      ]
     },
     "metadata": {},
     "output_type": "display_data"
    }
   ],
   "source": [
    "sql_rentals_hour_weekday <- sql(sqlContext, \"\n",
    "SELECT HOUR(datetime) AS hour, date_format(datetime, 'EEEE') AS weekday, AVG(count) as avg_count\n",
    "FROM bikes_weather\n",
    "GROUP BY HOUR(datetime), date_format(datetime, 'EEEE')\n",
    "\")\n",
    "\n",
    "head(sql_rentals_hour_weekday)"
   ]
  },
  {
   "cell_type": "markdown",
   "metadata": {},
   "source": [
    "#### Now the same with Data Frame API"
   ]
  },
  {
   "cell_type": "code",
   "execution_count": 18,
   "metadata": {
    "collapsed": false
   },
   "outputs": [
    {
     "data": {
      "text/html": [
       "<table>\n",
       "<thead><tr><th></th><th scope=col>hour</th><th scope=col>weekday</th><th scope=col>avg(count)</th></tr></thead>\n",
       "<tbody>\n",
       "\t<tr><th scope=row>1</th><td>18              </td><td>Monday          </td><td>481.346153846154</td></tr>\n",
       "\t<tr><th scope=row>2</th><td>7               </td><td>Saturday        </td><td>45.9619047619048</td></tr>\n",
       "\t<tr><th scope=row>3</th><td>10              </td><td>Thursday        </td><td>132.563106796117</td></tr>\n",
       "\t<tr><th scope=row>4</th><td>1               </td><td>Sunday          </td><td>77.4326923076923</td></tr>\n",
       "\t<tr><th scope=row>5</th><td>14              </td><td>Friday          </td><td>229.365384615385</td></tr>\n",
       "\t<tr><th scope=row>6</th><td>2               </td><td>Wednesday       </td><td>7.81372549019608</td></tr>\n",
       "</tbody>\n",
       "</table>\n"
      ],
      "text/latex": [
       "\\begin{tabular}{r|lll}\n",
       "  & hour & weekday & avg(count)\\\\\n",
       "\\hline\n",
       "\t1 & 18               & Monday           & 481.346153846154\\\\\n",
       "\t2 & 7                & Saturday         & 45.9619047619048\\\\\n",
       "\t3 & 10               & Thursday         & 132.563106796117\\\\\n",
       "\t4 & 1                & Sunday           & 77.4326923076923\\\\\n",
       "\t5 & 14               & Friday           & 229.365384615385\\\\\n",
       "\t6 & 2                & Wednesday        & 7.81372549019608\\\\\n",
       "\\end{tabular}\n"
      ],
      "text/plain": [
       "  hour   weekday avg(count)\n",
       "1   18    Monday 481.346154\n",
       "2    7  Saturday  45.961905\n",
       "3   10  Thursday 132.563107\n",
       "4    1    Sunday  77.432692\n",
       "5   14    Friday 229.365385\n",
       "6    2 Wednesday   7.813725"
      ]
     },
     "metadata": {},
     "output_type": "display_data"
    }
   ],
   "source": [
    "df_rentals_hour_weekday <- bikes_weather %>%\n",
    "                           withColumn('hour', hour(.$datetime)) %>%\n",
    "                           withColumn('weekday', date_format(.$datetime, 'EEEE')) %>%\n",
    "                           groupBy('hour', 'weekday') %>%\n",
    "                           avg('count')\n",
    "head(df_rentals_hour_weekday)"
   ]
  },
  {
   "cell_type": "markdown",
   "metadata": {},
   "source": [
    "### Doing some Exploratory Data Analysis"
   ]
  },
  {
   "cell_type": "markdown",
   "metadata": {},
   "source": [
    "R package _rpivotTable_ (which uses pivottable.js) is not working yet with Jupyter, we will use ggplot2 to draw a few graphs."
   ]
  },
  {
   "cell_type": "code",
   "execution_count": 19,
   "metadata": {
    "collapsed": false
   },
   "outputs": [],
   "source": [
    "library(ggplot2)\n",
    "r_df_rentals_hour_weekday <- as.data.frame(df_rentals_hour_weekday) # convert to R data.frame"
   ]
  },
  {
   "cell_type": "code",
   "execution_count": 20,
   "metadata": {
    "collapsed": false
   },
   "outputs": [
    {
     "data": {
      "text/plain": []
     },
     "metadata": {},
     "output_type": "display_data"
    },
    {
     "data": {
      "image/png": "[encoded data removed]",
      "image/svg+xml": [
       "<?xml version=\"1.0\" encoding=\"UTF-8\"?>\n",
       "<svg xmlns=\"http://www.w3.org/2000/svg\" xmlns:xlink=\"http://www.w3.org/1999/xlink\" width=\"504pt\" height=\"504pt\" viewBox=\"0 0 504 504\" version=\"1.1\">\n",
       "<defs>\n",
       "<g>\n",
       "<symbol overflow=\"visible\" id=\"glyph0-0\">\n",
       "<path style=\"stroke:none;\" d=\"M 0.453125 1.59375 L 0.453125 -6.34375 L 4.953125 -6.34375 L 4.953125 1.59375 Z M 0.953125 1.09375 L 4.453125 1.09375 L 4.453125 -5.84375 L 0.953125 -5.84375 Z M 0.953125 1.09375 \"/>\n",
       "</symbol>\n",
       "<symbol overflow=\"visible\" id=\"glyph0-1\">\n",
       "<path style=\"stroke:none;\" d=\"M 2.859375 -5.984375 C 2.398438 -5.984375 2.054688 -5.753906 1.828125 -5.296875 C 1.597656 -4.847656 1.484375 -4.175781 1.484375 -3.28125 C 1.484375 -2.375 1.597656 -1.695312 1.828125 -1.25 C 2.054688 -0.800781 2.398438 -0.578125 2.859375 -0.578125 C 3.316406 -0.578125 3.660156 -0.800781 3.890625 -1.25 C 4.117188 -1.695312 4.234375 -2.375 4.234375 -3.28125 C 4.234375 -4.175781 4.117188 -4.847656 3.890625 -5.296875 C 3.660156 -5.753906 3.316406 -5.984375 2.859375 -5.984375 Z M 2.859375 -6.6875 C 3.597656 -6.6875 4.160156 -6.394531 4.546875 -5.8125 C 4.929688 -5.226562 5.125 -4.382812 5.125 -3.28125 C 5.125 -2.175781 4.929688 -1.332031 4.546875 -0.75 C 4.160156 -0.164062 3.597656 0.125 2.859375 0.125 C 2.128906 0.125 1.566406 -0.164062 1.171875 -0.75 C 0.785156 -1.332031 0.59375 -2.175781 0.59375 -3.28125 C 0.59375 -4.382812 0.785156 -5.226562 1.171875 -5.8125 C 1.566406 -6.394531 2.128906 -6.6875 2.859375 -6.6875 Z M 2.859375 -6.6875 \"/>\n",
       "</symbol>\n",
       "<symbol overflow=\"visible\" id=\"glyph0-2\">\n",
       "<path style=\"stroke:none;\" d=\"M 1.734375 -0.75 L 4.828125 -0.75 L 4.828125 0 L 0.65625 0 L 0.65625 -0.75 C 1 -1.09375 1.457031 -1.554688 2.03125 -2.140625 C 2.613281 -2.734375 2.984375 -3.113281 3.140625 -3.28125 C 3.421875 -3.601562 3.613281 -3.875 3.71875 -4.09375 C 3.832031 -4.320312 3.890625 -4.539062 3.890625 -4.75 C 3.890625 -5.101562 3.769531 -5.390625 3.53125 -5.609375 C 3.289062 -5.828125 2.972656 -5.9375 2.578125 -5.9375 C 2.296875 -5.9375 2 -5.882812 1.6875 -5.78125 C 1.382812 -5.6875 1.054688 -5.539062 0.703125 -5.34375 L 0.703125 -6.25 C 1.054688 -6.382812 1.390625 -6.488281 1.703125 -6.5625 C 2.015625 -6.644531 2.300781 -6.6875 2.5625 -6.6875 C 3.238281 -6.6875 3.78125 -6.515625 4.1875 -6.171875 C 4.59375 -5.828125 4.796875 -5.375 4.796875 -4.8125 C 4.796875 -4.539062 4.742188 -4.28125 4.640625 -4.03125 C 4.535156 -3.789062 4.351562 -3.507812 4.09375 -3.1875 C 4.019531 -3.101562 3.785156 -2.859375 3.390625 -2.453125 C 2.992188 -2.046875 2.441406 -1.476562 1.734375 -0.75 Z M 1.734375 -0.75 \"/>\n",
       "</symbol>\n",
       "<symbol overflow=\"visible\" id=\"glyph0-3\">\n",
       "<path style=\"stroke:none;\" d=\"M 3.40625 -5.78125 L 1.15625 -2.28125 L 3.40625 -2.28125 Z M 3.171875 -6.5625 L 4.28125 -6.5625 L 4.28125 -2.28125 L 5.21875 -2.28125 L 5.21875 -1.546875 L 4.28125 -1.546875 L 4.28125 0 L 3.40625 0 L 3.40625 -1.546875 L 0.4375 -1.546875 L 0.4375 -2.40625 Z M 3.171875 -6.5625 \"/>\n",
       "</symbol>\n",
       "<symbol overflow=\"visible\" id=\"glyph0-4\">\n",
       "<path style=\"stroke:none;\" d=\"M 0.96875 -6.5625 L 4.453125 -6.5625 L 4.453125 -5.8125 L 1.78125 -5.8125 L 1.78125 -4.203125 C 1.914062 -4.242188 2.046875 -4.273438 2.171875 -4.296875 C 2.296875 -4.328125 2.425781 -4.34375 2.5625 -4.34375 C 3.289062 -4.34375 3.867188 -4.140625 4.296875 -3.734375 C 4.722656 -3.335938 4.9375 -2.796875 4.9375 -2.109375 C 4.9375 -1.398438 4.71875 -0.847656 4.28125 -0.453125 C 3.84375 -0.0664062 3.222656 0.125 2.421875 0.125 C 2.148438 0.125 1.867188 0.0976562 1.578125 0.046875 C 1.296875 0.00390625 1 -0.0625 0.6875 -0.15625 L 0.6875 -1.046875 C 0.957031 -0.898438 1.234375 -0.789062 1.515625 -0.71875 C 1.796875 -0.65625 2.09375 -0.625 2.40625 -0.625 C 2.914062 -0.625 3.316406 -0.753906 3.609375 -1.015625 C 3.898438 -1.285156 4.046875 -1.648438 4.046875 -2.109375 C 4.046875 -2.566406 3.898438 -2.925781 3.609375 -3.1875 C 3.316406 -3.457031 2.914062 -3.59375 2.40625 -3.59375 C 2.164062 -3.59375 1.925781 -3.566406 1.6875 -3.515625 C 1.457031 -3.460938 1.21875 -3.378906 0.96875 -3.265625 Z M 0.96875 -6.5625 \"/>\n",
       "</symbol>\n",
       "<symbol overflow=\"visible\" id=\"glyph0-5\">\n",
       "<path style=\"stroke:none;\" d=\"M 1.109375 -0.75 L 2.5625 -0.75 L 2.5625 -5.75 L 0.984375 -5.4375 L 0.984375 -6.25 L 2.5625 -6.5625 L 3.453125 -6.5625 L 3.453125 -0.75 L 4.890625 -0.75 L 4.890625 0 L 1.109375 0 Z M 1.109375 -0.75 \"/>\n",
       "</symbol>\n",
       "<symbol overflow=\"visible\" id=\"glyph0-6\">\n",
       "<path style=\"stroke:none;\" d=\"M 0.890625 -6.5625 L 4.65625 -6.5625 L 4.65625 -5.8125 L 1.765625 -5.8125 L 1.765625 -3.875 L 4.375 -3.875 L 4.375 -3.140625 L 1.765625 -3.140625 L 1.765625 0 L 0.890625 0 Z M 0.890625 -6.5625 \"/>\n",
       "</symbol>\n",
       "<symbol overflow=\"visible\" id=\"glyph0-7\">\n",
       "<path style=\"stroke:none;\" d=\"M 3.703125 -4.171875 C 3.609375 -4.222656 3.507812 -4.257812 3.40625 -4.28125 C 3.300781 -4.300781 3.179688 -4.3125 3.046875 -4.3125 C 2.585938 -4.3125 2.234375 -4.160156 1.984375 -3.859375 C 1.742188 -3.566406 1.625 -3.144531 1.625 -2.59375 L 1.625 0 L 0.8125 0 L 0.8125 -4.921875 L 1.625 -4.921875 L 1.625 -4.15625 C 1.800781 -4.457031 2.023438 -4.679688 2.296875 -4.828125 C 2.566406 -4.972656 2.894531 -5.046875 3.28125 -5.046875 C 3.34375 -5.046875 3.40625 -5.039062 3.46875 -5.03125 C 3.539062 -5.019531 3.617188 -5.007812 3.703125 -5 Z M 3.703125 -4.171875 \"/>\n",
       "</symbol>\n",
       "<symbol overflow=\"visible\" id=\"glyph0-8\">\n",
       "<path style=\"stroke:none;\" d=\"M 0.84375 -4.921875 L 1.65625 -4.921875 L 1.65625 0 L 0.84375 0 Z M 0.84375 -6.84375 L 1.65625 -6.84375 L 1.65625 -5.8125 L 0.84375 -5.8125 Z M 0.84375 -6.84375 \"/>\n",
       "</symbol>\n",
       "<symbol overflow=\"visible\" id=\"glyph0-9\">\n",
       "<path style=\"stroke:none;\" d=\"M 4.09375 -4.171875 L 4.09375 -6.84375 L 4.890625 -6.84375 L 4.890625 0 L 4.09375 0 L 4.09375 -0.734375 C 3.914062 -0.441406 3.695312 -0.222656 3.4375 -0.078125 C 3.175781 0.0546875 2.867188 0.125 2.515625 0.125 C 1.921875 0.125 1.4375 -0.109375 1.0625 -0.578125 C 0.6875 -1.054688 0.5 -1.679688 0.5 -2.453125 C 0.5 -3.222656 0.6875 -3.847656 1.0625 -4.328125 C 1.4375 -4.804688 1.921875 -5.046875 2.515625 -5.046875 C 2.867188 -5.046875 3.175781 -4.972656 3.4375 -4.828125 C 3.695312 -4.679688 3.914062 -4.460938 4.09375 -4.171875 Z M 1.328125 -2.453125 C 1.328125 -1.859375 1.445312 -1.390625 1.6875 -1.046875 C 1.9375 -0.710938 2.273438 -0.546875 2.703125 -0.546875 C 3.128906 -0.546875 3.46875 -0.710938 3.71875 -1.046875 C 3.96875 -1.390625 4.09375 -1.859375 4.09375 -2.453125 C 4.09375 -3.046875 3.96875 -3.507812 3.71875 -3.84375 C 3.46875 -4.1875 3.128906 -4.359375 2.703125 -4.359375 C 2.273438 -4.359375 1.9375 -4.1875 1.6875 -3.84375 C 1.445312 -3.507812 1.328125 -3.046875 1.328125 -2.453125 Z M 1.328125 -2.453125 \"/>\n",
       "</symbol>\n",
       "<symbol overflow=\"visible\" id=\"glyph0-10\">\n",
       "<path style=\"stroke:none;\" d=\"M 3.078125 -2.46875 C 2.429688 -2.46875 1.976562 -2.394531 1.71875 -2.25 C 1.46875 -2.101562 1.34375 -1.847656 1.34375 -1.484375 C 1.34375 -1.203125 1.4375 -0.972656 1.625 -0.796875 C 1.820312 -0.628906 2.082031 -0.546875 2.40625 -0.546875 C 2.851562 -0.546875 3.210938 -0.703125 3.484375 -1.015625 C 3.753906 -1.335938 3.890625 -1.765625 3.890625 -2.296875 L 3.890625 -2.46875 Z M 4.703125 -2.8125 L 4.703125 0 L 3.890625 0 L 3.890625 -0.75 C 3.703125 -0.445312 3.46875 -0.222656 3.1875 -0.078125 C 2.914062 0.0546875 2.582031 0.125 2.1875 0.125 C 1.6875 0.125 1.285156 -0.015625 0.984375 -0.296875 C 0.691406 -0.578125 0.546875 -0.957031 0.546875 -1.4375 C 0.546875 -1.988281 0.726562 -2.40625 1.09375 -2.6875 C 1.46875 -2.96875 2.019531 -3.109375 2.75 -3.109375 L 3.890625 -3.109375 L 3.890625 -3.1875 C 3.890625 -3.5625 3.765625 -3.847656 3.515625 -4.046875 C 3.273438 -4.253906 2.929688 -4.359375 2.484375 -4.359375 C 2.203125 -4.359375 1.925781 -4.320312 1.65625 -4.25 C 1.394531 -4.1875 1.144531 -4.085938 0.90625 -3.953125 L 0.90625 -4.703125 C 1.195312 -4.816406 1.484375 -4.898438 1.765625 -4.953125 C 2.046875 -5.015625 2.316406 -5.046875 2.578125 -5.046875 C 3.285156 -5.046875 3.816406 -4.859375 4.171875 -4.484375 C 4.523438 -4.117188 4.703125 -3.5625 4.703125 -2.8125 Z M 4.703125 -2.8125 \"/>\n",
       "</symbol>\n",
       "<symbol overflow=\"visible\" id=\"glyph0-11\">\n",
       "<path style=\"stroke:none;\" d=\"M 2.890625 0.453125 C 2.660156 1.046875 2.4375 1.429688 2.21875 1.609375 C 2.007812 1.785156 1.722656 1.875 1.359375 1.875 L 0.71875 1.875 L 0.71875 1.203125 L 1.1875 1.203125 C 1.40625 1.203125 1.578125 1.144531 1.703125 1.03125 C 1.828125 0.925781 1.960938 0.679688 2.109375 0.296875 L 2.265625 -0.078125 L 0.265625 -4.921875 L 1.125 -4.921875 L 2.65625 -1.078125 L 4.203125 -4.921875 L 5.0625 -4.921875 Z M 2.890625 0.453125 \"/>\n",
       "</symbol>\n",
       "<symbol overflow=\"visible\" id=\"glyph0-12\">\n",
       "<path style=\"stroke:none;\" d=\"M 0.890625 -6.5625 L 2.203125 -6.5625 L 3.875 -2.09375 L 5.5625 -6.5625 L 6.890625 -6.5625 L 6.890625 0 L 6.015625 0 L 6.015625 -5.765625 L 4.328125 -1.265625 L 3.4375 -1.265625 L 1.75 -5.765625 L 1.75 0 L 0.890625 0 Z M 0.890625 -6.5625 \"/>\n",
       "</symbol>\n",
       "<symbol overflow=\"visible\" id=\"glyph0-13\">\n",
       "<path style=\"stroke:none;\" d=\"M 2.75 -4.359375 C 2.320312 -4.359375 1.976562 -4.1875 1.71875 -3.84375 C 1.46875 -3.507812 1.34375 -3.046875 1.34375 -2.453125 C 1.34375 -1.867188 1.46875 -1.40625 1.71875 -1.0625 C 1.96875 -0.726562 2.3125 -0.5625 2.75 -0.5625 C 3.1875 -0.5625 3.53125 -0.726562 3.78125 -1.0625 C 4.03125 -1.40625 4.15625 -1.867188 4.15625 -2.453125 C 4.15625 -3.035156 4.03125 -3.5 3.78125 -3.84375 C 3.53125 -4.1875 3.1875 -4.359375 2.75 -4.359375 Z M 2.75 -5.046875 C 3.457031 -5.046875 4.007812 -4.816406 4.40625 -4.359375 C 4.8125 -3.898438 5.015625 -3.265625 5.015625 -2.453125 C 5.015625 -1.648438 4.8125 -1.019531 4.40625 -0.5625 C 4.007812 -0.101562 3.457031 0.125 2.75 0.125 C 2.050781 0.125 1.5 -0.101562 1.09375 -0.5625 C 0.695312 -1.019531 0.5 -1.648438 0.5 -2.453125 C 0.5 -3.265625 0.695312 -3.898438 1.09375 -4.359375 C 1.5 -4.816406 2.050781 -5.046875 2.75 -5.046875 Z M 2.75 -5.046875 \"/>\n",
       "</symbol>\n",
       "<symbol overflow=\"visible\" id=\"glyph0-14\">\n",
       "<path style=\"stroke:none;\" d=\"M 4.9375 -2.96875 L 4.9375 0 L 4.125 0 L 4.125 -2.9375 C 4.125 -3.40625 4.035156 -3.753906 3.859375 -3.984375 C 3.679688 -4.222656 3.410156 -4.34375 3.046875 -4.34375 C 2.609375 -4.34375 2.257812 -4.203125 2 -3.921875 C 1.75 -3.640625 1.625 -3.257812 1.625 -2.78125 L 1.625 0 L 0.8125 0 L 0.8125 -4.921875 L 1.625 -4.921875 L 1.625 -4.15625 C 1.820312 -4.445312 2.050781 -4.664062 2.3125 -4.8125 C 2.570312 -4.96875 2.875 -5.046875 3.21875 -5.046875 C 3.78125 -5.046875 4.207031 -4.867188 4.5 -4.515625 C 4.789062 -4.160156 4.9375 -3.644531 4.9375 -2.96875 Z M 4.9375 -2.96875 \"/>\n",
       "</symbol>\n",
       "<symbol overflow=\"visible\" id=\"glyph0-15\">\n",
       "<path style=\"stroke:none;\" d=\"M 4.8125 -6.34375 L 4.8125 -5.484375 C 4.476562 -5.640625 4.160156 -5.753906 3.859375 -5.828125 C 3.566406 -5.910156 3.28125 -5.953125 3 -5.953125 C 2.507812 -5.953125 2.132812 -5.859375 1.875 -5.671875 C 1.613281 -5.484375 1.484375 -5.21875 1.484375 -4.875 C 1.484375 -4.582031 1.570312 -4.363281 1.75 -4.21875 C 1.925781 -4.070312 2.253906 -3.953125 2.734375 -3.859375 L 3.28125 -3.75 C 3.9375 -3.625 4.421875 -3.398438 4.734375 -3.078125 C 5.054688 -2.765625 5.21875 -2.34375 5.21875 -1.8125 C 5.21875 -1.175781 5.003906 -0.691406 4.578125 -0.359375 C 4.148438 -0.0351562 3.523438 0.125 2.703125 0.125 C 2.390625 0.125 2.054688 0.0859375 1.703125 0.015625 C 1.359375 -0.046875 1 -0.148438 0.625 -0.296875 L 0.625 -1.203125 C 0.976562 -1.003906 1.328125 -0.851562 1.671875 -0.75 C 2.023438 -0.644531 2.367188 -0.59375 2.703125 -0.59375 C 3.203125 -0.59375 3.585938 -0.691406 3.859375 -0.890625 C 4.140625 -1.085938 4.28125 -1.375 4.28125 -1.75 C 4.28125 -2.070312 4.179688 -2.320312 3.984375 -2.5 C 3.785156 -2.675781 3.460938 -2.8125 3.015625 -2.90625 L 2.46875 -3.015625 C 1.8125 -3.148438 1.332031 -3.359375 1.03125 -3.640625 C 0.738281 -3.921875 0.59375 -4.3125 0.59375 -4.8125 C 0.59375 -5.382812 0.796875 -5.835938 1.203125 -6.171875 C 1.609375 -6.515625 2.171875 -6.6875 2.890625 -6.6875 C 3.203125 -6.6875 3.515625 -6.65625 3.828125 -6.59375 C 4.148438 -6.539062 4.476562 -6.457031 4.8125 -6.34375 Z M 4.8125 -6.34375 \"/>\n",
       "</symbol>\n",
       "<symbol overflow=\"visible\" id=\"glyph0-16\">\n",
       "<path style=\"stroke:none;\" d=\"M 1.640625 -6.3125 L 1.640625 -4.921875 L 3.3125 -4.921875 L 3.3125 -4.296875 L 1.640625 -4.296875 L 1.640625 -1.625 C 1.640625 -1.21875 1.695312 -0.957031 1.8125 -0.84375 C 1.925781 -0.726562 2.148438 -0.671875 2.484375 -0.671875 L 3.3125 -0.671875 L 3.3125 0 L 2.484375 0 C 1.859375 0 1.425781 -0.113281 1.1875 -0.34375 C 0.945312 -0.582031 0.828125 -1.007812 0.828125 -1.625 L 0.828125 -4.296875 L 0.234375 -4.296875 L 0.234375 -4.921875 L 0.828125 -4.921875 L 0.828125 -6.3125 Z M 1.640625 -6.3125 \"/>\n",
       "</symbol>\n",
       "<symbol overflow=\"visible\" id=\"glyph0-17\">\n",
       "<path style=\"stroke:none;\" d=\"M 0.765625 -1.9375 L 0.765625 -4.921875 L 1.578125 -4.921875 L 1.578125 -1.96875 C 1.578125 -1.507812 1.664062 -1.160156 1.84375 -0.921875 C 2.03125 -0.691406 2.300781 -0.578125 2.65625 -0.578125 C 3.09375 -0.578125 3.4375 -0.710938 3.6875 -0.984375 C 3.945312 -1.265625 4.078125 -1.644531 4.078125 -2.125 L 4.078125 -4.921875 L 4.890625 -4.921875 L 4.890625 0 L 4.078125 0 L 4.078125 -0.75 C 3.878906 -0.457031 3.648438 -0.238281 3.390625 -0.09375 C 3.128906 0.0507812 2.828125 0.125 2.484375 0.125 C 1.921875 0.125 1.492188 -0.046875 1.203125 -0.390625 C 0.910156 -0.742188 0.765625 -1.257812 0.765625 -1.9375 Z M 2.796875 -5.046875 Z M 2.796875 -5.046875 \"/>\n",
       "</symbol>\n",
       "<symbol overflow=\"visible\" id=\"glyph0-18\">\n",
       "<path style=\"stroke:none;\" d=\"M -0.03125 -6.5625 L 5.53125 -6.5625 L 5.53125 -5.8125 L 3.1875 -5.8125 L 3.1875 0 L 2.296875 0 L 2.296875 -5.8125 L -0.03125 -5.8125 Z M -0.03125 -6.5625 \"/>\n",
       "</symbol>\n",
       "<symbol overflow=\"visible\" id=\"glyph0-19\">\n",
       "<path style=\"stroke:none;\" d=\"M 4.9375 -2.96875 L 4.9375 0 L 4.125 0 L 4.125 -2.9375 C 4.125 -3.40625 4.035156 -3.753906 3.859375 -3.984375 C 3.679688 -4.222656 3.410156 -4.34375 3.046875 -4.34375 C 2.609375 -4.34375 2.257812 -4.203125 2 -3.921875 C 1.75 -3.640625 1.625 -3.257812 1.625 -2.78125 L 1.625 0 L 0.8125 0 L 0.8125 -6.84375 L 1.625 -6.84375 L 1.625 -4.15625 C 1.820312 -4.445312 2.050781 -4.664062 2.3125 -4.8125 C 2.570312 -4.96875 2.875 -5.046875 3.21875 -5.046875 C 3.78125 -5.046875 4.207031 -4.867188 4.5 -4.515625 C 4.789062 -4.160156 4.9375 -3.644531 4.9375 -2.96875 Z M 4.9375 -2.96875 \"/>\n",
       "</symbol>\n",
       "<symbol overflow=\"visible\" id=\"glyph0-20\">\n",
       "<path style=\"stroke:none;\" d=\"M 3.984375 -4.78125 L 3.984375 -4.015625 C 3.753906 -4.128906 3.515625 -4.210938 3.265625 -4.265625 C 3.023438 -4.328125 2.773438 -4.359375 2.515625 -4.359375 C 2.109375 -4.359375 1.804688 -4.296875 1.609375 -4.171875 C 1.410156 -4.054688 1.3125 -3.875 1.3125 -3.625 C 1.3125 -3.4375 1.378906 -3.289062 1.515625 -3.1875 C 1.660156 -3.082031 1.953125 -2.976562 2.390625 -2.875 L 2.65625 -2.8125 C 3.238281 -2.6875 3.648438 -2.507812 3.890625 -2.28125 C 4.128906 -2.0625 4.25 -1.753906 4.25 -1.359375 C 4.25 -0.898438 4.066406 -0.535156 3.703125 -0.265625 C 3.347656 -0.00390625 2.851562 0.125 2.21875 0.125 C 1.945312 0.125 1.671875 0.0976562 1.390625 0.046875 C 1.109375 -0.00390625 0.804688 -0.0820312 0.484375 -0.1875 L 0.484375 -1.015625 C 0.785156 -0.859375 1.082031 -0.738281 1.375 -0.65625 C 1.664062 -0.582031 1.953125 -0.546875 2.234375 -0.546875 C 2.609375 -0.546875 2.898438 -0.609375 3.109375 -0.734375 C 3.316406 -0.867188 3.421875 -1.054688 3.421875 -1.296875 C 3.421875 -1.515625 3.34375 -1.679688 3.1875 -1.796875 C 3.039062 -1.921875 2.71875 -2.035156 2.21875 -2.140625 L 1.9375 -2.203125 C 1.4375 -2.304688 1.070312 -2.46875 0.84375 -2.6875 C 0.625 -2.90625 0.515625 -3.207031 0.515625 -3.59375 C 0.515625 -4.050781 0.675781 -4.40625 1 -4.65625 C 1.332031 -4.914062 1.800781 -5.046875 2.40625 -5.046875 C 2.707031 -5.046875 2.988281 -5.019531 3.25 -4.96875 C 3.519531 -4.925781 3.765625 -4.863281 3.984375 -4.78125 Z M 3.984375 -4.78125 \"/>\n",
       "</symbol>\n",
       "<symbol overflow=\"visible\" id=\"glyph0-21\">\n",
       "<path style=\"stroke:none;\" d=\"M 5.0625 -2.65625 L 5.0625 -2.265625 L 1.34375 -2.265625 C 1.375 -1.710938 1.539062 -1.289062 1.84375 -1 C 2.144531 -0.707031 2.5625 -0.5625 3.09375 -0.5625 C 3.40625 -0.5625 3.707031 -0.597656 4 -0.671875 C 4.289062 -0.742188 4.582031 -0.859375 4.875 -1.015625 L 4.875 -0.25 C 4.582031 -0.125 4.28125 -0.03125 3.96875 0.03125 C 3.664062 0.09375 3.359375 0.125 3.046875 0.125 C 2.265625 0.125 1.644531 -0.101562 1.1875 -0.5625 C 0.726562 -1.019531 0.5 -1.632812 0.5 -2.40625 C 0.5 -3.21875 0.710938 -3.859375 1.140625 -4.328125 C 1.578125 -4.804688 2.164062 -5.046875 2.90625 -5.046875 C 3.570312 -5.046875 4.097656 -4.832031 4.484375 -4.40625 C 4.867188 -3.976562 5.0625 -3.394531 5.0625 -2.65625 Z M 4.25 -2.90625 C 4.238281 -3.34375 4.113281 -3.691406 3.875 -3.953125 C 3.632812 -4.222656 3.316406 -4.359375 2.921875 -4.359375 C 2.460938 -4.359375 2.097656 -4.226562 1.828125 -3.96875 C 1.554688 -3.71875 1.398438 -3.359375 1.359375 -2.890625 Z M 4.25 -2.90625 \"/>\n",
       "</symbol>\n",
       "<symbol overflow=\"visible\" id=\"glyph0-22\">\n",
       "<path style=\"stroke:none;\" d=\"M 0.296875 -6.5625 L 1.203125 -6.5625 L 2.578125 -1.015625 L 3.953125 -6.5625 L 4.953125 -6.5625 L 6.328125 -1.015625 L 7.703125 -6.5625 L 8.609375 -6.5625 L 6.953125 0 L 5.84375 0 L 4.453125 -5.703125 L 3.0625 0 L 1.9375 0 Z M 0.296875 -6.5625 \"/>\n",
       "</symbol>\n",
       "<symbol overflow=\"visible\" id=\"glyph1-0\">\n",
       "<path style=\"stroke:none;\" d=\"M 0.546875 1.9375 L 0.546875 -7.75 L 6.046875 -7.75 L 6.046875 1.9375 Z M 1.171875 1.328125 L 5.4375 1.328125 L 5.4375 -7.140625 L 1.171875 -7.140625 Z M 1.171875 1.328125 \"/>\n",
       "</symbol>\n",
       "<symbol overflow=\"visible\" id=\"glyph1-1\">\n",
       "<path style=\"stroke:none;\" d=\"M 1.078125 -8.015625 L 2.171875 -8.015625 L 2.171875 -4.734375 L 6.109375 -4.734375 L 6.109375 -8.015625 L 7.1875 -8.015625 L 7.1875 0 L 6.109375 0 L 6.109375 -3.8125 L 2.171875 -3.8125 L 2.171875 0 L 1.078125 0 Z M 1.078125 -8.015625 \"/>\n",
       "</symbol>\n",
       "<symbol overflow=\"visible\" id=\"glyph1-2\">\n",
       "<path style=\"stroke:none;\" d=\"M 3.375 -5.328125 C 2.84375 -5.328125 2.421875 -5.117188 2.109375 -4.703125 C 1.804688 -4.285156 1.65625 -3.71875 1.65625 -3 C 1.65625 -2.28125 1.804688 -1.710938 2.109375 -1.296875 C 2.410156 -0.890625 2.832031 -0.6875 3.375 -0.6875 C 3.894531 -0.6875 4.304688 -0.890625 4.609375 -1.296875 C 4.921875 -1.710938 5.078125 -2.28125 5.078125 -3 C 5.078125 -3.71875 4.921875 -4.285156 4.609375 -4.703125 C 4.304688 -5.117188 3.894531 -5.328125 3.375 -5.328125 Z M 3.375 -6.15625 C 4.226562 -6.15625 4.898438 -5.875 5.390625 -5.3125 C 5.878906 -4.757812 6.125 -3.988281 6.125 -3 C 6.125 -2.019531 5.878906 -1.25 5.390625 -0.6875 C 4.898438 -0.125 4.226562 0.15625 3.375 0.15625 C 2.507812 0.15625 1.832031 -0.125 1.34375 -0.6875 C 0.851562 -1.25 0.609375 -2.019531 0.609375 -3 C 0.609375 -3.988281 0.851562 -4.757812 1.34375 -5.3125 C 1.832031 -5.875 2.507812 -6.15625 3.375 -6.15625 Z M 3.375 -6.15625 \"/>\n",
       "</symbol>\n",
       "<symbol overflow=\"visible\" id=\"glyph1-3\">\n",
       "<path style=\"stroke:none;\" d=\"M 0.9375 -2.375 L 0.9375 -6.015625 L 1.921875 -6.015625 L 1.921875 -2.40625 C 1.921875 -1.84375 2.03125 -1.414062 2.25 -1.125 C 2.476562 -0.84375 2.8125 -0.703125 3.25 -0.703125 C 3.789062 -0.703125 4.210938 -0.867188 4.515625 -1.203125 C 4.828125 -1.546875 4.984375 -2.015625 4.984375 -2.609375 L 4.984375 -6.015625 L 5.96875 -6.015625 L 5.96875 0 L 4.984375 0 L 4.984375 -0.921875 C 4.742188 -0.554688 4.460938 -0.285156 4.140625 -0.109375 C 3.828125 0.0664062 3.460938 0.15625 3.046875 0.15625 C 2.359375 0.15625 1.832031 -0.0546875 1.46875 -0.484375 C 1.113281 -0.921875 0.9375 -1.550781 0.9375 -2.375 Z M 3.421875 -6.15625 Z M 3.421875 -6.15625 \"/>\n",
       "</symbol>\n",
       "<symbol overflow=\"visible\" id=\"glyph1-4\">\n",
       "<path style=\"stroke:none;\" d=\"M 4.515625 -5.09375 C 4.410156 -5.15625 4.289062 -5.203125 4.15625 -5.234375 C 4.03125 -5.265625 3.890625 -5.28125 3.734375 -5.28125 C 3.171875 -5.28125 2.738281 -5.097656 2.4375 -4.734375 C 2.144531 -4.367188 2 -3.847656 2 -3.171875 L 2 0 L 1 0 L 1 -6.015625 L 2 -6.015625 L 2 -5.078125 C 2.195312 -5.441406 2.460938 -5.710938 2.796875 -5.890625 C 3.128906 -6.066406 3.535156 -6.15625 4.015625 -6.15625 C 4.085938 -6.15625 4.160156 -6.148438 4.234375 -6.140625 C 4.316406 -6.140625 4.410156 -6.128906 4.515625 -6.109375 Z M 4.515625 -5.09375 \"/>\n",
       "</symbol>\n",
       "<symbol overflow=\"visible\" id=\"glyph1-5\">\n",
       "<path style=\"stroke:none;\" d=\"\"/>\n",
       "</symbol>\n",
       "<symbol overflow=\"visible\" id=\"glyph1-6\">\n",
       "<path style=\"stroke:none;\" d=\"M 4.078125 -8.359375 L 4.078125 -7.53125 L 3.140625 -7.53125 C 2.785156 -7.53125 2.535156 -7.457031 2.390625 -7.3125 C 2.253906 -7.175781 2.1875 -6.921875 2.1875 -6.546875 L 2.1875 -6.015625 L 3.8125 -6.015625 L 3.8125 -5.25 L 2.1875 -5.25 L 2.1875 0 L 1.203125 0 L 1.203125 -5.25 L 0.25 -5.25 L 0.25 -6.015625 L 1.203125 -6.015625 L 1.203125 -6.4375 C 1.203125 -7.101562 1.351562 -7.585938 1.65625 -7.890625 C 1.96875 -8.203125 2.460938 -8.359375 3.140625 -8.359375 Z M 4.078125 -8.359375 \"/>\n",
       "</symbol>\n",
       "<symbol overflow=\"visible\" id=\"glyph1-7\">\n",
       "<path style=\"stroke:none;\" d=\"M 5 -5.109375 L 5 -8.359375 L 5.984375 -8.359375 L 5.984375 0 L 5 0 L 5 -0.90625 C 4.789062 -0.539062 4.523438 -0.269531 4.203125 -0.09375 C 3.890625 0.0703125 3.507812 0.15625 3.0625 0.15625 C 2.34375 0.15625 1.753906 -0.128906 1.296875 -0.703125 C 0.835938 -1.285156 0.609375 -2.050781 0.609375 -3 C 0.609375 -3.945312 0.835938 -4.707031 1.296875 -5.28125 C 1.753906 -5.863281 2.34375 -6.15625 3.0625 -6.15625 C 3.507812 -6.15625 3.890625 -6.066406 4.203125 -5.890625 C 4.523438 -5.722656 4.789062 -5.460938 5 -5.109375 Z M 1.625 -3 C 1.625 -2.269531 1.773438 -1.695312 2.078125 -1.28125 C 2.378906 -0.875 2.789062 -0.671875 3.3125 -0.671875 C 3.832031 -0.671875 4.242188 -0.875 4.546875 -1.28125 C 4.847656 -1.695312 5 -2.269531 5 -3 C 5 -3.726562 4.847656 -4.296875 4.546875 -4.703125 C 4.242188 -5.117188 3.832031 -5.328125 3.3125 -5.328125 C 2.789062 -5.328125 2.378906 -5.117188 2.078125 -4.703125 C 1.773438 -4.296875 1.625 -3.726562 1.625 -3 Z M 1.625 -3 \"/>\n",
       "</symbol>\n",
       "<symbol overflow=\"visible\" id=\"glyph1-8\">\n",
       "<path style=\"stroke:none;\" d=\"M 3.765625 -3.03125 C 2.972656 -3.03125 2.421875 -2.9375 2.109375 -2.75 C 1.804688 -2.5625 1.65625 -2.25 1.65625 -1.8125 C 1.65625 -1.46875 1.769531 -1.191406 2 -0.984375 C 2.226562 -0.773438 2.539062 -0.671875 2.9375 -0.671875 C 3.488281 -0.671875 3.925781 -0.863281 4.25 -1.25 C 4.582031 -1.644531 4.75 -2.160156 4.75 -2.796875 L 4.75 -3.03125 Z M 5.734375 -3.4375 L 5.734375 0 L 4.75 0 L 4.75 -0.90625 C 4.53125 -0.539062 4.25 -0.269531 3.90625 -0.09375 C 3.570312 0.0703125 3.160156 0.15625 2.671875 0.15625 C 2.054688 0.15625 1.566406 -0.015625 1.203125 -0.359375 C 0.835938 -0.703125 0.65625 -1.164062 0.65625 -1.75 C 0.65625 -2.425781 0.878906 -2.9375 1.328125 -3.28125 C 1.785156 -3.625 2.46875 -3.796875 3.375 -3.796875 L 4.75 -3.796875 L 4.75 -3.890625 C 4.75 -4.347656 4.597656 -4.703125 4.296875 -4.953125 C 4.003906 -5.203125 3.585938 -5.328125 3.046875 -5.328125 C 2.703125 -5.328125 2.363281 -5.285156 2.03125 -5.203125 C 1.707031 -5.117188 1.394531 -4.992188 1.09375 -4.828125 L 1.09375 -5.734375 C 1.457031 -5.878906 1.8125 -5.984375 2.15625 -6.046875 C 2.5 -6.117188 2.828125 -6.15625 3.140625 -6.15625 C 4.015625 -6.15625 4.664062 -5.929688 5.09375 -5.484375 C 5.519531 -5.035156 5.734375 -4.351562 5.734375 -3.4375 Z M 5.734375 -3.4375 \"/>\n",
       "</symbol>\n",
       "<symbol overflow=\"visible\" id=\"glyph1-9\">\n",
       "<path style=\"stroke:none;\" d=\"M 3.546875 0.5625 C 3.265625 1.28125 2.988281 1.742188 2.71875 1.953125 C 2.457031 2.171875 2.101562 2.28125 1.65625 2.28125 L 0.875 2.28125 L 0.875 1.46875 L 1.453125 1.46875 C 1.722656 1.46875 1.929688 1.398438 2.078125 1.265625 C 2.234375 1.140625 2.398438 0.835938 2.578125 0.359375 L 2.765625 -0.09375 L 0.328125 -6.015625 L 1.375 -6.015625 L 3.25 -1.3125 L 5.140625 -6.015625 L 6.1875 -6.015625 Z M 3.546875 0.5625 \"/>\n",
       "</symbol>\n",
       "<symbol overflow=\"visible\" id=\"glyph2-0\">\n",
       "<path style=\"stroke:none;\" d=\"M 1.9375 -0.546875 L -7.75 -0.546875 L -7.75 -6.046875 L 1.9375 -6.046875 Z M 1.328125 -1.171875 L 1.328125 -5.4375 L -7.140625 -5.4375 L -7.140625 -1.171875 Z M 1.328125 -1.171875 \"/>\n",
       "</symbol>\n",
       "<symbol overflow=\"visible\" id=\"glyph2-1\">\n",
       "<path style=\"stroke:none;\" d=\"M -6.953125 -3.765625 L -2.953125 -2.28125 L -2.953125 -5.234375 Z M -8.015625 -3.140625 L -8.015625 -4.375 L 0 -7.4375 L 0 -6.3125 L -2.0625 -5.578125 L -2.0625 -1.953125 L 0 -1.234375 L 0 -0.09375 Z M -8.015625 -3.140625 \"/>\n",
       "</symbol>\n",
       "<symbol overflow=\"visible\" id=\"glyph2-2\">\n",
       "<path style=\"stroke:none;\" d=\"M -6.015625 -0.328125 L -6.015625 -1.375 L -0.96875 -3.25 L -6.015625 -5.140625 L -6.015625 -6.1875 L 0 -3.921875 L 0 -2.578125 Z M -6.015625 -0.328125 \"/>\n",
       "</symbol>\n",
       "<symbol overflow=\"visible\" id=\"glyph2-3\">\n",
       "<path style=\"stroke:none;\" d=\"M -3.25 -6.1875 L -2.765625 -6.1875 L -2.765625 -1.640625 C -2.085938 -1.679688 -1.570312 -1.882812 -1.21875 -2.25 C -0.863281 -2.613281 -0.6875 -3.125 -0.6875 -3.78125 C -0.6875 -4.164062 -0.734375 -4.535156 -0.828125 -4.890625 C -0.921875 -5.242188 -1.054688 -5.597656 -1.234375 -5.953125 L -0.3125 -5.953125 C -0.15625 -5.597656 -0.0390625 -5.234375 0.03125 -4.859375 C 0.113281 -4.484375 0.15625 -4.109375 0.15625 -3.734375 C 0.15625 -2.765625 -0.117188 -2 -0.671875 -1.4375 C -1.234375 -0.882812 -1.992188 -0.609375 -2.953125 -0.609375 C -3.929688 -0.609375 -4.707031 -0.875 -5.28125 -1.40625 C -5.863281 -1.9375 -6.15625 -2.65625 -6.15625 -3.5625 C -6.15625 -4.363281 -5.894531 -5 -5.375 -5.46875 C -4.851562 -5.945312 -4.144531 -6.1875 -3.25 -6.1875 Z M -3.546875 -5.1875 C -4.085938 -5.1875 -4.519531 -5.035156 -4.84375 -4.734375 C -5.164062 -4.441406 -5.328125 -4.050781 -5.328125 -3.5625 C -5.328125 -3.007812 -5.171875 -2.566406 -4.859375 -2.234375 C -4.546875 -1.910156 -4.109375 -1.722656 -3.546875 -1.671875 Z M -3.546875 -5.1875 \"/>\n",
       "</symbol>\n",
       "<symbol overflow=\"visible\" id=\"glyph2-4\">\n",
       "<path style=\"stroke:none;\" d=\"M -5.09375 -4.515625 C -5.15625 -4.410156 -5.203125 -4.289062 -5.234375 -4.15625 C -5.265625 -4.03125 -5.28125 -3.890625 -5.28125 -3.734375 C -5.28125 -3.171875 -5.097656 -2.738281 -4.734375 -2.4375 C -4.367188 -2.144531 -3.847656 -2 -3.171875 -2 L 0 -2 L 0 -1 L -6.015625 -1 L -6.015625 -2 L -5.078125 -2 C -5.441406 -2.195312 -5.710938 -2.460938 -5.890625 -2.796875 C -6.066406 -3.128906 -6.15625 -3.535156 -6.15625 -4.015625 C -6.15625 -4.085938 -6.148438 -4.160156 -6.140625 -4.234375 C -6.140625 -4.316406 -6.128906 -4.410156 -6.109375 -4.515625 Z M -5.09375 -4.515625 \"/>\n",
       "</symbol>\n",
       "<symbol overflow=\"visible\" id=\"glyph2-5\">\n",
       "<path style=\"stroke:none;\" d=\"M -3.03125 -3.765625 C -3.03125 -2.972656 -2.9375 -2.421875 -2.75 -2.109375 C -2.5625 -1.804688 -2.25 -1.65625 -1.8125 -1.65625 C -1.46875 -1.65625 -1.191406 -1.769531 -0.984375 -2 C -0.773438 -2.226562 -0.671875 -2.539062 -0.671875 -2.9375 C -0.671875 -3.488281 -0.863281 -3.925781 -1.25 -4.25 C -1.644531 -4.582031 -2.160156 -4.75 -2.796875 -4.75 L -3.03125 -4.75 Z M -3.4375 -5.734375 L 0 -5.734375 L 0 -4.75 L -0.90625 -4.75 C -0.539062 -4.53125 -0.269531 -4.25 -0.09375 -3.90625 C 0.0703125 -3.570312 0.15625 -3.160156 0.15625 -2.671875 C 0.15625 -2.054688 -0.015625 -1.566406 -0.359375 -1.203125 C -0.703125 -0.835938 -1.164062 -0.65625 -1.75 -0.65625 C -2.425781 -0.65625 -2.9375 -0.878906 -3.28125 -1.328125 C -3.625 -1.785156 -3.796875 -2.46875 -3.796875 -3.375 L -3.796875 -4.75 L -3.890625 -4.75 C -4.347656 -4.75 -4.703125 -4.597656 -4.953125 -4.296875 C -5.203125 -4.003906 -5.328125 -3.585938 -5.328125 -3.046875 C -5.328125 -2.703125 -5.285156 -2.363281 -5.203125 -2.03125 C -5.117188 -1.707031 -4.992188 -1.394531 -4.828125 -1.09375 L -5.734375 -1.09375 C -5.878906 -1.457031 -5.984375 -1.8125 -6.046875 -2.15625 C -6.117188 -2.5 -6.15625 -2.828125 -6.15625 -3.140625 C -6.15625 -4.015625 -5.929688 -4.664062 -5.484375 -5.09375 C -5.035156 -5.519531 -4.351562 -5.734375 -3.4375 -5.734375 Z M -3.4375 -5.734375 \"/>\n",
       "</symbol>\n",
       "<symbol overflow=\"visible\" id=\"glyph2-6\">\n",
       "<path style=\"stroke:none;\" d=\"M -3.078125 -5 C -3.796875 -5 -4.347656 -4.847656 -4.734375 -4.546875 C -5.128906 -4.253906 -5.328125 -3.84375 -5.328125 -3.3125 C -5.328125 -2.78125 -5.128906 -2.363281 -4.734375 -2.0625 C -4.347656 -1.769531 -3.796875 -1.625 -3.078125 -1.625 C -2.367188 -1.625 -1.816406 -1.769531 -1.421875 -2.0625 C -1.023438 -2.363281 -0.828125 -2.78125 -0.828125 -3.3125 C -0.828125 -3.84375 -1.023438 -4.253906 -1.421875 -4.546875 C -1.816406 -4.847656 -2.367188 -5 -3.078125 -5 Z M -0.75 -5.984375 C 0.28125 -5.984375 1.039062 -5.753906 1.53125 -5.296875 C 2.03125 -4.847656 2.28125 -4.15625 2.28125 -3.21875 C 2.28125 -2.863281 2.253906 -2.53125 2.203125 -2.21875 C 2.148438 -1.914062 2.070312 -1.617188 1.96875 -1.328125 L 1.015625 -1.328125 C 1.171875 -1.617188 1.285156 -1.90625 1.359375 -2.1875 C 1.429688 -2.46875 1.46875 -2.757812 1.46875 -3.0625 C 1.46875 -3.707031 1.296875 -4.191406 0.953125 -4.515625 C 0.617188 -4.835938 0.113281 -5 -0.5625 -5 L -1.0625 -5 C -0.707031 -4.789062 -0.441406 -4.523438 -0.265625 -4.203125 C -0.0859375 -3.890625 0 -3.507812 0 -3.0625 C 0 -2.320312 -0.28125 -1.726562 -0.84375 -1.28125 C -1.40625 -0.832031 -2.148438 -0.609375 -3.078125 -0.609375 C -4.003906 -0.609375 -4.75 -0.832031 -5.3125 -1.28125 C -5.875 -1.726562 -6.15625 -2.320312 -6.15625 -3.0625 C -6.15625 -3.507812 -6.066406 -3.890625 -5.890625 -4.203125 C -5.722656 -4.523438 -5.460938 -4.789062 -5.109375 -5 L -6.015625 -5 L -6.015625 -5.984375 Z M -0.75 -5.984375 \"/>\n",
       "</symbol>\n",
       "<symbol overflow=\"visible\" id=\"glyph2-7\">\n",
       "<path style=\"stroke:none;\" d=\"\"/>\n",
       "</symbol>\n",
       "<symbol overflow=\"visible\" id=\"glyph2-8\">\n",
       "<path style=\"stroke:none;\" d=\"M -5.78125 -5.359375 L -4.859375 -5.359375 C -5.015625 -5.085938 -5.128906 -4.8125 -5.203125 -4.53125 C -5.285156 -4.25 -5.328125 -3.960938 -5.328125 -3.671875 C -5.328125 -3.035156 -5.125 -2.539062 -4.71875 -2.1875 C -4.3125 -1.832031 -3.738281 -1.65625 -3 -1.65625 C -2.269531 -1.65625 -1.703125 -1.832031 -1.296875 -2.1875 C -0.890625 -2.539062 -0.6875 -3.035156 -0.6875 -3.671875 C -0.6875 -3.960938 -0.722656 -4.25 -0.796875 -4.53125 C -0.867188 -4.8125 -0.984375 -5.085938 -1.140625 -5.359375 L -0.234375 -5.359375 C -0.0976562 -5.085938 0 -4.800781 0.0625 -4.5 C 0.125 -4.207031 0.15625 -3.894531 0.15625 -3.5625 C 0.15625 -2.65625 -0.125 -1.9375 -0.6875 -1.40625 C -1.257812 -0.875 -2.03125 -0.609375 -3 -0.609375 C -3.976562 -0.609375 -4.75 -0.875 -5.3125 -1.40625 C -5.875 -1.945312 -6.15625 -2.6875 -6.15625 -3.625 C -6.15625 -3.9375 -6.125 -4.234375 -6.0625 -4.515625 C -6 -4.804688 -5.90625 -5.085938 -5.78125 -5.359375 Z M -5.78125 -5.359375 \"/>\n",
       "</symbol>\n",
       "<symbol overflow=\"visible\" id=\"glyph2-9\">\n",
       "<path style=\"stroke:none;\" d=\"M -5.328125 -3.375 C -5.328125 -2.84375 -5.117188 -2.421875 -4.703125 -2.109375 C -4.285156 -1.804688 -3.71875 -1.65625 -3 -1.65625 C -2.28125 -1.65625 -1.710938 -1.804688 -1.296875 -2.109375 C -0.890625 -2.410156 -0.6875 -2.832031 -0.6875 -3.375 C -0.6875 -3.894531 -0.890625 -4.304688 -1.296875 -4.609375 C -1.710938 -4.921875 -2.28125 -5.078125 -3 -5.078125 C -3.71875 -5.078125 -4.285156 -4.921875 -4.703125 -4.609375 C -5.117188 -4.304688 -5.328125 -3.894531 -5.328125 -3.375 Z M -6.15625 -3.375 C -6.15625 -4.226562 -5.875 -4.898438 -5.3125 -5.390625 C -4.757812 -5.878906 -3.988281 -6.125 -3 -6.125 C -2.019531 -6.125 -1.25 -5.878906 -0.6875 -5.390625 C -0.125 -4.898438 0.15625 -4.226562 0.15625 -3.375 C 0.15625 -2.507812 -0.125 -1.832031 -0.6875 -1.34375 C -1.25 -0.851562 -2.019531 -0.609375 -3 -0.609375 C -3.988281 -0.609375 -4.757812 -0.851562 -5.3125 -1.34375 C -5.875 -1.832031 -6.15625 -2.507812 -6.15625 -3.375 Z M -6.15625 -3.375 \"/>\n",
       "</symbol>\n",
       "<symbol overflow=\"visible\" id=\"glyph2-10\">\n",
       "<path style=\"stroke:none;\" d=\"M -2.375 -0.9375 L -6.015625 -0.9375 L -6.015625 -1.921875 L -2.40625 -1.921875 C -1.84375 -1.921875 -1.414062 -2.03125 -1.125 -2.25 C -0.84375 -2.476562 -0.703125 -2.8125 -0.703125 -3.25 C -0.703125 -3.789062 -0.867188 -4.210938 -1.203125 -4.515625 C -1.546875 -4.828125 -2.015625 -4.984375 -2.609375 -4.984375 L -6.015625 -4.984375 L -6.015625 -5.96875 L 0 -5.96875 L 0 -4.984375 L -0.921875 -4.984375 C -0.554688 -4.742188 -0.285156 -4.460938 -0.109375 -4.140625 C 0.0664062 -3.828125 0.15625 -3.460938 0.15625 -3.046875 C 0.15625 -2.359375 -0.0546875 -1.832031 -0.484375 -1.46875 C -0.921875 -1.113281 -1.550781 -0.9375 -2.375 -0.9375 Z M -6.15625 -3.421875 Z M -6.15625 -3.421875 \"/>\n",
       "</symbol>\n",
       "<symbol overflow=\"visible\" id=\"glyph2-11\">\n",
       "<path style=\"stroke:none;\" d=\"M -3.625 -6.03125 L 0 -6.03125 L 0 -5.046875 L -3.59375 -5.046875 C -4.164062 -5.046875 -4.59375 -4.9375 -4.875 -4.71875 C -5.15625 -4.5 -5.296875 -4.164062 -5.296875 -3.71875 C -5.296875 -3.1875 -5.125 -2.765625 -4.78125 -2.453125 C -4.445312 -2.148438 -3.988281 -2 -3.40625 -2 L 0 -2 L 0 -1 L -6.015625 -1 L -6.015625 -2 L -5.078125 -2 C -5.441406 -2.226562 -5.710938 -2.503906 -5.890625 -2.828125 C -6.066406 -3.148438 -6.15625 -3.519531 -6.15625 -3.9375 C -6.15625 -4.625 -5.941406 -5.144531 -5.515625 -5.5 C -5.085938 -5.851562 -4.457031 -6.03125 -3.625 -6.03125 Z M -3.625 -6.03125 \"/>\n",
       "</symbol>\n",
       "<symbol overflow=\"visible\" id=\"glyph2-12\">\n",
       "<path style=\"stroke:none;\" d=\"M -7.71875 -2.015625 L -6.015625 -2.015625 L -6.015625 -4.046875 L -5.25 -4.046875 L -5.25 -2.015625 L -1.984375 -2.015625 C -1.492188 -2.015625 -1.175781 -2.082031 -1.03125 -2.21875 C -0.894531 -2.351562 -0.828125 -2.625 -0.828125 -3.03125 L -0.828125 -4.046875 L 0 -4.046875 L 0 -3.03125 C 0 -2.269531 -0.140625 -1.742188 -0.421875 -1.453125 C -0.710938 -1.160156 -1.234375 -1.015625 -1.984375 -1.015625 L -5.25 -1.015625 L -5.25 -0.296875 L -6.015625 -0.296875 L -6.015625 -1.015625 L -7.71875 -1.015625 Z M -7.71875 -2.015625 \"/>\n",
       "</symbol>\n",
       "<symbol overflow=\"visible\" id=\"glyph3-0\">\n",
       "<path style=\"stroke:none;\" d=\"M 0.640625 2.296875 L 0.640625 -9.171875 L 7.140625 -9.171875 L 7.140625 2.296875 Z M 1.375 1.578125 L 6.421875 1.578125 L 6.421875 -8.4375 L 1.375 -8.4375 Z M 1.375 1.578125 \"/>\n",
       "</symbol>\n",
       "<symbol overflow=\"visible\" id=\"glyph3-1\">\n",
       "<path style=\"stroke:none;\" d=\"M 1.125 -9.484375 L 2.421875 -9.484375 L 2.421875 -3.71875 C 2.421875 -2.707031 2.601562 -1.976562 2.96875 -1.53125 C 3.332031 -1.082031 3.929688 -0.859375 4.765625 -0.859375 C 5.585938 -0.859375 6.179688 -1.082031 6.546875 -1.53125 C 6.910156 -1.976562 7.09375 -2.707031 7.09375 -3.71875 L 7.09375 -9.484375 L 8.390625 -9.484375 L 8.390625 -3.5625 C 8.390625 -2.320312 8.082031 -1.382812 7.46875 -0.75 C 6.851562 -0.125 5.953125 0.1875 4.765625 0.1875 C 3.566406 0.1875 2.660156 -0.125 2.046875 -0.75 C 1.429688 -1.382812 1.125 -2.320312 1.125 -3.5625 Z M 1.125 -9.484375 \"/>\n",
       "</symbol>\n",
       "<symbol overflow=\"visible\" id=\"glyph3-2\">\n",
       "<path style=\"stroke:none;\" d=\"M 5.75 -6.90625 L 5.75 -5.796875 C 5.425781 -5.960938 5.085938 -6.085938 4.734375 -6.171875 C 4.378906 -6.253906 4.007812 -6.296875 3.625 -6.296875 C 3.039062 -6.296875 2.601562 -6.207031 2.3125 -6.03125 C 2.03125 -5.851562 1.890625 -5.585938 1.890625 -5.234375 C 1.890625 -4.960938 1.988281 -4.75 2.1875 -4.59375 C 2.394531 -4.445312 2.816406 -4.300781 3.453125 -4.15625 L 3.84375 -4.0625 C 4.675781 -3.882812 5.265625 -3.632812 5.609375 -3.3125 C 5.960938 -2.988281 6.140625 -2.539062 6.140625 -1.96875 C 6.140625 -1.300781 5.878906 -0.773438 5.359375 -0.390625 C 4.835938 -0.00390625 4.117188 0.1875 3.203125 0.1875 C 2.816406 0.1875 2.414062 0.148438 2 0.078125 C 1.59375 0.00390625 1.160156 -0.109375 0.703125 -0.265625 L 0.703125 -1.46875 C 1.140625 -1.238281 1.566406 -1.066406 1.984375 -0.953125 C 2.398438 -0.847656 2.8125 -0.796875 3.21875 -0.796875 C 3.769531 -0.796875 4.191406 -0.890625 4.484375 -1.078125 C 4.785156 -1.265625 4.9375 -1.53125 4.9375 -1.875 C 4.9375 -2.1875 4.828125 -2.425781 4.609375 -2.59375 C 4.398438 -2.769531 3.9375 -2.9375 3.21875 -3.09375 L 2.8125 -3.1875 C 2.082031 -3.34375 1.554688 -3.578125 1.234375 -3.890625 C 0.910156 -4.203125 0.75 -4.632812 0.75 -5.1875 C 0.75 -5.851562 0.984375 -6.367188 1.453125 -6.734375 C 1.929688 -7.097656 2.609375 -7.28125 3.484375 -7.28125 C 3.910156 -7.28125 4.316406 -7.25 4.703125 -7.1875 C 5.085938 -7.125 5.4375 -7.03125 5.75 -6.90625 Z M 5.75 -6.90625 \"/>\n",
       "</symbol>\n",
       "<symbol overflow=\"visible\" id=\"glyph3-3\">\n",
       "<path style=\"stroke:none;\" d=\"M 7.3125 -3.84375 L 7.3125 -3.28125 L 1.9375 -3.28125 C 1.988281 -2.46875 2.226562 -1.851562 2.65625 -1.4375 C 3.09375 -1.019531 3.695312 -0.8125 4.46875 -0.8125 C 4.914062 -0.8125 5.347656 -0.863281 5.765625 -0.96875 C 6.191406 -1.082031 6.613281 -1.25 7.03125 -1.46875 L 7.03125 -0.359375 C 6.613281 -0.179688 6.179688 -0.046875 5.734375 0.046875 C 5.296875 0.140625 4.851562 0.1875 4.40625 0.1875 C 3.269531 0.1875 2.367188 -0.140625 1.703125 -0.796875 C 1.046875 -1.460938 0.71875 -2.359375 0.71875 -3.484375 C 0.71875 -4.648438 1.03125 -5.570312 1.65625 -6.25 C 2.289062 -6.9375 3.140625 -7.28125 4.203125 -7.28125 C 5.160156 -7.28125 5.914062 -6.972656 6.46875 -6.359375 C 7.03125 -5.742188 7.3125 -4.90625 7.3125 -3.84375 Z M 6.140625 -4.1875 C 6.128906 -4.820312 5.945312 -5.332031 5.59375 -5.71875 C 5.25 -6.101562 4.789062 -6.296875 4.21875 -6.296875 C 3.5625 -6.296875 3.035156 -6.109375 2.640625 -5.734375 C 2.253906 -5.367188 2.03125 -4.851562 1.96875 -4.1875 Z M 6.140625 -4.1875 \"/>\n",
       "</symbol>\n",
       "<symbol overflow=\"visible\" id=\"glyph3-4\">\n",
       "<path style=\"stroke:none;\" d=\"M 5.90625 -6.03125 L 5.90625 -9.875 L 7.078125 -9.875 L 7.078125 0 L 5.90625 0 L 5.90625 -1.0625 C 5.65625 -0.644531 5.34375 -0.332031 4.96875 -0.125 C 4.59375 0.0820312 4.144531 0.1875 3.625 0.1875 C 2.769531 0.1875 2.070312 -0.15625 1.53125 -0.84375 C 0.988281 -1.53125 0.71875 -2.429688 0.71875 -3.546875 C 0.71875 -4.660156 0.988281 -5.5625 1.53125 -6.25 C 2.070312 -6.9375 2.769531 -7.28125 3.625 -7.28125 C 4.144531 -7.28125 4.59375 -7.175781 4.96875 -6.96875 C 5.34375 -6.769531 5.65625 -6.457031 5.90625 -6.03125 Z M 1.921875 -3.546875 C 1.921875 -2.691406 2.097656 -2.019531 2.453125 -1.53125 C 2.804688 -1.039062 3.289062 -0.796875 3.90625 -0.796875 C 4.53125 -0.796875 5.019531 -1.039062 5.375 -1.53125 C 5.726562 -2.019531 5.90625 -2.691406 5.90625 -3.546875 C 5.90625 -4.410156 5.726562 -5.082031 5.375 -5.5625 C 5.019531 -6.050781 4.53125 -6.296875 3.90625 -6.296875 C 3.289062 -6.296875 2.804688 -6.050781 2.453125 -5.5625 C 2.097656 -5.082031 1.921875 -4.410156 1.921875 -3.546875 Z M 1.921875 -3.546875 \"/>\n",
       "</symbol>\n",
       "<symbol overflow=\"visible\" id=\"glyph3-5\">\n",
       "<path style=\"stroke:none;\" d=\"\"/>\n",
       "</symbol>\n",
       "<symbol overflow=\"visible\" id=\"glyph3-6\">\n",
       "<path style=\"stroke:none;\" d=\"M 6.328125 -3.546875 C 6.328125 -4.410156 6.148438 -5.082031 5.796875 -5.5625 C 5.441406 -6.050781 4.957031 -6.296875 4.34375 -6.296875 C 3.726562 -6.296875 3.242188 -6.050781 2.890625 -5.5625 C 2.535156 -5.082031 2.359375 -4.410156 2.359375 -3.546875 C 2.359375 -2.691406 2.535156 -2.019531 2.890625 -1.53125 C 3.242188 -1.039062 3.726562 -0.796875 4.34375 -0.796875 C 4.957031 -0.796875 5.441406 -1.039062 5.796875 -1.53125 C 6.148438 -2.019531 6.328125 -2.691406 6.328125 -3.546875 Z M 2.359375 -6.03125 C 2.597656 -6.457031 2.90625 -6.769531 3.28125 -6.96875 C 3.65625 -7.175781 4.101562 -7.28125 4.625 -7.28125 C 5.488281 -7.28125 6.191406 -6.9375 6.734375 -6.25 C 7.273438 -5.5625 7.546875 -4.660156 7.546875 -3.546875 C 7.546875 -2.429688 7.273438 -1.53125 6.734375 -0.84375 C 6.191406 -0.15625 5.488281 0.1875 4.625 0.1875 C 4.101562 0.1875 3.65625 0.0820312 3.28125 -0.125 C 2.90625 -0.332031 2.597656 -0.644531 2.359375 -1.0625 L 2.359375 0 L 1.1875 0 L 1.1875 -9.875 L 2.359375 -9.875 Z M 2.359375 -6.03125 \"/>\n",
       "</symbol>\n",
       "<symbol overflow=\"visible\" id=\"glyph3-7\">\n",
       "<path style=\"stroke:none;\" d=\"M 1.21875 -7.109375 L 2.390625 -7.109375 L 2.390625 0 L 1.21875 0 Z M 1.21875 -9.875 L 2.390625 -9.875 L 2.390625 -8.390625 L 1.21875 -8.390625 Z M 1.21875 -9.875 \"/>\n",
       "</symbol>\n",
       "<symbol overflow=\"visible\" id=\"glyph3-8\">\n",
       "<path style=\"stroke:none;\" d=\"M 1.1875 -9.875 L 2.359375 -9.875 L 2.359375 -4.046875 L 5.84375 -7.109375 L 7.328125 -7.109375 L 3.5625 -3.78125 L 7.484375 0 L 5.96875 0 L 2.359375 -3.46875 L 2.359375 0 L 1.1875 0 Z M 1.1875 -9.875 \"/>\n",
       "</symbol>\n",
       "<symbol overflow=\"visible\" id=\"glyph3-9\">\n",
       "<path style=\"stroke:none;\" d=\"M 4.1875 0.65625 C 3.851562 1.507812 3.53125 2.0625 3.21875 2.3125 C 2.90625 2.570312 2.488281 2.703125 1.96875 2.703125 L 1.03125 2.703125 L 1.03125 1.734375 L 1.71875 1.734375 C 2.039062 1.734375 2.289062 1.65625 2.46875 1.5 C 2.644531 1.34375 2.835938 0.984375 3.046875 0.421875 L 3.265625 -0.109375 L 0.390625 -7.109375 L 1.625 -7.109375 L 3.84375 -1.546875 L 6.0625 -7.109375 L 7.3125 -7.109375 Z M 4.1875 0.65625 \"/>\n",
       "</symbol>\n",
       "<symbol overflow=\"visible\" id=\"glyph3-10\">\n",
       "<path style=\"stroke:none;\" d=\"M 7.140625 -4.296875 L 7.140625 0 L 5.96875 0 L 5.96875 -4.25 C 5.96875 -4.925781 5.835938 -5.429688 5.578125 -5.765625 C 5.316406 -6.097656 4.921875 -6.265625 4.390625 -6.265625 C 3.765625 -6.265625 3.269531 -6.0625 2.90625 -5.65625 C 2.539062 -5.257812 2.359375 -4.710938 2.359375 -4.015625 L 2.359375 0 L 1.1875 0 L 1.1875 -9.875 L 2.359375 -9.875 L 2.359375 -6 C 2.640625 -6.425781 2.96875 -6.742188 3.34375 -6.953125 C 3.71875 -7.171875 4.15625 -7.28125 4.65625 -7.28125 C 5.46875 -7.28125 6.082031 -7.023438 6.5 -6.515625 C 6.925781 -6.015625 7.140625 -5.273438 7.140625 -4.296875 Z M 7.140625 -4.296875 \"/>\n",
       "</symbol>\n",
       "<symbol overflow=\"visible\" id=\"glyph3-11\">\n",
       "<path style=\"stroke:none;\" d=\"M 3.984375 -6.296875 C 3.359375 -6.296875 2.863281 -6.050781 2.5 -5.5625 C 2.132812 -5.070312 1.953125 -4.398438 1.953125 -3.546875 C 1.953125 -2.691406 2.128906 -2.019531 2.484375 -1.53125 C 2.847656 -1.050781 3.347656 -0.8125 3.984375 -0.8125 C 4.597656 -0.8125 5.085938 -1.054688 5.453125 -1.546875 C 5.816406 -2.035156 6 -2.703125 6 -3.546875 C 6 -4.390625 5.816406 -5.054688 5.453125 -5.546875 C 5.085938 -6.046875 4.597656 -6.296875 3.984375 -6.296875 Z M 3.984375 -7.28125 C 4.992188 -7.28125 5.789062 -6.945312 6.375 -6.28125 C 6.957031 -5.625 7.25 -4.710938 7.25 -3.546875 C 7.25 -2.378906 6.957031 -1.460938 6.375 -0.796875 C 5.789062 -0.140625 4.992188 0.1875 3.984375 0.1875 C 2.960938 0.1875 2.160156 -0.140625 1.578125 -0.796875 C 1.003906 -1.460938 0.71875 -2.378906 0.71875 -3.546875 C 0.71875 -4.710938 1.003906 -5.625 1.578125 -6.28125 C 2.160156 -6.945312 2.960938 -7.28125 3.984375 -7.28125 Z M 3.984375 -7.28125 \"/>\n",
       "</symbol>\n",
       "<symbol overflow=\"visible\" id=\"glyph3-12\">\n",
       "<path style=\"stroke:none;\" d=\"M 1.109375 -2.8125 L 1.109375 -7.109375 L 2.265625 -7.109375 L 2.265625 -2.84375 C 2.265625 -2.175781 2.394531 -1.671875 2.65625 -1.328125 C 2.925781 -0.992188 3.320312 -0.828125 3.84375 -0.828125 C 4.476562 -0.828125 4.976562 -1.023438 5.34375 -1.421875 C 5.707031 -1.828125 5.890625 -2.378906 5.890625 -3.078125 L 5.890625 -7.109375 L 7.0625 -7.109375 L 7.0625 0 L 5.890625 0 L 5.890625 -1.09375 C 5.609375 -0.65625 5.28125 -0.332031 4.90625 -0.125 C 4.53125 0.0820312 4.09375 0.1875 3.59375 0.1875 C 2.78125 0.1875 2.160156 -0.0664062 1.734375 -0.578125 C 1.316406 -1.085938 1.109375 -1.832031 1.109375 -2.8125 Z M 4.046875 -7.28125 Z M 4.046875 -7.28125 \"/>\n",
       "</symbol>\n",
       "<symbol overflow=\"visible\" id=\"glyph3-13\">\n",
       "<path style=\"stroke:none;\" d=\"M 5.34375 -6.015625 C 5.207031 -6.085938 5.0625 -6.140625 4.90625 -6.171875 C 4.757812 -6.210938 4.59375 -6.234375 4.40625 -6.234375 C 3.75 -6.234375 3.242188 -6.019531 2.890625 -5.59375 C 2.535156 -5.164062 2.359375 -4.550781 2.359375 -3.75 L 2.359375 0 L 1.1875 0 L 1.1875 -7.109375 L 2.359375 -7.109375 L 2.359375 -6 C 2.597656 -6.4375 2.914062 -6.757812 3.3125 -6.96875 C 3.707031 -7.175781 4.1875 -7.28125 4.75 -7.28125 C 4.832031 -7.28125 4.921875 -7.273438 5.015625 -7.265625 C 5.109375 -7.253906 5.21875 -7.238281 5.34375 -7.21875 Z M 5.34375 -6.015625 \"/>\n",
       "</symbol>\n",
       "<symbol overflow=\"visible\" id=\"glyph3-14\">\n",
       "<path style=\"stroke:none;\" d=\"M 4.453125 -3.578125 C 3.515625 -3.578125 2.863281 -3.46875 2.5 -3.25 C 2.132812 -3.03125 1.953125 -2.660156 1.953125 -2.140625 C 1.953125 -1.734375 2.085938 -1.40625 2.359375 -1.15625 C 2.628906 -0.914062 3 -0.796875 3.46875 -0.796875 C 4.113281 -0.796875 4.632812 -1.023438 5.03125 -1.484375 C 5.425781 -1.941406 5.625 -2.550781 5.625 -3.3125 L 5.625 -3.578125 Z M 6.78125 -4.0625 L 6.78125 0 L 5.625 0 L 5.625 -1.078125 C 5.351562 -0.648438 5.019531 -0.332031 4.625 -0.125 C 4.226562 0.0820312 3.738281 0.1875 3.15625 0.1875 C 2.425781 0.1875 1.847656 -0.015625 1.421875 -0.421875 C 0.992188 -0.835938 0.78125 -1.382812 0.78125 -2.0625 C 0.78125 -2.863281 1.046875 -3.46875 1.578125 -3.875 C 2.117188 -4.28125 2.921875 -4.484375 3.984375 -4.484375 L 5.625 -4.484375 L 5.625 -4.609375 C 5.625 -5.140625 5.445312 -5.550781 5.09375 -5.84375 C 4.738281 -6.144531 4.238281 -6.296875 3.59375 -6.296875 C 3.1875 -6.296875 2.789062 -6.242188 2.40625 -6.140625 C 2.019531 -6.046875 1.648438 -5.898438 1.296875 -5.703125 L 1.296875 -6.78125 C 1.722656 -6.945312 2.140625 -7.070312 2.546875 -7.15625 C 2.953125 -7.238281 3.34375 -7.28125 3.71875 -7.28125 C 4.75 -7.28125 5.515625 -7.015625 6.015625 -6.484375 C 6.523438 -5.953125 6.78125 -5.144531 6.78125 -4.0625 Z M 6.78125 -4.0625 \"/>\n",
       "</symbol>\n",
       "<symbol overflow=\"visible\" id=\"glyph3-15\">\n",
       "<path style=\"stroke:none;\" d=\"M 7.140625 -4.296875 L 7.140625 0 L 5.96875 0 L 5.96875 -4.25 C 5.96875 -4.925781 5.835938 -5.429688 5.578125 -5.765625 C 5.316406 -6.097656 4.921875 -6.265625 4.390625 -6.265625 C 3.765625 -6.265625 3.269531 -6.0625 2.90625 -5.65625 C 2.539062 -5.257812 2.359375 -4.710938 2.359375 -4.015625 L 2.359375 0 L 1.1875 0 L 1.1875 -7.109375 L 2.359375 -7.109375 L 2.359375 -6 C 2.640625 -6.425781 2.96875 -6.742188 3.34375 -6.953125 C 3.71875 -7.171875 4.15625 -7.28125 4.65625 -7.28125 C 5.46875 -7.28125 6.082031 -7.023438 6.5 -6.515625 C 6.925781 -6.015625 7.140625 -5.273438 7.140625 -4.296875 Z M 7.140625 -4.296875 \"/>\n",
       "</symbol>\n",
       "<symbol overflow=\"visible\" id=\"glyph3-16\">\n",
       "<path style=\"stroke:none;\" d=\"M 0.546875 -7.109375 L 1.71875 -7.109375 L 3.171875 -1.5625 L 4.625 -7.109375 L 6 -7.109375 L 7.46875 -1.5625 L 8.921875 -7.109375 L 10.09375 -7.109375 L 8.234375 0 L 6.84375 0 L 5.3125 -5.828125 L 3.78125 0 L 2.40625 0 Z M 0.546875 -7.109375 \"/>\n",
       "</symbol>\n",
       "</g>\n",
       "<clipPath id=\"clip1\">\n",
       "  <path d=\"M 43.984375 22.054688 L 402 22.054688 L 402 472 L 43.984375 472 Z M 43.984375 22.054688 \"/>\n",
       "</clipPath>\n",
       "<clipPath id=\"clip2\">\n",
       "  <path d=\"M 43.984375 377 L 402 377 L 402 379 L 43.984375 379 Z M 43.984375 377 \"/>\n",
       "</clipPath>\n",
       "<clipPath id=\"clip3\">\n",
       "  <path d=\"M 43.984375 226 L 402 226 L 402 228 L 43.984375 228 Z M 43.984375 226 \"/>\n",
       "</clipPath>\n",
       "<clipPath id=\"clip4\">\n",
       "  <path d=\"M 43.984375 75 L 402 75 L 402 77 L 43.984375 77 Z M 43.984375 75 \"/>\n",
       "</clipPath>\n",
       "<clipPath id=\"clip5\">\n",
       "  <path d=\"M 95 22.054688 L 96 22.054688 L 96 472 L 95 472 Z M 95 22.054688 \"/>\n",
       "</clipPath>\n",
       "<clipPath id=\"clip6\">\n",
       "  <path d=\"M 165 22.054688 L 167 22.054688 L 167 472 L 165 472 Z M 165 22.054688 \"/>\n",
       "</clipPath>\n",
       "<clipPath id=\"clip7\">\n",
       "  <path d=\"M 236 22.054688 L 238 22.054688 L 238 472 L 236 472 Z M 236 22.054688 \"/>\n",
       "</clipPath>\n",
       "<clipPath id=\"clip8\">\n",
       "  <path d=\"M 307 22.054688 L 308 22.054688 L 308 472 L 307 472 Z M 307 22.054688 \"/>\n",
       "</clipPath>\n",
       "<clipPath id=\"clip9\">\n",
       "  <path d=\"M 377 22.054688 L 379 22.054688 L 379 472 L 377 472 Z M 377 22.054688 \"/>\n",
       "</clipPath>\n",
       "<clipPath id=\"clip10\">\n",
       "  <path d=\"M 43.984375 453 L 402.566406 453 L 402.566406 455 L 43.984375 455 Z M 43.984375 453 \"/>\n",
       "</clipPath>\n",
       "<clipPath id=\"clip11\">\n",
       "  <path d=\"M 43.984375 302 L 402.566406 302 L 402.566406 304 L 43.984375 304 Z M 43.984375 302 \"/>\n",
       "</clipPath>\n",
       "<clipPath id=\"clip12\">\n",
       "  <path d=\"M 43.984375 150 L 402.566406 150 L 402.566406 153 L 43.984375 153 Z M 43.984375 150 \"/>\n",
       "</clipPath>\n",
       "<clipPath id=\"clip13\">\n",
       "  <path d=\"M 59 22.054688 L 61 22.054688 L 61 472 L 59 472 Z M 59 22.054688 \"/>\n",
       "</clipPath>\n",
       "<clipPath id=\"clip14\">\n",
       "  <path d=\"M 130 22.054688 L 132 22.054688 L 132 472 L 130 472 Z M 130 22.054688 \"/>\n",
       "</clipPath>\n",
       "<clipPath id=\"clip15\">\n",
       "  <path d=\"M 201 22.054688 L 203 22.054688 L 203 472 L 201 472 Z M 201 22.054688 \"/>\n",
       "</clipPath>\n",
       "<clipPath id=\"clip16\">\n",
       "  <path d=\"M 271 22.054688 L 273 22.054688 L 273 472 L 271 472 Z M 271 22.054688 \"/>\n",
       "</clipPath>\n",
       "<clipPath id=\"clip17\">\n",
       "  <path d=\"M 342 22.054688 L 344 22.054688 L 344 472 L 342 472 Z M 342 22.054688 \"/>\n",
       "</clipPath>\n",
       "</defs>\n",
       "<g id=\"surface196\">\n",
       "<rect x=\"0\" y=\"0\" width=\"504\" height=\"504\" style=\"fill:rgb(100%,100%,100%);fill-opacity:1;stroke:none;\"/>\n",
       "<rect x=\"0\" y=\"0\" width=\"504\" height=\"504\" style=\"fill:rgb(100%,100%,100%);fill-opacity:1;stroke:none;\"/>\n",
       "<path style=\"fill:none;stroke-width:1.066978;stroke-linecap:round;stroke-linejoin:round;stroke:rgb(100%,100%,100%);stroke-opacity:1;stroke-miterlimit:10;\" d=\"M 0 504 L 504 504 L 504 0 L 0 0 Z M 0 504 \"/>\n",
       "<g clip-path=\"url(#clip1)\" clip-rule=\"nonzero\">\n",
       "<path style=\" stroke:none;fill-rule:nonzero;fill:rgb(92.156863%,92.156863%,92.156863%);fill-opacity:1;\" d=\"M 43.984375 471.015625 L 401.566406 471.015625 L 401.566406 22.058594 L 43.984375 22.058594 Z M 43.984375 471.015625 \"/>\n",
       "</g>\n",
       "<g clip-path=\"url(#clip2)\" clip-rule=\"nonzero\">\n",
       "<path style=\"fill:none;stroke-width:0.533489;stroke-linecap:butt;stroke-linejoin:round;stroke:rgb(100%,100%,100%);stroke-opacity:1;stroke-miterlimit:10;\" d=\"M 43.984375 378.179688 L 401.570312 378.179688 \"/>\n",
       "</g>\n",
       "<g clip-path=\"url(#clip3)\" clip-rule=\"nonzero\">\n",
       "<path style=\"fill:none;stroke-width:0.533489;stroke-linecap:butt;stroke-linejoin:round;stroke:rgb(100%,100%,100%);stroke-opacity:1;stroke-miterlimit:10;\" d=\"M 43.984375 227.050781 L 401.570312 227.050781 \"/>\n",
       "</g>\n",
       "<g clip-path=\"url(#clip4)\" clip-rule=\"nonzero\">\n",
       "<path style=\"fill:none;stroke-width:0.533489;stroke-linecap:butt;stroke-linejoin:round;stroke:rgb(100%,100%,100%);stroke-opacity:1;stroke-miterlimit:10;\" d=\"M 43.984375 75.921875 L 401.570312 75.921875 \"/>\n",
       "</g>\n",
       "<g clip-path=\"url(#clip5)\" clip-rule=\"nonzero\">\n",
       "<path style=\"fill:none;stroke-width:0.533489;stroke-linecap:butt;stroke-linejoin:round;stroke:rgb(100%,100%,100%);stroke-opacity:1;stroke-miterlimit:10;\" d=\"M 95.574219 471.015625 L 95.574219 22.054688 \"/>\n",
       "</g>\n",
       "<g clip-path=\"url(#clip6)\" clip-rule=\"nonzero\">\n",
       "<path style=\"fill:none;stroke-width:0.533489;stroke-linecap:butt;stroke-linejoin:round;stroke:rgb(100%,100%,100%);stroke-opacity:1;stroke-miterlimit:10;\" d=\"M 166.242188 471.015625 L 166.242188 22.054688 \"/>\n",
       "</g>\n",
       "<g clip-path=\"url(#clip7)\" clip-rule=\"nonzero\">\n",
       "<path style=\"fill:none;stroke-width:0.533489;stroke-linecap:butt;stroke-linejoin:round;stroke:rgb(100%,100%,100%);stroke-opacity:1;stroke-miterlimit:10;\" d=\"M 236.910156 471.015625 L 236.910156 22.054688 \"/>\n",
       "</g>\n",
       "<g clip-path=\"url(#clip8)\" clip-rule=\"nonzero\">\n",
       "<path style=\"fill:none;stroke-width:0.533489;stroke-linecap:butt;stroke-linejoin:round;stroke:rgb(100%,100%,100%);stroke-opacity:1;stroke-miterlimit:10;\" d=\"M 307.578125 471.015625 L 307.578125 22.054688 \"/>\n",
       "</g>\n",
       "<g clip-path=\"url(#clip9)\" clip-rule=\"nonzero\">\n",
       "<path style=\"fill:none;stroke-width:0.533489;stroke-linecap:butt;stroke-linejoin:round;stroke:rgb(100%,100%,100%);stroke-opacity:1;stroke-miterlimit:10;\" d=\"M 378.25 471.015625 L 378.25 22.054688 \"/>\n",
       "</g>\n",
       "<g clip-path=\"url(#clip10)\" clip-rule=\"nonzero\">\n",
       "<path style=\"fill:none;stroke-width:1.066978;stroke-linecap:butt;stroke-linejoin:round;stroke:rgb(100%,100%,100%);stroke-opacity:1;stroke-miterlimit:10;\" d=\"M 43.984375 453.742188 L 401.570312 453.742188 \"/>\n",
       "</g>\n",
       "<g clip-path=\"url(#clip11)\" clip-rule=\"nonzero\">\n",
       "<path style=\"fill:none;stroke-width:1.066978;stroke-linecap:butt;stroke-linejoin:round;stroke:rgb(100%,100%,100%);stroke-opacity:1;stroke-miterlimit:10;\" d=\"M 43.984375 302.613281 L 401.570312 302.613281 \"/>\n",
       "</g>\n",
       "<g clip-path=\"url(#clip12)\" clip-rule=\"nonzero\">\n",
       "<path style=\"fill:none;stroke-width:1.066978;stroke-linecap:butt;stroke-linejoin:round;stroke:rgb(100%,100%,100%);stroke-opacity:1;stroke-miterlimit:10;\" d=\"M 43.984375 151.484375 L 401.570312 151.484375 \"/>\n",
       "</g>\n",
       "<g clip-path=\"url(#clip13)\" clip-rule=\"nonzero\">\n",
       "<path style=\"fill:none;stroke-width:1.066978;stroke-linecap:butt;stroke-linejoin:round;stroke:rgb(100%,100%,100%);stroke-opacity:1;stroke-miterlimit:10;\" d=\"M 60.238281 471.015625 L 60.238281 22.054688 \"/>\n",
       "</g>\n",
       "<g clip-path=\"url(#clip14)\" clip-rule=\"nonzero\">\n",
       "<path style=\"fill:none;stroke-width:1.066978;stroke-linecap:butt;stroke-linejoin:round;stroke:rgb(100%,100%,100%);stroke-opacity:1;stroke-miterlimit:10;\" d=\"M 130.910156 471.015625 L 130.910156 22.054688 \"/>\n",
       "</g>\n",
       "<g clip-path=\"url(#clip15)\" clip-rule=\"nonzero\">\n",
       "<path style=\"fill:none;stroke-width:1.066978;stroke-linecap:butt;stroke-linejoin:round;stroke:rgb(100%,100%,100%);stroke-opacity:1;stroke-miterlimit:10;\" d=\"M 201.578125 471.015625 L 201.578125 22.054688 \"/>\n",
       "</g>\n",
       "<g clip-path=\"url(#clip16)\" clip-rule=\"nonzero\">\n",
       "<path style=\"fill:none;stroke-width:1.066978;stroke-linecap:butt;stroke-linejoin:round;stroke:rgb(100%,100%,100%);stroke-opacity:1;stroke-miterlimit:10;\" d=\"M 272.246094 471.015625 L 272.246094 22.054688 \"/>\n",
       "</g>\n",
       "<g clip-path=\"url(#clip17)\" clip-rule=\"nonzero\">\n",
       "<path style=\"fill:none;stroke-width:1.066978;stroke-linecap:butt;stroke-linejoin:round;stroke:rgb(100%,100%,100%);stroke-opacity:1;stroke-miterlimit:10;\" d=\"M 342.914062 471.015625 L 342.914062 22.054688 \"/>\n",
       "</g>\n",
       "<path style=\"fill:none;stroke-width:1.066978;stroke-linecap:butt;stroke-linejoin:round;stroke:rgb(97.254902%,46.27451%,42.745098%);stroke-opacity:1;stroke-miterlimit:1;\" d=\"M 60.238281 414.125 L 74.375 435.0625 L 88.507812 444.117188 L 102.640625 448.757812 L 116.773438 449.15625 L 130.910156 435.679688 L 145.042969 385.714844 L 159.175781 261.5625 L 173.308594 104.425781 L 187.441406 258.039062 L 201.578125 334.554688 L 215.710938 311.59375 L 229.84375 274.167969 L 243.976562 271.277344 L 258.113281 280.425781 L 272.246094 262.972656 L 286.378906 203.632812 L 300.511719 81.652344 L 314.648438 135.625 L 328.78125 225.488281 L 342.914062 292.542969 L 357.046875 325.378906 L 371.179688 342.613281 L 385.316406 366.683594 \"/>\n",
       "<path style=\"fill:none;stroke-width:1.066978;stroke-linecap:butt;stroke-linejoin:round;stroke:rgb(76.862745%,60.392157%,0%);stroke-opacity:1;stroke-miterlimit:1;\" d=\"M 60.238281 428.042969 L 74.375 440.664062 L 88.507812 445.949219 L 102.640625 449.878906 L 116.773438 449.371094 L 130.910156 437.382812 L 145.042969 388.859375 L 159.175781 265.9375 L 173.308594 142.273438 L 187.441406 288.679688 L 201.578125 348.6875 L 215.710938 330.050781 L 229.84375 296.941406 L 243.976562 298.371094 L 258.113281 308.128906 L 272.246094 300.828125 L 286.378906 238.800781 L 300.511719 74.113281 L 314.648438 90.015625 L 328.78125 193.367188 L 342.914062 270.820312 L 357.046875 321.855469 L 371.179688 366.269531 L 385.316406 404.320312 \"/>\n",
       "<path style=\"fill:none;stroke-width:1.066978;stroke-linecap:butt;stroke-linejoin:round;stroke:rgb(32.54902%,70.588235%,0%);stroke-opacity:1;stroke-miterlimit:1;\" d=\"M 60.238281 382.484375 L 74.375 402.527344 L 88.507812 415.585938 L 102.640625 436.449219 L 116.773438 447.957031 L 130.910156 447.480469 L 145.042969 437.875 L 159.175781 419.011719 L 173.308594 367.242188 L 187.441406 312.597656 L 201.578125 254.460938 L 215.710938 205.429688 L 229.84375 170.089844 L 243.976562 162.539062 L 258.113281 165.589844 L 272.246094 164.761719 L 286.378906 177.070312 L 300.511719 201.050781 L 314.648438 233.058594 L 328.78125 272.441406 L 342.914062 317.074219 L 357.046875 335.863281 L 371.179688 348.207031 L 385.316406 366.199219 \"/>\n",
       "<path style=\"fill:none;stroke-width:1.066978;stroke-linecap:butt;stroke-linejoin:round;stroke:rgb(0%,75.294118%,58.039216%);stroke-opacity:1;stroke-miterlimit:1;\" d=\"M 60.238281 382.71875 L 74.375 395.230469 L 88.507812 407.175781 L 102.640625 430.210938 L 116.773438 446.667969 L 130.910156 447.175781 L 145.042969 442.789062 L 159.175781 428.730469 L 173.308594 390.378906 L 187.441406 335.453125 L 201.578125 258.347656 L 215.710938 215.429688 L 229.84375 171.917969 L 243.976562 170.425781 L 258.113281 178.96875 L 272.246094 186.296875 L 286.378906 185.1875 L 300.511719 212.867188 L 314.648438 247.734375 L 328.78125 283.363281 L 342.914062 326.773438 L 357.046875 357.289062 L 371.179688 382.621094 L 385.316406 406.972656 \"/>\n",
       "<path style=\"fill:none;stroke-width:1.066978;stroke-linecap:butt;stroke-linejoin:round;stroke:rgb(0%,71.372549%,92.156863%);stroke-opacity:1;stroke-miterlimit:1;\" d=\"M 60.238281 424.070312 L 74.375 440.730469 L 88.507812 446.824219 L 102.640625 449.910156 L 116.773438 449.753906 L 130.910156 434.164062 L 145.042969 372.558594 L 159.175781 223.46875 L 173.308594 84.554688 L 187.441406 271.730469 L 201.578125 353.574219 L 215.710938 333.722656 L 229.84375 302.980469 L 243.976562 305.308594 L 258.113281 319.570312 L 272.246094 305.277344 L 286.378906 237.402344 L 300.511719 55.257812 L 314.648438 74.335938 L 328.78125 182.882812 L 342.914062 250.539062 L 357.046875 304.214844 L 371.179688 342.484375 L 385.316406 380.636719 \"/>\n",
       "<path style=\"fill:none;stroke-width:1.066978;stroke-linecap:butt;stroke-linejoin:round;stroke:rgb(64.705882%,54.117647%,100%);stroke-opacity:1;stroke-miterlimit:1;\" d=\"M 60.238281 432.871094 L 74.375 444.269531 L 88.507812 448.605469 L 102.640625 450.605469 L 116.773438 449.867188 L 130.910156 435.265625 L 145.042969 373.269531 L 159.175781 227.28125 L 173.308594 97.242188 L 187.441406 275.070312 L 201.578125 356.09375 L 215.710938 343.183594 L 229.84375 315.628906 L 243.976562 315.46875 L 258.113281 326.519531 L 272.246094 312.511719 L 286.378906 237.097656 L 300.511719 42.460938 L 314.648438 62.644531 L 328.78125 186.304688 L 342.914062 262.421875 L 357.046875 313.019531 L 371.179688 353.789062 L 385.316406 396.183594 \"/>\n",
       "<path style=\"fill:none;stroke-width:1.066978;stroke-linecap:butt;stroke-linejoin:round;stroke:rgb(98.431373%,38.039216%,84.313725%);stroke-opacity:1;stroke-miterlimit:1;\" d=\"M 60.238281 427.628906 L 74.375 442.15625 L 88.507812 447.839844 L 102.640625 450.050781 L 116.773438 449.988281 L 130.910156 434.285156 L 145.042969 372.28125 L 159.175781 224.042969 L 173.308594 84.742188 L 187.441406 273.5 L 201.578125 354.078125 L 215.710938 338.734375 L 229.84375 307.222656 L 243.976562 313.324219 L 258.113281 324.871094 L 272.246094 316.753906 L 286.378906 247.480469 L 300.511719 65.988281 L 314.648438 80.433594 L 328.78125 183.597656 L 342.914062 259.800781 L 357.046875 306.640625 L 371.179688 345.164062 L 385.316406 390.46875 \"/>\n",
       "<g style=\"fill:rgb(30.196078%,30.196078%,30.196078%);fill-opacity:1;\">\n",
       "  <use xlink:href=\"#glyph0-1\" x=\"33.054688\" y=\"456.410156\"/>\n",
       "</g>\n",
       "<g style=\"fill:rgb(30.196078%,30.196078%,30.196078%);fill-opacity:1;\">\n",
       "  <use xlink:href=\"#glyph0-2\" x=\"21.054688\" y=\"305.28125\"/>\n",
       "  <use xlink:href=\"#glyph0-1\" x=\"26.78125\" y=\"305.28125\"/>\n",
       "  <use xlink:href=\"#glyph0-1\" x=\"32.507812\" y=\"305.28125\"/>\n",
       "</g>\n",
       "<g style=\"fill:rgb(30.196078%,30.196078%,30.196078%);fill-opacity:1;\">\n",
       "  <use xlink:href=\"#glyph0-3\" x=\"21.054688\" y=\"154.152344\"/>\n",
       "  <use xlink:href=\"#glyph0-1\" x=\"26.78125\" y=\"154.152344\"/>\n",
       "  <use xlink:href=\"#glyph0-1\" x=\"32.507812\" y=\"154.152344\"/>\n",
       "</g>\n",
       "<path style=\"fill:none;stroke-width:1.066978;stroke-linecap:butt;stroke-linejoin:round;stroke:rgb(20%,20%,20%);stroke-opacity:1;stroke-miterlimit:10;\" d=\"M 41.246094 453.742188 L 43.984375 453.742188 \"/>\n",
       "<path style=\"fill:none;stroke-width:1.066978;stroke-linecap:butt;stroke-linejoin:round;stroke:rgb(20%,20%,20%);stroke-opacity:1;stroke-miterlimit:10;\" d=\"M 41.246094 302.613281 L 43.984375 302.613281 \"/>\n",
       "<path style=\"fill:none;stroke-width:1.066978;stroke-linecap:butt;stroke-linejoin:round;stroke:rgb(20%,20%,20%);stroke-opacity:1;stroke-miterlimit:10;\" d=\"M 41.246094 151.484375 L 43.984375 151.484375 \"/>\n",
       "<path style=\"fill:none;stroke-width:1.066978;stroke-linecap:butt;stroke-linejoin:round;stroke:rgb(20%,20%,20%);stroke-opacity:1;stroke-miterlimit:10;\" d=\"M 60.238281 473.753906 L 60.238281 471.015625 \"/>\n",
       "<path style=\"fill:none;stroke-width:1.066978;stroke-linecap:butt;stroke-linejoin:round;stroke:rgb(20%,20%,20%);stroke-opacity:1;stroke-miterlimit:10;\" d=\"M 130.910156 473.753906 L 130.910156 471.015625 \"/>\n",
       "<path style=\"fill:none;stroke-width:1.066978;stroke-linecap:butt;stroke-linejoin:round;stroke:rgb(20%,20%,20%);stroke-opacity:1;stroke-miterlimit:10;\" d=\"M 201.578125 473.753906 L 201.578125 471.015625 \"/>\n",
       "<path style=\"fill:none;stroke-width:1.066978;stroke-linecap:butt;stroke-linejoin:round;stroke:rgb(20%,20%,20%);stroke-opacity:1;stroke-miterlimit:10;\" d=\"M 272.246094 473.753906 L 272.246094 471.015625 \"/>\n",
       "<path style=\"fill:none;stroke-width:1.066978;stroke-linecap:butt;stroke-linejoin:round;stroke:rgb(20%,20%,20%);stroke-opacity:1;stroke-miterlimit:10;\" d=\"M 342.914062 473.753906 L 342.914062 471.015625 \"/>\n",
       "<g style=\"fill:rgb(30.196078%,30.196078%,30.196078%);fill-opacity:1;\">\n",
       "  <use xlink:href=\"#glyph0-1\" x=\"57.238281\" y=\"482.113281\"/>\n",
       "</g>\n",
       "<g style=\"fill:rgb(30.196078%,30.196078%,30.196078%);fill-opacity:1;\">\n",
       "  <use xlink:href=\"#glyph0-4\" x=\"127.910156\" y=\"482.113281\"/>\n",
       "</g>\n",
       "<g style=\"fill:rgb(30.196078%,30.196078%,30.196078%);fill-opacity:1;\">\n",
       "  <use xlink:href=\"#glyph0-5\" x=\"195.578125\" y=\"482.113281\"/>\n",
       "  <use xlink:href=\"#glyph0-1\" x=\"201.304688\" y=\"482.113281\"/>\n",
       "</g>\n",
       "<g style=\"fill:rgb(30.196078%,30.196078%,30.196078%);fill-opacity:1;\">\n",
       "  <use xlink:href=\"#glyph0-5\" x=\"266.246094\" y=\"482.113281\"/>\n",
       "  <use xlink:href=\"#glyph0-4\" x=\"271.972656\" y=\"482.113281\"/>\n",
       "</g>\n",
       "<g style=\"fill:rgb(30.196078%,30.196078%,30.196078%);fill-opacity:1;\">\n",
       "  <use xlink:href=\"#glyph0-2\" x=\"336.914062\" y=\"482.113281\"/>\n",
       "  <use xlink:href=\"#glyph0-1\" x=\"342.640625\" y=\"482.113281\"/>\n",
       "</g>\n",
       "<g style=\"fill:rgb(0%,0%,0%);fill-opacity:1;\">\n",
       "  <use xlink:href=\"#glyph1-1\" x=\"190.277344\" y=\"495.539062\"/>\n",
       "  <use xlink:href=\"#glyph1-2\" x=\"198.548828\" y=\"495.539062\"/>\n",
       "  <use xlink:href=\"#glyph1-3\" x=\"205.279297\" y=\"495.539062\"/>\n",
       "  <use xlink:href=\"#glyph1-4\" x=\"212.250977\" y=\"495.539062\"/>\n",
       "  <use xlink:href=\"#glyph1-5\" x=\"216.773438\" y=\"495.539062\"/>\n",
       "  <use xlink:href=\"#glyph1-2\" x=\"220.270508\" y=\"495.539062\"/>\n",
       "  <use xlink:href=\"#glyph1-6\" x=\"227.000977\" y=\"495.539062\"/>\n",
       "  <use xlink:href=\"#glyph1-5\" x=\"230.874023\" y=\"495.539062\"/>\n",
       "  <use xlink:href=\"#glyph1-7\" x=\"234.371094\" y=\"495.539062\"/>\n",
       "  <use xlink:href=\"#glyph1-8\" x=\"241.353516\" y=\"495.539062\"/>\n",
       "  <use xlink:href=\"#glyph1-9\" x=\"248.094727\" y=\"495.539062\"/>\n",
       "</g>\n",
       "<g style=\"fill:rgb(0%,0%,0%);fill-opacity:1;\">\n",
       "  <use xlink:href=\"#glyph2-1\" x=\"15.882812\" y=\"286.535156\"/>\n",
       "  <use xlink:href=\"#glyph2-2\" x=\"15.882812\" y=\"279.654297\"/>\n",
       "  <use xlink:href=\"#glyph2-3\" x=\"15.882813\" y=\"273.144531\"/>\n",
       "  <use xlink:href=\"#glyph2-4\" x=\"15.882813\" y=\"266.376953\"/>\n",
       "  <use xlink:href=\"#glyph2-5\" x=\"15.882813\" y=\"261.854492\"/>\n",
       "  <use xlink:href=\"#glyph2-6\" x=\"15.882813\" y=\"255.113281\"/>\n",
       "  <use xlink:href=\"#glyph2-3\" x=\"15.882813\" y=\"248.130859\"/>\n",
       "  <use xlink:href=\"#glyph2-7\" x=\"15.882813\" y=\"241.363281\"/>\n",
       "  <use xlink:href=\"#glyph2-8\" x=\"15.882813\" y=\"237.866211\"/>\n",
       "  <use xlink:href=\"#glyph2-9\" x=\"15.882813\" y=\"231.818359\"/>\n",
       "  <use xlink:href=\"#glyph2-10\" x=\"15.882813\" y=\"225.087891\"/>\n",
       "  <use xlink:href=\"#glyph2-11\" x=\"15.882813\" y=\"218.116211\"/>\n",
       "  <use xlink:href=\"#glyph2-12\" x=\"15.882813\" y=\"211.144531\"/>\n",
       "</g>\n",
       "<path style=\" stroke:none;fill-rule:nonzero;fill:rgb(100%,100%,100%);fill-opacity:1;\" d=\"M 410.074219 313.425781 L 490.019531 313.425781 L 490.019531 179.640625 L 410.074219 179.640625 Z M 410.074219 313.425781 \"/>\n",
       "<path style=\"fill-rule:nonzero;fill:rgb(94.901961%,94.901961%,94.901961%);fill-opacity:1;stroke-width:1.066978;stroke-linecap:round;stroke-linejoin:round;stroke:rgb(100%,100%,100%);stroke-opacity:1;stroke-miterlimit:10;\" d=\"M 414.324219 205.496094 L 431.605469 205.496094 L 431.605469 188.214844 L 414.324219 188.214844 Z M 414.324219 205.496094 \"/>\n",
       "<path style=\"fill:none;stroke-width:1.066978;stroke-linecap:butt;stroke-linejoin:round;stroke:rgb(97.254902%,46.27451%,42.745098%);stroke-opacity:1;stroke-miterlimit:10;\" d=\"M 416.050781 196.855469 L 429.875 196.855469 \"/>\n",
       "<path style=\"fill-rule:nonzero;fill:rgb(94.901961%,94.901961%,94.901961%);fill-opacity:1;stroke-width:1.066978;stroke-linecap:round;stroke-linejoin:round;stroke:rgb(100%,100%,100%);stroke-opacity:1;stroke-miterlimit:10;\" d=\"M 414.324219 222.773438 L 431.605469 222.773438 L 431.605469 205.492188 L 414.324219 205.492188 Z M 414.324219 222.773438 \"/>\n",
       "<path style=\"fill:none;stroke-width:1.066978;stroke-linecap:butt;stroke-linejoin:round;stroke:rgb(76.862745%,60.392157%,0%);stroke-opacity:1;stroke-miterlimit:10;\" d=\"M 416.050781 214.132812 L 429.875 214.132812 \"/>\n",
       "<path style=\"fill-rule:nonzero;fill:rgb(94.901961%,94.901961%,94.901961%);fill-opacity:1;stroke-width:1.066978;stroke-linecap:round;stroke-linejoin:round;stroke:rgb(100%,100%,100%);stroke-opacity:1;stroke-miterlimit:10;\" d=\"M 414.324219 240.054688 L 431.605469 240.054688 L 431.605469 222.773438 L 414.324219 222.773438 Z M 414.324219 240.054688 \"/>\n",
       "<path style=\"fill:none;stroke-width:1.066978;stroke-linecap:butt;stroke-linejoin:round;stroke:rgb(32.54902%,70.588235%,0%);stroke-opacity:1;stroke-miterlimit:10;\" d=\"M 416.050781 231.414062 L 429.875 231.414062 \"/>\n",
       "<path style=\"fill-rule:nonzero;fill:rgb(94.901961%,94.901961%,94.901961%);fill-opacity:1;stroke-width:1.066978;stroke-linecap:round;stroke-linejoin:round;stroke:rgb(100%,100%,100%);stroke-opacity:1;stroke-miterlimit:10;\" d=\"M 414.324219 257.335938 L 431.605469 257.335938 L 431.605469 240.054688 L 414.324219 240.054688 Z M 414.324219 257.335938 \"/>\n",
       "<path style=\"fill:none;stroke-width:1.066978;stroke-linecap:butt;stroke-linejoin:round;stroke:rgb(0%,75.294118%,58.039216%);stroke-opacity:1;stroke-miterlimit:10;\" d=\"M 416.050781 248.695312 L 429.875 248.695312 \"/>\n",
       "<path style=\"fill-rule:nonzero;fill:rgb(94.901961%,94.901961%,94.901961%);fill-opacity:1;stroke-width:1.066978;stroke-linecap:round;stroke-linejoin:round;stroke:rgb(100%,100%,100%);stroke-opacity:1;stroke-miterlimit:10;\" d=\"M 414.324219 274.613281 L 431.605469 274.613281 L 431.605469 257.332031 L 414.324219 257.332031 Z M 414.324219 274.613281 \"/>\n",
       "<path style=\"fill:none;stroke-width:1.066978;stroke-linecap:butt;stroke-linejoin:round;stroke:rgb(0%,71.372549%,92.156863%);stroke-opacity:1;stroke-miterlimit:10;\" d=\"M 416.050781 265.972656 L 429.875 265.972656 \"/>\n",
       "<path style=\"fill-rule:nonzero;fill:rgb(94.901961%,94.901961%,94.901961%);fill-opacity:1;stroke-width:1.066978;stroke-linecap:round;stroke-linejoin:round;stroke:rgb(100%,100%,100%);stroke-opacity:1;stroke-miterlimit:10;\" d=\"M 414.324219 291.894531 L 431.605469 291.894531 L 431.605469 274.613281 L 414.324219 274.613281 Z M 414.324219 291.894531 \"/>\n",
       "<path style=\"fill:none;stroke-width:1.066978;stroke-linecap:butt;stroke-linejoin:round;stroke:rgb(64.705882%,54.117647%,100%);stroke-opacity:1;stroke-miterlimit:10;\" d=\"M 416.050781 283.253906 L 429.875 283.253906 \"/>\n",
       "<path style=\"fill-rule:nonzero;fill:rgb(94.901961%,94.901961%,94.901961%);fill-opacity:1;stroke-width:1.066978;stroke-linecap:round;stroke-linejoin:round;stroke:rgb(100%,100%,100%);stroke-opacity:1;stroke-miterlimit:10;\" d=\"M 414.324219 309.175781 L 431.605469 309.175781 L 431.605469 291.894531 L 414.324219 291.894531 Z M 414.324219 309.175781 \"/>\n",
       "<path style=\"fill:none;stroke-width:1.066978;stroke-linecap:butt;stroke-linejoin:round;stroke:rgb(98.431373%,38.039216%,84.313725%);stroke-opacity:1;stroke-miterlimit:10;\" d=\"M 416.050781 300.535156 L 429.875 300.535156 \"/>\n",
       "<g style=\"fill:rgb(0%,0%,0%);fill-opacity:1;\">\n",
       "  <use xlink:href=\"#glyph0-6\" x=\"433.765625\" y=\"199.523438\"/>\n",
       "  <use xlink:href=\"#glyph0-7\" x=\"438.288086\" y=\"199.523438\"/>\n",
       "  <use xlink:href=\"#glyph0-8\" x=\"441.988281\" y=\"199.523438\"/>\n",
       "  <use xlink:href=\"#glyph0-9\" x=\"444.489258\" y=\"199.523438\"/>\n",
       "  <use xlink:href=\"#glyph0-10\" x=\"450.202148\" y=\"199.523438\"/>\n",
       "  <use xlink:href=\"#glyph0-11\" x=\"455.717773\" y=\"199.523438\"/>\n",
       "</g>\n",
       "<g style=\"fill:rgb(0%,0%,0%);fill-opacity:1;\">\n",
       "  <use xlink:href=\"#glyph0-12\" x=\"433.765625\" y=\"216.800781\"/>\n",
       "  <use xlink:href=\"#glyph0-13\" x=\"441.53125\" y=\"216.800781\"/>\n",
       "  <use xlink:href=\"#glyph0-14\" x=\"447.038086\" y=\"216.800781\"/>\n",
       "  <use xlink:href=\"#glyph0-9\" x=\"452.742188\" y=\"216.800781\"/>\n",
       "  <use xlink:href=\"#glyph0-10\" x=\"458.455078\" y=\"216.800781\"/>\n",
       "  <use xlink:href=\"#glyph0-11\" x=\"463.970703\" y=\"216.800781\"/>\n",
       "</g>\n",
       "<g style=\"fill:rgb(0%,0%,0%);fill-opacity:1;\">\n",
       "  <use xlink:href=\"#glyph0-15\" x=\"433.765625\" y=\"234.082031\"/>\n",
       "  <use xlink:href=\"#glyph0-10\" x=\"439.478516\" y=\"234.082031\"/>\n",
       "  <use xlink:href=\"#glyph0-16\" x=\"444.994141\" y=\"234.082031\"/>\n",
       "  <use xlink:href=\"#glyph0-17\" x=\"448.523438\" y=\"234.082031\"/>\n",
       "  <use xlink:href=\"#glyph0-7\" x=\"454.227539\" y=\"234.082031\"/>\n",
       "  <use xlink:href=\"#glyph0-9\" x=\"457.769531\" y=\"234.082031\"/>\n",
       "  <use xlink:href=\"#glyph0-10\" x=\"463.482422\" y=\"234.082031\"/>\n",
       "  <use xlink:href=\"#glyph0-11\" x=\"468.998047\" y=\"234.082031\"/>\n",
       "</g>\n",
       "<g style=\"fill:rgb(0%,0%,0%);fill-opacity:1;\">\n",
       "  <use xlink:href=\"#glyph0-15\" x=\"433.765625\" y=\"251.363281\"/>\n",
       "  <use xlink:href=\"#glyph0-17\" x=\"439.478516\" y=\"251.363281\"/>\n",
       "  <use xlink:href=\"#glyph0-14\" x=\"445.182617\" y=\"251.363281\"/>\n",
       "  <use xlink:href=\"#glyph0-9\" x=\"450.886719\" y=\"251.363281\"/>\n",
       "  <use xlink:href=\"#glyph0-10\" x=\"456.599609\" y=\"251.363281\"/>\n",
       "  <use xlink:href=\"#glyph0-11\" x=\"462.115234\" y=\"251.363281\"/>\n",
       "</g>\n",
       "<g style=\"fill:rgb(0%,0%,0%);fill-opacity:1;\">\n",
       "  <use xlink:href=\"#glyph0-18\" x=\"433.765625\" y=\"268.640625\"/>\n",
       "  <use xlink:href=\"#glyph0-19\" x=\"439.263672\" y=\"268.640625\"/>\n",
       "  <use xlink:href=\"#glyph0-17\" x=\"444.967773\" y=\"268.640625\"/>\n",
       "  <use xlink:href=\"#glyph0-7\" x=\"450.671875\" y=\"268.640625\"/>\n",
       "  <use xlink:href=\"#glyph0-20\" x=\"454.37207\" y=\"268.640625\"/>\n",
       "  <use xlink:href=\"#glyph0-9\" x=\"459.061523\" y=\"268.640625\"/>\n",
       "  <use xlink:href=\"#glyph0-10\" x=\"464.774414\" y=\"268.640625\"/>\n",
       "  <use xlink:href=\"#glyph0-11\" x=\"470.290039\" y=\"268.640625\"/>\n",
       "</g>\n",
       "<g style=\"fill:rgb(0%,0%,0%);fill-opacity:1;\">\n",
       "  <use xlink:href=\"#glyph0-18\" x=\"433.765625\" y=\"285.921875\"/>\n",
       "  <use xlink:href=\"#glyph0-17\" x=\"437.897461\" y=\"285.921875\"/>\n",
       "  <use xlink:href=\"#glyph0-21\" x=\"443.601562\" y=\"285.921875\"/>\n",
       "  <use xlink:href=\"#glyph0-20\" x=\"449.138672\" y=\"285.921875\"/>\n",
       "  <use xlink:href=\"#glyph0-9\" x=\"453.828125\" y=\"285.921875\"/>\n",
       "  <use xlink:href=\"#glyph0-10\" x=\"459.541016\" y=\"285.921875\"/>\n",
       "  <use xlink:href=\"#glyph0-11\" x=\"465.056641\" y=\"285.921875\"/>\n",
       "</g>\n",
       "<g style=\"fill:rgb(0%,0%,0%);fill-opacity:1;\">\n",
       "  <use xlink:href=\"#glyph0-22\" x=\"433.765625\" y=\"303.203125\"/>\n",
       "  <use xlink:href=\"#glyph0-21\" x=\"442.137695\" y=\"303.203125\"/>\n",
       "  <use xlink:href=\"#glyph0-9\" x=\"447.674805\" y=\"303.203125\"/>\n",
       "  <use xlink:href=\"#glyph0-14\" x=\"453.387695\" y=\"303.203125\"/>\n",
       "  <use xlink:href=\"#glyph0-21\" x=\"459.091797\" y=\"303.203125\"/>\n",
       "  <use xlink:href=\"#glyph0-20\" x=\"464.628906\" y=\"303.203125\"/>\n",
       "  <use xlink:href=\"#glyph0-9\" x=\"469.318359\" y=\"303.203125\"/>\n",
       "  <use xlink:href=\"#glyph0-10\" x=\"475.03125\" y=\"303.203125\"/>\n",
       "  <use xlink:href=\"#glyph0-11\" x=\"480.546875\" y=\"303.203125\"/>\n",
       "</g>\n",
       "<g style=\"fill:rgb(0%,0%,0%);fill-opacity:1;\">\n",
       "  <use xlink:href=\"#glyph3-1\" x=\"112.777344\" y=\"14.732422\"/>\n",
       "  <use xlink:href=\"#glyph3-2\" x=\"122.292969\" y=\"14.732422\"/>\n",
       "  <use xlink:href=\"#glyph3-3\" x=\"129.066406\" y=\"14.732422\"/>\n",
       "  <use xlink:href=\"#glyph3-4\" x=\"137.064453\" y=\"14.732422\"/>\n",
       "  <use xlink:href=\"#glyph3-5\" x=\"145.316406\" y=\"14.732422\"/>\n",
       "  <use xlink:href=\"#glyph3-6\" x=\"149.449219\" y=\"14.732422\"/>\n",
       "  <use xlink:href=\"#glyph3-7\" x=\"157.701172\" y=\"14.732422\"/>\n",
       "  <use xlink:href=\"#glyph3-8\" x=\"161.313477\" y=\"14.732422\"/>\n",
       "  <use xlink:href=\"#glyph3-3\" x=\"168.378906\" y=\"14.732422\"/>\n",
       "  <use xlink:href=\"#glyph3-2\" x=\"176.376953\" y=\"14.732422\"/>\n",
       "  <use xlink:href=\"#glyph3-5\" x=\"183.150391\" y=\"14.732422\"/>\n",
       "  <use xlink:href=\"#glyph3-6\" x=\"187.283203\" y=\"14.732422\"/>\n",
       "  <use xlink:href=\"#glyph3-9\" x=\"195.535156\" y=\"14.732422\"/>\n",
       "  <use xlink:href=\"#glyph3-5\" x=\"203.228516\" y=\"14.732422\"/>\n",
       "  <use xlink:href=\"#glyph3-10\" x=\"207.361328\" y=\"14.732422\"/>\n",
       "  <use xlink:href=\"#glyph3-11\" x=\"215.600586\" y=\"14.732422\"/>\n",
       "  <use xlink:href=\"#glyph3-12\" x=\"223.554688\" y=\"14.732422\"/>\n",
       "  <use xlink:href=\"#glyph3-13\" x=\"231.793945\" y=\"14.732422\"/>\n",
       "  <use xlink:href=\"#glyph3-5\" x=\"237.138672\" y=\"14.732422\"/>\n",
       "  <use xlink:href=\"#glyph3-14\" x=\"241.271484\" y=\"14.732422\"/>\n",
       "  <use xlink:href=\"#glyph3-15\" x=\"249.238281\" y=\"14.732422\"/>\n",
       "  <use xlink:href=\"#glyph3-4\" x=\"257.477539\" y=\"14.732422\"/>\n",
       "  <use xlink:href=\"#glyph3-5\" x=\"265.729492\" y=\"14.732422\"/>\n",
       "  <use xlink:href=\"#glyph3-16\" x=\"269.862305\" y=\"14.732422\"/>\n",
       "  <use xlink:href=\"#glyph3-3\" x=\"280.495117\" y=\"14.732422\"/>\n",
       "  <use xlink:href=\"#glyph3-3\" x=\"288.493164\" y=\"14.732422\"/>\n",
       "  <use xlink:href=\"#glyph3-8\" x=\"296.491211\" y=\"14.732422\"/>\n",
       "  <use xlink:href=\"#glyph3-5\" x=\"304.019531\" y=\"14.732422\"/>\n",
       "  <use xlink:href=\"#glyph3-4\" x=\"308.152344\" y=\"14.732422\"/>\n",
       "  <use xlink:href=\"#glyph3-14\" x=\"316.404297\" y=\"14.732422\"/>\n",
       "  <use xlink:href=\"#glyph3-9\" x=\"324.371094\" y=\"14.732422\"/>\n",
       "</g>\n",
       "</g>\n",
       "</svg>\n"
      ],
      "text/plain": [
       "plot without title"
      ]
     },
     "metadata": {
      "image/svg+xml": {
       "isolated": true
      }
     },
     "output_type": "display_data"
    }
   ],
   "source": [
    "ggplot(r_df_rentals_hour_weekday, aes(hour, `avg(count)`, group = weekday,\n",
    "                                      colour = weekday)) +\n",
    "      geom_line() +\n",
    "      xlab('Hour of day') +\n",
    "      ylab('Average count') +\n",
    "      ggtitle('Used bikes by hour and week day') +\n",
    "      theme(legend.title=element_blank())"
   ]
  }
 ],
 "metadata": {
  "kernelspec": {
   "display_name": "R",
   "language": "R",
   "name": "ir"
  },
  "language_info": {
   "codemirror_mode": "r",
   "file_extension": ".r",
   "mimetype": "text/x-r-source",
   "name": "R",
   "pygments_lexer": "r",
   "version": "3.3.0"
  }
 },
 "nbformat": 4,
 "nbformat_minor": 0
}
